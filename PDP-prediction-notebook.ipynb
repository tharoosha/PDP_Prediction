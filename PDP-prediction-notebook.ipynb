{
 "cells": [
  {
   "cell_type": "markdown",
   "id": "b6161fc0",
   "metadata": {
    "papermill": {
     "duration": 0.027615,
     "end_time": "2023-05-15T10:26:42.976731",
     "exception": false,
     "start_time": "2023-05-15T10:26:42.949116",
     "status": "completed"
    },
    "tags": []
   },
   "source": [
    "# Parkinson's Disease Progression Prediction with TensorFlow Decision Forests\n",
    "\n",
    "This notebook walks you through how to train a baseline Random Forest model using TensorFlow Decision Forests on the AMP®-Parkinson's Disease Progression Prediction dataset made available for this competition. The model must predict MDS-UPDR scores, which measure progression in patients with Parkinson's disease. \n",
    "\n",
    "Roughly, the code will look as follows:\n",
    "\n",
    "```\n",
    "import tensorflow_decision_forests as tfdf\n",
    "import pandas as pd\n",
    "\n",
    "dataset = pd.read_csv(\"project/dataset.csv\")\n",
    "tf_dataset = tfdf.keras.pd_dataframe_to_tf_dataset(dataset, label=\"my_label\")\n",
    "\n",
    "model = tfdf.keras.RandomForestModel()\n",
    "model.fit(tf_dataset)\n",
    "\n",
    "print(model.summary())\n",
    "```\n",
    "\n",
    "This notebook will also show how to do some pre-processing of the data to make it easier for an ML models to learn from it.\n",
    "\n",
    "You'll also learn how to implement and use the evaluation metric used on this competition: SMAPE.\n",
    "\n",
    "Decision Forests are a family of tree-based models including Random Forests and Gradient Boosted Trees. They are the best place to start when working with tabular data, and will often outperform (or provide a strong baseline) before you begin experimenting with neural networks."
   ]
  },
  {
   "cell_type": "markdown",
   "id": "f81f6168",
   "metadata": {
    "papermill": {
     "duration": 0.02767,
     "end_time": "2023-05-15T10:26:43.031495",
     "exception": false,
     "start_time": "2023-05-15T10:26:43.003825",
     "status": "completed"
    },
    "tags": []
   },
   "source": [
    "# Import the Required Libraries"
   ]
  },
  {
   "cell_type": "code",
   "execution_count": 1,
   "id": "984cc281",
   "metadata": {
    "execution": {
     "iopub.execute_input": "2023-05-15T10:26:43.086710Z",
     "iopub.status.busy": "2023-05-15T10:26:43.086150Z",
     "iopub.status.idle": "2023-05-15T10:26:53.997510Z",
     "shell.execute_reply": "2023-05-15T10:26:53.996209Z"
    },
    "papermill": {
     "duration": 10.942897,
     "end_time": "2023-05-15T10:26:54.001156",
     "exception": false,
     "start_time": "2023-05-15T10:26:43.058259",
     "status": "completed"
    },
    "tags": []
   },
   "outputs": [
    {
     "name": "stderr",
     "output_type": "stream",
     "text": [
      "/opt/conda/lib/python3.10/site-packages/scipy/__init__.py:146: UserWarning: A NumPy version >=1.16.5 and <1.23.0 is required for this version of SciPy (detected version 1.23.5\n",
      "  warnings.warn(f\"A NumPy version >={np_minversion} and <{np_maxversion}\"\n"
     ]
    }
   ],
   "source": [
    "import tensorflow as tf\n",
    "import tensorflow_decision_forests as tfdf\n",
    "import matplotlib.pyplot as plt\n",
    "import seaborn as sns\n",
    "import pandas as pd\n",
    "import numpy as np\n",
    "import math"
   ]
  },
  {
   "cell_type": "code",
   "execution_count": 2,
   "id": "b2784868",
   "metadata": {
    "execution": {
     "iopub.execute_input": "2023-05-15T10:26:54.064176Z",
     "iopub.status.busy": "2023-05-15T10:26:54.063435Z",
     "iopub.status.idle": "2023-05-15T10:26:54.069496Z",
     "shell.execute_reply": "2023-05-15T10:26:54.068138Z"
    },
    "papermill": {
     "duration": 0.041642,
     "end_time": "2023-05-15T10:26:54.072867",
     "exception": false,
     "start_time": "2023-05-15T10:26:54.031225",
     "status": "completed"
    },
    "tags": []
   },
   "outputs": [
    {
     "name": "stdout",
     "output_type": "stream",
     "text": [
      "TensorFlow Decision Forests v1.2.0\n",
      "TensorFlow v2.11.0\n"
     ]
    }
   ],
   "source": [
    "print(\"TensorFlow Decision Forests v\" + tfdf.__version__)\n",
    "print(\"TensorFlow v\" + tf.__version__)"
   ]
  },
  {
   "cell_type": "markdown",
   "id": "5d884246",
   "metadata": {
    "papermill": {
     "duration": 0.026759,
     "end_time": "2023-05-15T10:26:54.126385",
     "exception": false,
     "start_time": "2023-05-15T10:26:54.099626",
     "status": "completed"
    },
    "tags": []
   },
   "source": [
    "# Load the Dataset"
   ]
  },
  {
   "cell_type": "markdown",
   "id": "ee145f4e",
   "metadata": {
    "papermill": {
     "duration": 0.026814,
     "end_time": "2023-05-15T10:26:54.181148",
     "exception": false,
     "start_time": "2023-05-15T10:26:54.154334",
     "status": "completed"
    },
    "tags": []
   },
   "source": [
    "First, let us load the dataset using Pandas."
   ]
  },
  {
   "cell_type": "code",
   "execution_count": 3,
   "id": "e1c5b88b",
   "metadata": {
    "execution": {
     "iopub.execute_input": "2023-05-15T10:26:54.236431Z",
     "iopub.status.busy": "2023-05-15T10:26:54.236013Z",
     "iopub.status.idle": "2023-05-15T10:26:56.054900Z",
     "shell.execute_reply": "2023-05-15T10:26:56.053576Z"
    },
    "papermill": {
     "duration": 1.849919,
     "end_time": "2023-05-15T10:26:56.057905",
     "exception": false,
     "start_time": "2023-05-15T10:26:54.207986",
     "status": "completed"
    },
    "tags": []
   },
   "outputs": [],
   "source": [
    "# Load a dataset into a Pandas DataFrame\n",
    "train_proteins = pd.read_csv(\"/kaggle/input/amp-parkinsons-disease-progression-prediction/train_proteins.csv\")\n",
    "train_peptides = pd.read_csv(\"/kaggle/input/amp-parkinsons-disease-progression-prediction/train_peptides.csv\")\n",
    "train_clinical = pd.read_csv(\"/kaggle/input/amp-parkinsons-disease-progression-prediction/train_clinical_data.csv\")"
   ]
  },
  {
   "cell_type": "markdown",
   "id": "67246fd4",
   "metadata": {
    "papermill": {
     "duration": 0.026751,
     "end_time": "2023-05-15T10:26:56.112921",
     "exception": false,
     "start_time": "2023-05-15T10:26:56.086170",
     "status": "completed"
    },
    "tags": []
   },
   "source": [
    "We will now examine each of these DataFrames in detail."
   ]
  },
  {
   "cell_type": "markdown",
   "id": "abc72d29",
   "metadata": {
    "papermill": {
     "duration": 0.025763,
     "end_time": "2023-05-15T10:26:56.165952",
     "exception": false,
     "start_time": "2023-05-15T10:26:56.140189",
     "status": "completed"
    },
    "tags": []
   },
   "source": [
    "UPDRS is a rating instrument used to measure the the severity and progression of Parkinson’s disease in patients.\n",
    "When a patient visits the clinic, the clinic will record how the patient scored on 4 parts of  UPDRS test. This data can be found in `train_clinical`. The ratings for the the first 4 segments of UPDRS are available as `updrs_1`, `updrs_2`, `updrs_3` and `updrs_4` in `train_clinical`.\n",
    "Our goal is to train a model to predict these UPDRS ratings."
   ]
  },
  {
   "cell_type": "markdown",
   "id": "a6567ae2",
   "metadata": {
    "papermill": {
     "duration": 0.028139,
     "end_time": "2023-05-15T10:26:56.221269",
     "exception": false,
     "start_time": "2023-05-15T10:26:56.193130",
     "status": "completed"
    },
    "tags": []
   },
   "source": [
    "The Unified Parkinson's Disease Rating Scale (UPDRS) is a commonly used tool for evaluating the severity and progression of Parkinson's disease. It consists of different sections, each assessing specific aspects of the disease. The scale is divided into four main parts: UPDRS I, UPDRS II, UPDRS III, and UPDRS IV.\n",
    "\n",
    "**UPDRS I**: This section focuses on evaluating the non-motor aspects of Parkinson's disease, such as cognition, behavior, and mood. It includes questions related to mentation, behavior, and mood.\n",
    "\n",
    "**UPDRS II**: This section assesses activities of daily living (ADL) and evaluates the patient's functional abilities. It covers various aspects, including speech, swallowing, eating, dressing, hygiene, handwriting, and other tasks related to daily life.\n",
    "\n",
    "**UPDRS III**: This section is designed to assess motor function and provides a detailed evaluation of the motor symptoms associated with Parkinson's disease. It includes assessments of tremor, rigidity, bradykinesia (slowness of movement), postural instability, and gait.\n",
    "\n",
    "**UPDRS IV**: This section is concerned with complications of therapy, specifically assessing motor fluctuations and dyskinesias. Motor fluctuations refer to the variations in response to medication, leading to unpredictable changes in motor symptoms. Dyskinesias are abnormal involuntary movements that can be associated with long-term medication use.\n",
    "\n",
    "Each section of the UPDRS is scored independently, with higher scores indicating more severe symptoms or functional impairments. The total score of all sections combined provides an overall assessment of the individual's condition."
   ]
  },
  {
   "cell_type": "markdown",
   "id": "a1311667",
   "metadata": {
    "papermill": {
     "duration": 0.028113,
     "end_time": "2023-05-15T10:26:56.275348",
     "exception": false,
     "start_time": "2023-05-15T10:26:56.247235",
     "status": "completed"
    },
    "tags": []
   },
   "source": [
    "Let us examine the shape of `train_clinical` DataFrame."
   ]
  },
  {
   "cell_type": "code",
   "execution_count": 4,
   "id": "079dbbc0",
   "metadata": {
    "execution": {
     "iopub.execute_input": "2023-05-15T10:26:56.333873Z",
     "iopub.status.busy": "2023-05-15T10:26:56.333441Z",
     "iopub.status.idle": "2023-05-15T10:26:56.339336Z",
     "shell.execute_reply": "2023-05-15T10:26:56.337994Z"
    },
    "papermill": {
     "duration": 0.037295,
     "end_time": "2023-05-15T10:26:56.341808",
     "exception": false,
     "start_time": "2023-05-15T10:26:56.304513",
     "status": "completed"
    },
    "tags": []
   },
   "outputs": [
    {
     "name": "stdout",
     "output_type": "stream",
     "text": [
      "clinical dataset shape:   (2615, 8)\n"
     ]
    }
   ],
   "source": [
    "print('clinical dataset shape:  ', train_clinical.shape)"
   ]
  },
  {
   "cell_type": "markdown",
   "id": "24159279",
   "metadata": {
    "papermill": {
     "duration": 0.0272,
     "end_time": "2023-05-15T10:26:56.396651",
     "exception": false,
     "start_time": "2023-05-15T10:26:56.369451",
     "status": "completed"
    },
    "tags": []
   },
   "source": [
    "The `train_clinical` data is composed of ***8* columns** and ***2615* entries**.  We can see all 8 dimensions of our dataset by printing out the first 5 entries using the following code:"
   ]
  },
  {
   "cell_type": "code",
   "execution_count": 5,
   "id": "e4c68649",
   "metadata": {
    "execution": {
     "iopub.execute_input": "2023-05-15T10:26:56.451612Z",
     "iopub.status.busy": "2023-05-15T10:26:56.451102Z",
     "iopub.status.idle": "2023-05-15T10:26:56.490900Z",
     "shell.execute_reply": "2023-05-15T10:26:56.489545Z"
    },
    "papermill": {
     "duration": 0.07032,
     "end_time": "2023-05-15T10:26:56.493622",
     "exception": false,
     "start_time": "2023-05-15T10:26:56.423302",
     "status": "completed"
    },
    "tags": []
   },
   "outputs": [
    {
     "data": {
      "text/html": [
       "<div>\n",
       "<style scoped>\n",
       "    .dataframe tbody tr th:only-of-type {\n",
       "        vertical-align: middle;\n",
       "    }\n",
       "\n",
       "    .dataframe tbody tr th {\n",
       "        vertical-align: top;\n",
       "    }\n",
       "\n",
       "    .dataframe thead th {\n",
       "        text-align: right;\n",
       "    }\n",
       "</style>\n",
       "<table border=\"1\" class=\"dataframe\">\n",
       "  <thead>\n",
       "    <tr style=\"text-align: right;\">\n",
       "      <th></th>\n",
       "      <th>visit_id</th>\n",
       "      <th>patient_id</th>\n",
       "      <th>visit_month</th>\n",
       "      <th>updrs_1</th>\n",
       "      <th>updrs_2</th>\n",
       "      <th>updrs_3</th>\n",
       "      <th>updrs_4</th>\n",
       "      <th>upd23b_clinical_state_on_medication</th>\n",
       "    </tr>\n",
       "  </thead>\n",
       "  <tbody>\n",
       "    <tr>\n",
       "      <th>0</th>\n",
       "      <td>55_0</td>\n",
       "      <td>55</td>\n",
       "      <td>0</td>\n",
       "      <td>10.0</td>\n",
       "      <td>6.0</td>\n",
       "      <td>15.0</td>\n",
       "      <td>NaN</td>\n",
       "      <td>NaN</td>\n",
       "    </tr>\n",
       "    <tr>\n",
       "      <th>1</th>\n",
       "      <td>55_3</td>\n",
       "      <td>55</td>\n",
       "      <td>3</td>\n",
       "      <td>10.0</td>\n",
       "      <td>7.0</td>\n",
       "      <td>25.0</td>\n",
       "      <td>NaN</td>\n",
       "      <td>NaN</td>\n",
       "    </tr>\n",
       "    <tr>\n",
       "      <th>2</th>\n",
       "      <td>55_6</td>\n",
       "      <td>55</td>\n",
       "      <td>6</td>\n",
       "      <td>8.0</td>\n",
       "      <td>10.0</td>\n",
       "      <td>34.0</td>\n",
       "      <td>NaN</td>\n",
       "      <td>NaN</td>\n",
       "    </tr>\n",
       "    <tr>\n",
       "      <th>3</th>\n",
       "      <td>55_9</td>\n",
       "      <td>55</td>\n",
       "      <td>9</td>\n",
       "      <td>8.0</td>\n",
       "      <td>9.0</td>\n",
       "      <td>30.0</td>\n",
       "      <td>0.0</td>\n",
       "      <td>On</td>\n",
       "    </tr>\n",
       "    <tr>\n",
       "      <th>4</th>\n",
       "      <td>55_12</td>\n",
       "      <td>55</td>\n",
       "      <td>12</td>\n",
       "      <td>10.0</td>\n",
       "      <td>10.0</td>\n",
       "      <td>41.0</td>\n",
       "      <td>0.0</td>\n",
       "      <td>On</td>\n",
       "    </tr>\n",
       "  </tbody>\n",
       "</table>\n",
       "</div>"
      ],
      "text/plain": [
       "  visit_id  patient_id  visit_month  updrs_1  updrs_2  updrs_3  updrs_4  \\\n",
       "0     55_0          55            0     10.0      6.0     15.0      NaN   \n",
       "1     55_3          55            3     10.0      7.0     25.0      NaN   \n",
       "2     55_6          55            6      8.0     10.0     34.0      NaN   \n",
       "3     55_9          55            9      8.0      9.0     30.0      0.0   \n",
       "4    55_12          55           12     10.0     10.0     41.0      0.0   \n",
       "\n",
       "  upd23b_clinical_state_on_medication  \n",
       "0                                 NaN  \n",
       "1                                 NaN  \n",
       "2                                 NaN  \n",
       "3                                  On  \n",
       "4                                  On  "
      ]
     },
     "execution_count": 5,
     "metadata": {},
     "output_type": "execute_result"
    }
   ],
   "source": [
    "# Display the first 5 examples\n",
    "train_clinical.head(5)"
   ]
  },
  {
   "cell_type": "markdown",
   "id": "758a8387",
   "metadata": {
    "papermill": {
     "duration": 0.02686,
     "end_time": "2023-05-15T10:26:56.546772",
     "exception": false,
     "start_time": "2023-05-15T10:26:56.519912",
     "status": "completed"
    },
    "tags": []
   },
   "source": [
    "The clinic will also record the patient's **NPX**(Normalized Protein eXpression) value for all the proteins relevant to Parkinson's disease during each visit. **NPX** is nothing but the value representing the protein concentration in shells. This data is available in the `train_proteins` DataFrame.\n",
    "\n",
    "Let us examine the shape of `train_proteins` DataFrame."
   ]
  },
  {
   "cell_type": "code",
   "execution_count": 6,
   "id": "c417dc80",
   "metadata": {
    "execution": {
     "iopub.execute_input": "2023-05-15T10:26:56.609319Z",
     "iopub.status.busy": "2023-05-15T10:26:56.608786Z",
     "iopub.status.idle": "2023-05-15T10:26:56.615190Z",
     "shell.execute_reply": "2023-05-15T10:26:56.614296Z"
    },
    "papermill": {
     "duration": 0.043014,
     "end_time": "2023-05-15T10:26:56.618999",
     "exception": false,
     "start_time": "2023-05-15T10:26:56.575985",
     "status": "completed"
    },
    "tags": []
   },
   "outputs": [
    {
     "name": "stdout",
     "output_type": "stream",
     "text": [
      "proteins dataset shape:   (232741, 5)\n"
     ]
    }
   ],
   "source": [
    "print('proteins dataset shape:  ', train_proteins.shape)"
   ]
  },
  {
   "cell_type": "markdown",
   "id": "d71836c8",
   "metadata": {
    "papermill": {
     "duration": 0.031873,
     "end_time": "2023-05-15T10:26:56.684042",
     "exception": false,
     "start_time": "2023-05-15T10:26:56.652169",
     "status": "completed"
    },
    "tags": []
   },
   "source": [
    "The `train_proteins` data is composed of ***5* columns** and ***232741* entries**. We can see all 5 dimensions of our dataset by printing out the first 5 entries using the following code:"
   ]
  },
  {
   "cell_type": "code",
   "execution_count": 7,
   "id": "c9acc91a",
   "metadata": {
    "execution": {
     "iopub.execute_input": "2023-05-15T10:26:56.740856Z",
     "iopub.status.busy": "2023-05-15T10:26:56.740416Z",
     "iopub.status.idle": "2023-05-15T10:26:56.752538Z",
     "shell.execute_reply": "2023-05-15T10:26:56.751569Z"
    },
    "papermill": {
     "duration": 0.042864,
     "end_time": "2023-05-15T10:26:56.754839",
     "exception": false,
     "start_time": "2023-05-15T10:26:56.711975",
     "status": "completed"
    },
    "tags": []
   },
   "outputs": [
    {
     "data": {
      "text/html": [
       "<div>\n",
       "<style scoped>\n",
       "    .dataframe tbody tr th:only-of-type {\n",
       "        vertical-align: middle;\n",
       "    }\n",
       "\n",
       "    .dataframe tbody tr th {\n",
       "        vertical-align: top;\n",
       "    }\n",
       "\n",
       "    .dataframe thead th {\n",
       "        text-align: right;\n",
       "    }\n",
       "</style>\n",
       "<table border=\"1\" class=\"dataframe\">\n",
       "  <thead>\n",
       "    <tr style=\"text-align: right;\">\n",
       "      <th></th>\n",
       "      <th>visit_id</th>\n",
       "      <th>visit_month</th>\n",
       "      <th>patient_id</th>\n",
       "      <th>UniProt</th>\n",
       "      <th>NPX</th>\n",
       "    </tr>\n",
       "  </thead>\n",
       "  <tbody>\n",
       "    <tr>\n",
       "      <th>0</th>\n",
       "      <td>55_0</td>\n",
       "      <td>0</td>\n",
       "      <td>55</td>\n",
       "      <td>O00391</td>\n",
       "      <td>11254.3</td>\n",
       "    </tr>\n",
       "    <tr>\n",
       "      <th>1</th>\n",
       "      <td>55_0</td>\n",
       "      <td>0</td>\n",
       "      <td>55</td>\n",
       "      <td>O00533</td>\n",
       "      <td>732430.0</td>\n",
       "    </tr>\n",
       "    <tr>\n",
       "      <th>2</th>\n",
       "      <td>55_0</td>\n",
       "      <td>0</td>\n",
       "      <td>55</td>\n",
       "      <td>O00584</td>\n",
       "      <td>39585.8</td>\n",
       "    </tr>\n",
       "    <tr>\n",
       "      <th>3</th>\n",
       "      <td>55_0</td>\n",
       "      <td>0</td>\n",
       "      <td>55</td>\n",
       "      <td>O14498</td>\n",
       "      <td>41526.9</td>\n",
       "    </tr>\n",
       "    <tr>\n",
       "      <th>4</th>\n",
       "      <td>55_0</td>\n",
       "      <td>0</td>\n",
       "      <td>55</td>\n",
       "      <td>O14773</td>\n",
       "      <td>31238.0</td>\n",
       "    </tr>\n",
       "  </tbody>\n",
       "</table>\n",
       "</div>"
      ],
      "text/plain": [
       "  visit_id  visit_month  patient_id UniProt       NPX\n",
       "0     55_0            0          55  O00391   11254.3\n",
       "1     55_0            0          55  O00533  732430.0\n",
       "2     55_0            0          55  O00584   39585.8\n",
       "3     55_0            0          55  O14498   41526.9\n",
       "4     55_0            0          55  O14773   31238.0"
      ]
     },
     "execution_count": 7,
     "metadata": {},
     "output_type": "execute_result"
    }
   ],
   "source": [
    "# Display the first 5 examples\n",
    "train_proteins.head(5)"
   ]
  },
  {
   "cell_type": "markdown",
   "id": "cbac69c5",
   "metadata": {
    "papermill": {
     "duration": 0.026052,
     "end_time": "2023-05-15T10:26:56.807437",
     "exception": false,
     "start_time": "2023-05-15T10:26:56.781385",
     "status": "completed"
    },
    "tags": []
   },
   "source": [
    "Proteins are long molecules made up of multiple peptides. The clinic will record the **Peptide Abundance** of each peptide in proteins relevant to Parkinson's disease. It shows the peptide concentration, similar to NPX for proteins.  This data can be found in the `train_peptides` DataFrame.\n",
    "\n",
    "Let us examine the shape of the `train_peptides` DataFrame."
   ]
  },
  {
   "cell_type": "code",
   "execution_count": 8,
   "id": "fe8b6349",
   "metadata": {
    "execution": {
     "iopub.execute_input": "2023-05-15T10:26:56.864717Z",
     "iopub.status.busy": "2023-05-15T10:26:56.864290Z",
     "iopub.status.idle": "2023-05-15T10:26:56.869586Z",
     "shell.execute_reply": "2023-05-15T10:26:56.868497Z"
    },
    "papermill": {
     "duration": 0.03572,
     "end_time": "2023-05-15T10:26:56.871802",
     "exception": false,
     "start_time": "2023-05-15T10:26:56.836082",
     "status": "completed"
    },
    "tags": []
   },
   "outputs": [
    {
     "name": "stdout",
     "output_type": "stream",
     "text": [
      "peptides dataset shape:   (981834, 6)\n"
     ]
    }
   ],
   "source": [
    "print('peptides dataset shape:  ', train_peptides.shape)"
   ]
  },
  {
   "cell_type": "markdown",
   "id": "82722a41",
   "metadata": {
    "papermill": {
     "duration": 0.027477,
     "end_time": "2023-05-15T10:26:56.926719",
     "exception": false,
     "start_time": "2023-05-15T10:26:56.899242",
     "status": "completed"
    },
    "tags": []
   },
   "source": [
    "The **train_peptides** data is composed of ***6* columns** and ***981834* entries**. We can see all 6 dimensions of our dataset by printing out the first 5 entries using the following code:"
   ]
  },
  {
   "cell_type": "code",
   "execution_count": 9,
   "id": "51afbf52",
   "metadata": {
    "execution": {
     "iopub.execute_input": "2023-05-15T10:26:56.984171Z",
     "iopub.status.busy": "2023-05-15T10:26:56.983539Z",
     "iopub.status.idle": "2023-05-15T10:26:56.997654Z",
     "shell.execute_reply": "2023-05-15T10:26:56.996723Z"
    },
    "papermill": {
     "duration": 0.04596,
     "end_time": "2023-05-15T10:26:57.000517",
     "exception": false,
     "start_time": "2023-05-15T10:26:56.954557",
     "status": "completed"
    },
    "tags": []
   },
   "outputs": [
    {
     "data": {
      "text/html": [
       "<div>\n",
       "<style scoped>\n",
       "    .dataframe tbody tr th:only-of-type {\n",
       "        vertical-align: middle;\n",
       "    }\n",
       "\n",
       "    .dataframe tbody tr th {\n",
       "        vertical-align: top;\n",
       "    }\n",
       "\n",
       "    .dataframe thead th {\n",
       "        text-align: right;\n",
       "    }\n",
       "</style>\n",
       "<table border=\"1\" class=\"dataframe\">\n",
       "  <thead>\n",
       "    <tr style=\"text-align: right;\">\n",
       "      <th></th>\n",
       "      <th>visit_id</th>\n",
       "      <th>visit_month</th>\n",
       "      <th>patient_id</th>\n",
       "      <th>UniProt</th>\n",
       "      <th>Peptide</th>\n",
       "      <th>PeptideAbundance</th>\n",
       "    </tr>\n",
       "  </thead>\n",
       "  <tbody>\n",
       "    <tr>\n",
       "      <th>0</th>\n",
       "      <td>55_0</td>\n",
       "      <td>0</td>\n",
       "      <td>55</td>\n",
       "      <td>O00391</td>\n",
       "      <td>NEQEQPLGQWHLS</td>\n",
       "      <td>11254.3</td>\n",
       "    </tr>\n",
       "    <tr>\n",
       "      <th>1</th>\n",
       "      <td>55_0</td>\n",
       "      <td>0</td>\n",
       "      <td>55</td>\n",
       "      <td>O00533</td>\n",
       "      <td>GNPEPTFSWTK</td>\n",
       "      <td>102060.0</td>\n",
       "    </tr>\n",
       "    <tr>\n",
       "      <th>2</th>\n",
       "      <td>55_0</td>\n",
       "      <td>0</td>\n",
       "      <td>55</td>\n",
       "      <td>O00533</td>\n",
       "      <td>IEIPSSVQQVPTIIK</td>\n",
       "      <td>174185.0</td>\n",
       "    </tr>\n",
       "    <tr>\n",
       "      <th>3</th>\n",
       "      <td>55_0</td>\n",
       "      <td>0</td>\n",
       "      <td>55</td>\n",
       "      <td>O00533</td>\n",
       "      <td>KPQSAVYSTGSNGILLC(UniMod_4)EAEGEPQPTIK</td>\n",
       "      <td>27278.9</td>\n",
       "    </tr>\n",
       "    <tr>\n",
       "      <th>4</th>\n",
       "      <td>55_0</td>\n",
       "      <td>0</td>\n",
       "      <td>55</td>\n",
       "      <td>O00533</td>\n",
       "      <td>SMEQNGPGLEYR</td>\n",
       "      <td>30838.7</td>\n",
       "    </tr>\n",
       "  </tbody>\n",
       "</table>\n",
       "</div>"
      ],
      "text/plain": [
       "  visit_id  visit_month  patient_id UniProt  \\\n",
       "0     55_0            0          55  O00391   \n",
       "1     55_0            0          55  O00533   \n",
       "2     55_0            0          55  O00533   \n",
       "3     55_0            0          55  O00533   \n",
       "4     55_0            0          55  O00533   \n",
       "\n",
       "                                  Peptide  PeptideAbundance  \n",
       "0                           NEQEQPLGQWHLS           11254.3  \n",
       "1                             GNPEPTFSWTK          102060.0  \n",
       "2                         IEIPSSVQQVPTIIK          174185.0  \n",
       "3  KPQSAVYSTGSNGILLC(UniMod_4)EAEGEPQPTIK           27278.9  \n",
       "4                            SMEQNGPGLEYR           30838.7  "
      ]
     },
     "execution_count": 9,
     "metadata": {},
     "output_type": "execute_result"
    }
   ],
   "source": [
    "# Display the first 5 examples\n",
    "train_peptides.head(5)"
   ]
  },
  {
   "cell_type": "markdown",
   "id": "c2f0aa7e",
   "metadata": {
    "papermill": {
     "duration": 0.027365,
     "end_time": "2023-05-15T10:26:57.055798",
     "exception": false,
     "start_time": "2023-05-15T10:26:57.028433",
     "status": "completed"
    },
    "tags": []
   },
   "source": [
    "# Plotting clinical data\n",
    "\n",
    "We will pick a random `patient_id` and plot the target label values(`updrs_1`, `updrs_2`, `updrs_3`, `updrs_4`) of the patient against each month(`visit_month`)."
   ]
  },
  {
   "cell_type": "code",
   "execution_count": 10,
   "id": "98889c51",
   "metadata": {
    "execution": {
     "iopub.execute_input": "2023-05-15T10:26:57.115537Z",
     "iopub.status.busy": "2023-05-15T10:26:57.114703Z",
     "iopub.status.idle": "2023-05-15T10:26:57.431564Z",
     "shell.execute_reply": "2023-05-15T10:26:57.430174Z"
    },
    "papermill": {
     "duration": 0.349706,
     "end_time": "2023-05-15T10:26:57.434548",
     "exception": false,
     "start_time": "2023-05-15T10:26:57.084842",
     "status": "completed"
    },
    "tags": []
   },
   "outputs": [
    {
     "data": {
      "image/png": "[encoded data removed]",
      "text/plain": [
       "<Figure size 640x480 with 1 Axes>"
      ]
     },
     "metadata": {},
     "output_type": "display_data"
    }
   ],
   "source": [
    "# Fetch data for patient with id 1517\n",
    "plot_df = train_clinical[train_clinical[\"patient_id\"]==55]\n",
    "fig, ax = plt.subplots(1, 1)\n",
    "\n",
    "ax.plot(plot_df['visit_month'], plot_df['updrs_1'], marker='o', color=\"blue\", label=\"updrs_1\", linestyle=\"-\")\n",
    "ax.plot(plot_df['visit_month'], plot_df['updrs_2'], marker='o', color=\"red\", label=\"updrs_2\", linestyle=\"-\")\n",
    "ax.plot(plot_df['visit_month'], plot_df['updrs_3'], marker='o', color=\"green\", label=\"updrs_3\", linestyle=\"-\")\n",
    "ax.plot(plot_df['visit_month'], plot_df['updrs_4'], marker='o', color=\"orange\", label=\"updrs_4\", linestyle=\"-\")\n",
    "\n",
    "ax.legend()\n",
    "plt.show()"
   ]
  },
  {
   "cell_type": "markdown",
   "id": "e89178f4",
   "metadata": {
    "papermill": {
     "duration": 0.027614,
     "end_time": "2023-05-15T10:26:57.490191",
     "exception": false,
     "start_time": "2023-05-15T10:26:57.462577",
     "status": "completed"
    },
    "tags": []
   },
   "source": [
    "# Plotting protein data\n",
    "\n",
    "\n",
    "We will pick a random `patient_id` and plot the first 40 Protein entries(`UniProt`) of the patient and their NPX value against patient's visit month(`visit_month`)."
   ]
  },
  {
   "cell_type": "code",
   "execution_count": 11,
   "id": "c36e221a",
   "metadata": {
    "execution": {
     "iopub.execute_input": "2023-05-15T10:26:57.551008Z",
     "iopub.status.busy": "2023-05-15T10:26:57.550601Z",
     "iopub.status.idle": "2023-05-15T10:26:59.982063Z",
     "shell.execute_reply": "2023-05-15T10:26:59.980611Z"
    },
    "papermill": {
     "duration": 2.464661,
     "end_time": "2023-05-15T10:26:59.984711",
     "exception": false,
     "start_time": "2023-05-15T10:26:57.520050",
     "status": "completed"
    },
    "tags": []
   },
   "outputs": [
    {
     "data": {
      "image/png": "[encoded data removed]",
      "text/plain": [
       "<Figure size 1500x1200 with 4 Axes>"
      ]
     },
     "metadata": {},
     "output_type": "display_data"
    }
   ],
   "source": [
    "pro_plot_df = train_proteins[train_proteins[\"patient_id\"]==1517]\n",
    "protein_list = pro_plot_df['UniProt'].unique()\n",
    "protein_list = protein_list[:40]\n",
    "pro_plot_df = pro_plot_df[pro_plot_df['UniProt'].isin(protein_list)]\n",
    "unique_month = pro_plot_df['visit_month'].unique()\n",
    "unique_month.sort()\n",
    "p_len = len(unique_month)\n",
    "\n",
    "pro_plot_df['visit_month'].unique()\n",
    "n_rows = math.ceil(p_len/2)\n",
    "figure, axis = plt.subplots(n_rows, 2, figsize=(15, n_rows*6))\n",
    "plt.subplots_adjust(hspace=0.5, wspace=0.3)\n",
    "\n",
    "for i, month in enumerate(unique_month):\n",
    "    row = i//2\n",
    "    col = i % 2\n",
    "    plot_df = pro_plot_df[pro_plot_df['visit_month']==month]\n",
    "    bp = sns.barplot(ax=axis[row, col], x=plot_df['UniProt'], y=plot_df['NPX'])\n",
    "    #bp.set(xticklabels=[])\n",
    "    bp.set_xticklabels(bp.get_xticklabels(), rotation=90, size = 7)\n",
    "    axis[row, col].set_title('visit_month ' + str(month))\n",
    "plt.show()"
   ]
  },
  {
   "cell_type": "markdown",
   "id": "8133886b",
   "metadata": {
    "papermill": {
     "duration": 0.030213,
     "end_time": "2023-05-15T10:27:00.046075",
     "exception": false,
     "start_time": "2023-05-15T10:27:00.015862",
     "status": "completed"
    },
    "tags": []
   },
   "source": [
    "# Handling Null values"
   ]
  },
  {
   "cell_type": "markdown",
   "id": "e56a5a6e",
   "metadata": {
    "papermill": {
     "duration": 0.030611,
     "end_time": "2023-05-15T10:27:00.106753",
     "exception": false,
     "start_time": "2023-05-15T10:27:00.076142",
     "status": "completed"
    },
    "tags": []
   },
   "source": [
    "## Clinical dataset"
   ]
  },
  {
   "cell_type": "code",
   "execution_count": 12,
   "id": "ee0e0ff1",
   "metadata": {
    "execution": {
     "iopub.execute_input": "2023-05-15T10:27:00.168548Z",
     "iopub.status.busy": "2023-05-15T10:27:00.167762Z",
     "iopub.status.idle": "2023-05-15T10:27:00.186839Z",
     "shell.execute_reply": "2023-05-15T10:27:00.185282Z"
    },
    "papermill": {
     "duration": 0.053237,
     "end_time": "2023-05-15T10:27:00.189661",
     "exception": false,
     "start_time": "2023-05-15T10:27:00.136424",
     "status": "completed"
    },
    "tags": []
   },
   "outputs": [
    {
     "name": "stdout",
     "output_type": "stream",
     "text": [
      "<class 'pandas.core.frame.DataFrame'>\n",
      "RangeIndex: 2615 entries, 0 to 2614\n",
      "Data columns (total 8 columns):\n",
      " #   Column                               Non-Null Count  Dtype  \n",
      "---  ------                               --------------  -----  \n",
      " 0   visit_id                             2615 non-null   object \n",
      " 1   patient_id                           2615 non-null   int64  \n",
      " 2   visit_month                          2615 non-null   int64  \n",
      " 3   updrs_1                              2614 non-null   float64\n",
      " 4   updrs_2                              2613 non-null   float64\n",
      " 5   updrs_3                              2590 non-null   float64\n",
      " 6   updrs_4                              1577 non-null   float64\n",
      " 7   upd23b_clinical_state_on_medication  1288 non-null   object \n",
      "dtypes: float64(4), int64(2), object(2)\n",
      "memory usage: 163.6+ KB\n"
     ]
    }
   ],
   "source": [
    "train_clinical.info()"
   ]
  },
  {
   "cell_type": "code",
   "execution_count": 13,
   "id": "54163bad",
   "metadata": {
    "execution": {
     "iopub.execute_input": "2023-05-15T10:27:00.250633Z",
     "iopub.status.busy": "2023-05-15T10:27:00.249528Z",
     "iopub.status.idle": "2023-05-15T10:27:00.261378Z",
     "shell.execute_reply": "2023-05-15T10:27:00.260128Z"
    },
    "papermill": {
     "duration": 0.044752,
     "end_time": "2023-05-15T10:27:00.263775",
     "exception": false,
     "start_time": "2023-05-15T10:27:00.219023",
     "status": "completed"
    },
    "tags": []
   },
   "outputs": [
    {
     "data": {
      "text/plain": [
       "visit_id                                  0\n",
       "patient_id                                0\n",
       "visit_month                               0\n",
       "updrs_1                                   1\n",
       "updrs_2                                   2\n",
       "updrs_3                                  25\n",
       "updrs_4                                1038\n",
       "upd23b_clinical_state_on_medication    1327\n",
       "dtype: int64"
      ]
     },
     "execution_count": 13,
     "metadata": {},
     "output_type": "execute_result"
    }
   ],
   "source": [
    "train_clinical.isnull().sum()"
   ]
  },
  {
   "cell_type": "markdown",
   "id": "d0864bb3",
   "metadata": {
    "papermill": {
     "duration": 0.029871,
     "end_time": "2023-05-15T10:27:00.323564",
     "exception": false,
     "start_time": "2023-05-15T10:27:00.293693",
     "status": "completed"
    },
    "tags": []
   },
   "source": [
    "Based on the above data, it appears that the variable \"updrs_1\" contains only one null value, while the variable \"updrs_2\" has only two values missing. lets try to identify the specific patients associated with these missing values"
   ]
  },
  {
   "cell_type": "code",
   "execution_count": 14,
   "id": "fc431a96",
   "metadata": {
    "execution": {
     "iopub.execute_input": "2023-05-15T10:27:00.388043Z",
     "iopub.status.busy": "2023-05-15T10:27:00.387591Z",
     "iopub.status.idle": "2023-05-15T10:27:00.403493Z",
     "shell.execute_reply": "2023-05-15T10:27:00.402580Z"
    },
    "papermill": {
     "duration": 0.051572,
     "end_time": "2023-05-15T10:27:00.405946",
     "exception": false,
     "start_time": "2023-05-15T10:27:00.354374",
     "status": "completed"
    },
    "tags": []
   },
   "outputs": [
    {
     "data": {
      "text/html": [
       "<div>\n",
       "<style scoped>\n",
       "    .dataframe tbody tr th:only-of-type {\n",
       "        vertical-align: middle;\n",
       "    }\n",
       "\n",
       "    .dataframe tbody tr th {\n",
       "        vertical-align: top;\n",
       "    }\n",
       "\n",
       "    .dataframe thead th {\n",
       "        text-align: right;\n",
       "    }\n",
       "</style>\n",
       "<table border=\"1\" class=\"dataframe\">\n",
       "  <thead>\n",
       "    <tr style=\"text-align: right;\">\n",
       "      <th></th>\n",
       "      <th>visit_id</th>\n",
       "      <th>patient_id</th>\n",
       "      <th>visit_month</th>\n",
       "      <th>updrs_1</th>\n",
       "      <th>updrs_2</th>\n",
       "      <th>updrs_3</th>\n",
       "      <th>updrs_4</th>\n",
       "      <th>upd23b_clinical_state_on_medication</th>\n",
       "    </tr>\n",
       "  </thead>\n",
       "  <tbody>\n",
       "    <tr>\n",
       "      <th>1827</th>\n",
       "      <td>45181_42</td>\n",
       "      <td>45181</td>\n",
       "      <td>42</td>\n",
       "      <td>NaN</td>\n",
       "      <td>NaN</td>\n",
       "      <td>0.0</td>\n",
       "      <td>NaN</td>\n",
       "      <td>NaN</td>\n",
       "    </tr>\n",
       "  </tbody>\n",
       "</table>\n",
       "</div>"
      ],
      "text/plain": [
       "      visit_id  patient_id  visit_month  updrs_1  updrs_2  updrs_3  updrs_4  \\\n",
       "1827  45181_42       45181           42      NaN      NaN      0.0      NaN   \n",
       "\n",
       "     upd23b_clinical_state_on_medication  \n",
       "1827                                 NaN  "
      ]
     },
     "execution_count": 14,
     "metadata": {},
     "output_type": "execute_result"
    }
   ],
   "source": [
    "train_clinical[train_clinical['updrs_1'].isnull()]"
   ]
  },
  {
   "cell_type": "code",
   "execution_count": 15,
   "id": "82e0d7bb",
   "metadata": {
    "execution": {
     "iopub.execute_input": "2023-05-15T10:27:00.466980Z",
     "iopub.status.busy": "2023-05-15T10:27:00.466571Z",
     "iopub.status.idle": "2023-05-15T10:27:00.483731Z",
     "shell.execute_reply": "2023-05-15T10:27:00.482456Z"
    },
    "papermill": {
     "duration": 0.051003,
     "end_time": "2023-05-15T10:27:00.486381",
     "exception": false,
     "start_time": "2023-05-15T10:27:00.435378",
     "status": "completed"
    },
    "tags": []
   },
   "outputs": [
    {
     "data": {
      "text/html": [
       "<div>\n",
       "<style scoped>\n",
       "    .dataframe tbody tr th:only-of-type {\n",
       "        vertical-align: middle;\n",
       "    }\n",
       "\n",
       "    .dataframe tbody tr th {\n",
       "        vertical-align: top;\n",
       "    }\n",
       "\n",
       "    .dataframe thead th {\n",
       "        text-align: right;\n",
       "    }\n",
       "</style>\n",
       "<table border=\"1\" class=\"dataframe\">\n",
       "  <thead>\n",
       "    <tr style=\"text-align: right;\">\n",
       "      <th></th>\n",
       "      <th>visit_id</th>\n",
       "      <th>patient_id</th>\n",
       "      <th>visit_month</th>\n",
       "      <th>updrs_1</th>\n",
       "      <th>updrs_2</th>\n",
       "      <th>updrs_3</th>\n",
       "      <th>updrs_4</th>\n",
       "      <th>upd23b_clinical_state_on_medication</th>\n",
       "    </tr>\n",
       "  </thead>\n",
       "  <tbody>\n",
       "    <tr>\n",
       "      <th>1827</th>\n",
       "      <td>45181_42</td>\n",
       "      <td>45181</td>\n",
       "      <td>42</td>\n",
       "      <td>NaN</td>\n",
       "      <td>NaN</td>\n",
       "      <td>0.0</td>\n",
       "      <td>NaN</td>\n",
       "      <td>NaN</td>\n",
       "    </tr>\n",
       "    <tr>\n",
       "      <th>2472</th>\n",
       "      <td>60803_9</td>\n",
       "      <td>60803</td>\n",
       "      <td>9</td>\n",
       "      <td>0.0</td>\n",
       "      <td>NaN</td>\n",
       "      <td>29.0</td>\n",
       "      <td>0.0</td>\n",
       "      <td>NaN</td>\n",
       "    </tr>\n",
       "  </tbody>\n",
       "</table>\n",
       "</div>"
      ],
      "text/plain": [
       "      visit_id  patient_id  visit_month  updrs_1  updrs_2  updrs_3  updrs_4  \\\n",
       "1827  45181_42       45181           42      NaN      NaN      0.0      NaN   \n",
       "2472   60803_9       60803            9      0.0      NaN     29.0      0.0   \n",
       "\n",
       "     upd23b_clinical_state_on_medication  \n",
       "1827                                 NaN  \n",
       "2472                                 NaN  "
      ]
     },
     "execution_count": 15,
     "metadata": {},
     "output_type": "execute_result"
    }
   ],
   "source": [
    "train_clinical[train_clinical['updrs_2'].isnull()]"
   ]
  },
  {
   "cell_type": "code",
   "execution_count": 16,
   "id": "1c273a80",
   "metadata": {
    "execution": {
     "iopub.execute_input": "2023-05-15T10:27:00.553277Z",
     "iopub.status.busy": "2023-05-15T10:27:00.552846Z",
     "iopub.status.idle": "2023-05-15T10:27:00.584910Z",
     "shell.execute_reply": "2023-05-15T10:27:00.583366Z"
    },
    "papermill": {
     "duration": 0.070423,
     "end_time": "2023-05-15T10:27:00.587501",
     "exception": false,
     "start_time": "2023-05-15T10:27:00.517078",
     "status": "completed"
    },
    "tags": []
   },
   "outputs": [
    {
     "data": {
      "text/html": [
       "<div>\n",
       "<style scoped>\n",
       "    .dataframe tbody tr th:only-of-type {\n",
       "        vertical-align: middle;\n",
       "    }\n",
       "\n",
       "    .dataframe tbody tr th {\n",
       "        vertical-align: top;\n",
       "    }\n",
       "\n",
       "    .dataframe thead th {\n",
       "        text-align: right;\n",
       "    }\n",
       "</style>\n",
       "<table border=\"1\" class=\"dataframe\">\n",
       "  <thead>\n",
       "    <tr style=\"text-align: right;\">\n",
       "      <th></th>\n",
       "      <th>visit_id</th>\n",
       "      <th>patient_id</th>\n",
       "      <th>visit_month</th>\n",
       "      <th>updrs_1</th>\n",
       "      <th>updrs_2</th>\n",
       "      <th>updrs_3</th>\n",
       "      <th>updrs_4</th>\n",
       "      <th>upd23b_clinical_state_on_medication</th>\n",
       "    </tr>\n",
       "  </thead>\n",
       "  <tbody>\n",
       "    <tr>\n",
       "      <th>251</th>\n",
       "      <td>7832_18</td>\n",
       "      <td>7832</td>\n",
       "      <td>18</td>\n",
       "      <td>5.0</td>\n",
       "      <td>5.0</td>\n",
       "      <td>NaN</td>\n",
       "      <td>NaN</td>\n",
       "      <td>NaN</td>\n",
       "    </tr>\n",
       "    <tr>\n",
       "      <th>345</th>\n",
       "      <td>10715_72</td>\n",
       "      <td>10715</td>\n",
       "      <td>72</td>\n",
       "      <td>18.0</td>\n",
       "      <td>12.0</td>\n",
       "      <td>NaN</td>\n",
       "      <td>0.0</td>\n",
       "      <td>On</td>\n",
       "    </tr>\n",
       "    <tr>\n",
       "      <th>436</th>\n",
       "      <td>12931_24</td>\n",
       "      <td>12931</td>\n",
       "      <td>24</td>\n",
       "      <td>3.0</td>\n",
       "      <td>3.0</td>\n",
       "      <td>NaN</td>\n",
       "      <td>0.0</td>\n",
       "      <td>NaN</td>\n",
       "    </tr>\n",
       "    <tr>\n",
       "      <th>601</th>\n",
       "      <td>15245_18</td>\n",
       "      <td>15245</td>\n",
       "      <td>18</td>\n",
       "      <td>10.0</td>\n",
       "      <td>14.0</td>\n",
       "      <td>NaN</td>\n",
       "      <td>NaN</td>\n",
       "      <td>NaN</td>\n",
       "    </tr>\n",
       "    <tr>\n",
       "      <th>635</th>\n",
       "      <td>16238_48</td>\n",
       "      <td>16238</td>\n",
       "      <td>48</td>\n",
       "      <td>6.0</td>\n",
       "      <td>2.0</td>\n",
       "      <td>NaN</td>\n",
       "      <td>NaN</td>\n",
       "      <td>NaN</td>\n",
       "    </tr>\n",
       "    <tr>\n",
       "      <th>777</th>\n",
       "      <td>18560_6</td>\n",
       "      <td>18560</td>\n",
       "      <td>6</td>\n",
       "      <td>0.0</td>\n",
       "      <td>3.0</td>\n",
       "      <td>NaN</td>\n",
       "      <td>NaN</td>\n",
       "      <td>NaN</td>\n",
       "    </tr>\n",
       "    <tr>\n",
       "      <th>846</th>\n",
       "      <td>20404_84</td>\n",
       "      <td>20404</td>\n",
       "      <td>84</td>\n",
       "      <td>1.0</td>\n",
       "      <td>8.0</td>\n",
       "      <td>NaN</td>\n",
       "      <td>4.0</td>\n",
       "      <td>On</td>\n",
       "    </tr>\n",
       "    <tr>\n",
       "      <th>848</th>\n",
       "      <td>20460_3</td>\n",
       "      <td>20460</td>\n",
       "      <td>3</td>\n",
       "      <td>17.0</td>\n",
       "      <td>11.0</td>\n",
       "      <td>NaN</td>\n",
       "      <td>0.0</td>\n",
       "      <td>NaN</td>\n",
       "    </tr>\n",
       "    <tr>\n",
       "      <th>919</th>\n",
       "      <td>21126_96</td>\n",
       "      <td>21126</td>\n",
       "      <td>96</td>\n",
       "      <td>13.0</td>\n",
       "      <td>9.0</td>\n",
       "      <td>NaN</td>\n",
       "      <td>NaN</td>\n",
       "      <td>NaN</td>\n",
       "    </tr>\n",
       "    <tr>\n",
       "      <th>1151</th>\n",
       "      <td>27079_36</td>\n",
       "      <td>27079</td>\n",
       "      <td>36</td>\n",
       "      <td>4.0</td>\n",
       "      <td>5.0</td>\n",
       "      <td>NaN</td>\n",
       "      <td>1.0</td>\n",
       "      <td>On</td>\n",
       "    </tr>\n",
       "    <tr>\n",
       "      <th>1187</th>\n",
       "      <td>27468_84</td>\n",
       "      <td>27468</td>\n",
       "      <td>84</td>\n",
       "      <td>14.0</td>\n",
       "      <td>16.0</td>\n",
       "      <td>NaN</td>\n",
       "      <td>0.0</td>\n",
       "      <td>NaN</td>\n",
       "    </tr>\n",
       "    <tr>\n",
       "      <th>1359</th>\n",
       "      <td>31121_24</td>\n",
       "      <td>31121</td>\n",
       "      <td>24</td>\n",
       "      <td>9.0</td>\n",
       "      <td>5.0</td>\n",
       "      <td>NaN</td>\n",
       "      <td>NaN</td>\n",
       "      <td>NaN</td>\n",
       "    </tr>\n",
       "    <tr>\n",
       "      <th>1458</th>\n",
       "      <td>35465_72</td>\n",
       "      <td>35465</td>\n",
       "      <td>72</td>\n",
       "      <td>21.0</td>\n",
       "      <td>9.0</td>\n",
       "      <td>NaN</td>\n",
       "      <td>11.0</td>\n",
       "      <td>On</td>\n",
       "    </tr>\n",
       "    <tr>\n",
       "      <th>1539</th>\n",
       "      <td>39144_84</td>\n",
       "      <td>39144</td>\n",
       "      <td>84</td>\n",
       "      <td>3.0</td>\n",
       "      <td>0.0</td>\n",
       "      <td>NaN</td>\n",
       "      <td>NaN</td>\n",
       "      <td>NaN</td>\n",
       "    </tr>\n",
       "    <tr>\n",
       "      <th>1577</th>\n",
       "      <td>40200_96</td>\n",
       "      <td>40200</td>\n",
       "      <td>96</td>\n",
       "      <td>2.0</td>\n",
       "      <td>15.0</td>\n",
       "      <td>NaN</td>\n",
       "      <td>0.0</td>\n",
       "      <td>On</td>\n",
       "    </tr>\n",
       "    <tr>\n",
       "      <th>1857</th>\n",
       "      <td>47103_12</td>\n",
       "      <td>47103</td>\n",
       "      <td>12</td>\n",
       "      <td>5.0</td>\n",
       "      <td>6.0</td>\n",
       "      <td>NaN</td>\n",
       "      <td>NaN</td>\n",
       "      <td>On</td>\n",
       "    </tr>\n",
       "    <tr>\n",
       "      <th>1859</th>\n",
       "      <td>47103_24</td>\n",
       "      <td>47103</td>\n",
       "      <td>24</td>\n",
       "      <td>9.0</td>\n",
       "      <td>6.0</td>\n",
       "      <td>NaN</td>\n",
       "      <td>0.0</td>\n",
       "      <td>NaN</td>\n",
       "    </tr>\n",
       "    <tr>\n",
       "      <th>1937</th>\n",
       "      <td>49672_84</td>\n",
       "      <td>49672</td>\n",
       "      <td>84</td>\n",
       "      <td>6.0</td>\n",
       "      <td>5.0</td>\n",
       "      <td>NaN</td>\n",
       "      <td>NaN</td>\n",
       "      <td>NaN</td>\n",
       "    </tr>\n",
       "    <tr>\n",
       "      <th>1959</th>\n",
       "      <td>49995_84</td>\n",
       "      <td>49995</td>\n",
       "      <td>84</td>\n",
       "      <td>11.0</td>\n",
       "      <td>16.0</td>\n",
       "      <td>NaN</td>\n",
       "      <td>6.0</td>\n",
       "      <td>On</td>\n",
       "    </tr>\n",
       "    <tr>\n",
       "      <th>2056</th>\n",
       "      <td>52119_12</td>\n",
       "      <td>52119</td>\n",
       "      <td>12</td>\n",
       "      <td>2.0</td>\n",
       "      <td>5.0</td>\n",
       "      <td>NaN</td>\n",
       "      <td>0.0</td>\n",
       "      <td>NaN</td>\n",
       "    </tr>\n",
       "    <tr>\n",
       "      <th>2126</th>\n",
       "      <td>55096_36</td>\n",
       "      <td>55096</td>\n",
       "      <td>36</td>\n",
       "      <td>1.0</td>\n",
       "      <td>1.0</td>\n",
       "      <td>NaN</td>\n",
       "      <td>0.0</td>\n",
       "      <td>On</td>\n",
       "    </tr>\n",
       "    <tr>\n",
       "      <th>2128</th>\n",
       "      <td>55096_48</td>\n",
       "      <td>55096</td>\n",
       "      <td>48</td>\n",
       "      <td>2.0</td>\n",
       "      <td>3.0</td>\n",
       "      <td>NaN</td>\n",
       "      <td>0.0</td>\n",
       "      <td>NaN</td>\n",
       "    </tr>\n",
       "    <tr>\n",
       "      <th>2417</th>\n",
       "      <td>58823_54</td>\n",
       "      <td>58823</td>\n",
       "      <td>54</td>\n",
       "      <td>7.0</td>\n",
       "      <td>10.0</td>\n",
       "      <td>NaN</td>\n",
       "      <td>NaN</td>\n",
       "      <td>NaN</td>\n",
       "    </tr>\n",
       "    <tr>\n",
       "      <th>2495</th>\n",
       "      <td>61503_48</td>\n",
       "      <td>61503</td>\n",
       "      <td>48</td>\n",
       "      <td>3.0</td>\n",
       "      <td>16.0</td>\n",
       "      <td>NaN</td>\n",
       "      <td>NaN</td>\n",
       "      <td>NaN</td>\n",
       "    </tr>\n",
       "    <tr>\n",
       "      <th>2606</th>\n",
       "      <td>65043_24</td>\n",
       "      <td>65043</td>\n",
       "      <td>24</td>\n",
       "      <td>4.0</td>\n",
       "      <td>8.0</td>\n",
       "      <td>NaN</td>\n",
       "      <td>0.0</td>\n",
       "      <td>NaN</td>\n",
       "    </tr>\n",
       "  </tbody>\n",
       "</table>\n",
       "</div>"
      ],
      "text/plain": [
       "      visit_id  patient_id  visit_month  updrs_1  updrs_2  updrs_3  updrs_4  \\\n",
       "251    7832_18        7832           18      5.0      5.0      NaN      NaN   \n",
       "345   10715_72       10715           72     18.0     12.0      NaN      0.0   \n",
       "436   12931_24       12931           24      3.0      3.0      NaN      0.0   \n",
       "601   15245_18       15245           18     10.0     14.0      NaN      NaN   \n",
       "635   16238_48       16238           48      6.0      2.0      NaN      NaN   \n",
       "777    18560_6       18560            6      0.0      3.0      NaN      NaN   \n",
       "846   20404_84       20404           84      1.0      8.0      NaN      4.0   \n",
       "848    20460_3       20460            3     17.0     11.0      NaN      0.0   \n",
       "919   21126_96       21126           96     13.0      9.0      NaN      NaN   \n",
       "1151  27079_36       27079           36      4.0      5.0      NaN      1.0   \n",
       "1187  27468_84       27468           84     14.0     16.0      NaN      0.0   \n",
       "1359  31121_24       31121           24      9.0      5.0      NaN      NaN   \n",
       "1458  35465_72       35465           72     21.0      9.0      NaN     11.0   \n",
       "1539  39144_84       39144           84      3.0      0.0      NaN      NaN   \n",
       "1577  40200_96       40200           96      2.0     15.0      NaN      0.0   \n",
       "1857  47103_12       47103           12      5.0      6.0      NaN      NaN   \n",
       "1859  47103_24       47103           24      9.0      6.0      NaN      0.0   \n",
       "1937  49672_84       49672           84      6.0      5.0      NaN      NaN   \n",
       "1959  49995_84       49995           84     11.0     16.0      NaN      6.0   \n",
       "2056  52119_12       52119           12      2.0      5.0      NaN      0.0   \n",
       "2126  55096_36       55096           36      1.0      1.0      NaN      0.0   \n",
       "2128  55096_48       55096           48      2.0      3.0      NaN      0.0   \n",
       "2417  58823_54       58823           54      7.0     10.0      NaN      NaN   \n",
       "2495  61503_48       61503           48      3.0     16.0      NaN      NaN   \n",
       "2606  65043_24       65043           24      4.0      8.0      NaN      0.0   \n",
       "\n",
       "     upd23b_clinical_state_on_medication  \n",
       "251                                  NaN  \n",
       "345                                   On  \n",
       "436                                  NaN  \n",
       "601                                  NaN  \n",
       "635                                  NaN  \n",
       "777                                  NaN  \n",
       "846                                   On  \n",
       "848                                  NaN  \n",
       "919                                  NaN  \n",
       "1151                                  On  \n",
       "1187                                 NaN  \n",
       "1359                                 NaN  \n",
       "1458                                  On  \n",
       "1539                                 NaN  \n",
       "1577                                  On  \n",
       "1857                                  On  \n",
       "1859                                 NaN  \n",
       "1937                                 NaN  \n",
       "1959                                  On  \n",
       "2056                                 NaN  \n",
       "2126                                  On  \n",
       "2128                                 NaN  \n",
       "2417                                 NaN  \n",
       "2495                                 NaN  \n",
       "2606                                 NaN  "
      ]
     },
     "execution_count": 16,
     "metadata": {},
     "output_type": "execute_result"
    }
   ],
   "source": [
    "train_clinical[train_clinical['updrs_3'].isnull()]"
   ]
  },
  {
   "cell_type": "markdown",
   "id": "8870d65e",
   "metadata": {
    "papermill": {
     "duration": 0.030138,
     "end_time": "2023-05-15T10:27:00.649335",
     "exception": false,
     "start_time": "2023-05-15T10:27:00.619197",
     "status": "completed"
    },
    "tags": []
   },
   "source": [
    "since updrs values are in medical domain, we use linear interpolation method to impute the missing values in dataset"
   ]
  },
  {
   "cell_type": "code",
   "execution_count": 17,
   "id": "96967e21",
   "metadata": {
    "execution": {
     "iopub.execute_input": "2023-05-15T10:27:00.713498Z",
     "iopub.status.busy": "2023-05-15T10:27:00.713068Z",
     "iopub.status.idle": "2023-05-15T10:27:00.722636Z",
     "shell.execute_reply": "2023-05-15T10:27:00.721629Z"
    },
    "papermill": {
     "duration": 0.045139,
     "end_time": "2023-05-15T10:27:00.724885",
     "exception": false,
     "start_time": "2023-05-15T10:27:00.679746",
     "status": "completed"
    },
    "tags": []
   },
   "outputs": [],
   "source": [
    "train_clinical['updrs_1'] = train_clinical['updrs_1'].interpolate(method = 'linear').round(1)"
   ]
  },
  {
   "cell_type": "code",
   "execution_count": 18,
   "id": "aff26489",
   "metadata": {
    "execution": {
     "iopub.execute_input": "2023-05-15T10:27:00.788689Z",
     "iopub.status.busy": "2023-05-15T10:27:00.788152Z",
     "iopub.status.idle": "2023-05-15T10:27:00.796811Z",
     "shell.execute_reply": "2023-05-15T10:27:00.795555Z"
    },
    "papermill": {
     "duration": 0.044178,
     "end_time": "2023-05-15T10:27:00.799628",
     "exception": false,
     "start_time": "2023-05-15T10:27:00.755450",
     "status": "completed"
    },
    "tags": []
   },
   "outputs": [],
   "source": [
    "train_clinical['updrs_2'] = train_clinical['updrs_2'].interpolate(method = 'linear').round(1)"
   ]
  },
  {
   "cell_type": "markdown",
   "id": "418a8848",
   "metadata": {
    "papermill": {
     "duration": 0.030094,
     "end_time": "2023-05-15T10:27:00.862234",
     "exception": false,
     "start_time": "2023-05-15T10:27:00.832140",
     "status": "completed"
    },
    "tags": []
   },
   "source": [
    "use same method to inpute missing values in updrs_3 and updrs_4"
   ]
  },
  {
   "cell_type": "code",
   "execution_count": 19,
   "id": "a2134996",
   "metadata": {
    "execution": {
     "iopub.execute_input": "2023-05-15T10:27:00.926355Z",
     "iopub.status.busy": "2023-05-15T10:27:00.925956Z",
     "iopub.status.idle": "2023-05-15T10:27:01.446995Z",
     "shell.execute_reply": "2023-05-15T10:27:01.445742Z"
    },
    "papermill": {
     "duration": 0.556641,
     "end_time": "2023-05-15T10:27:01.450065",
     "exception": false,
     "start_time": "2023-05-15T10:27:00.893424",
     "status": "completed"
    },
    "tags": []
   },
   "outputs": [],
   "source": [
    "train_clinical['updrs_3'] = train_clinical['updrs_3'].interpolate(method = 'spline', order = 2).round(1)\n",
    "# train_clinical['updrs_4'] = train_clinical['updrs_4'].interpolate(method = 'linear').round(1)"
   ]
  },
  {
   "cell_type": "code",
   "execution_count": 20,
   "id": "780862b9",
   "metadata": {
    "execution": {
     "iopub.execute_input": "2023-05-15T10:27:01.516509Z",
     "iopub.status.busy": "2023-05-15T10:27:01.516083Z",
     "iopub.status.idle": "2023-05-15T10:27:01.530578Z",
     "shell.execute_reply": "2023-05-15T10:27:01.529020Z"
    },
    "papermill": {
     "duration": 0.050266,
     "end_time": "2023-05-15T10:27:01.533509",
     "exception": false,
     "start_time": "2023-05-15T10:27:01.483243",
     "status": "completed"
    },
    "tags": []
   },
   "outputs": [
    {
     "data": {
      "text/plain": [
       "0.0     790\n",
       "4.0      57\n",
       "3.0      57\n",
       "5.0      55\n",
       "2.0      54\n",
       "1.0      40\n",
       "6.0      29\n",
       "7.0      27\n",
       "8.0      20\n",
       "9.0      16\n",
       "10.0     12\n",
       "13.0      6\n",
       "11.0      6\n",
       "14.0      6\n",
       "12.0      5\n",
       "20.0      1\n",
       "15.0      1\n",
       "16.0      1\n",
       "17.0      1\n",
       "Name: updrs_4, dtype: int64"
      ]
     },
     "execution_count": 20,
     "metadata": {},
     "output_type": "execute_result"
    }
   ],
   "source": [
    "train_clinical[train_clinical[\"visit_month\"] < 54]['updrs_4'].value_counts()"
   ]
  },
  {
   "cell_type": "code",
   "execution_count": 21,
   "id": "95c8c7e9",
   "metadata": {
    "execution": {
     "iopub.execute_input": "2023-05-15T10:27:01.601554Z",
     "iopub.status.busy": "2023-05-15T10:27:01.600815Z",
     "iopub.status.idle": "2023-05-15T10:27:01.932427Z",
     "shell.execute_reply": "2023-05-15T10:27:01.931225Z"
    },
    "papermill": {
     "duration": 0.367494,
     "end_time": "2023-05-15T10:27:01.934936",
     "exception": false,
     "start_time": "2023-05-15T10:27:01.567442",
     "status": "completed"
    },
    "tags": []
   },
   "outputs": [
    {
     "data": {
      "text/plain": [
       "<AxesSubplot: ylabel='updrs_4'>"
      ]
     },
     "execution_count": 21,
     "metadata": {},
     "output_type": "execute_result"
    },
    {
     "data": {
      "image/png": "[encoded data removed]",
      "text/plain": [
       "<Figure size 640x480 with 1 Axes>"
      ]
     },
     "metadata": {},
     "output_type": "display_data"
    }
   ],
   "source": [
    "sns.lineplot(x = train_clinical.index, y = train_clinical['updrs_4'])"
   ]
  },
  {
   "cell_type": "markdown",
   "id": "5502f25c",
   "metadata": {
    "papermill": {
     "duration": 0.032724,
     "end_time": "2023-05-15T10:27:02.000600",
     "exception": false,
     "start_time": "2023-05-15T10:27:01.967876",
     "status": "completed"
    },
    "tags": []
   },
   "source": [
    "If there still null values in there impute it from 0"
   ]
  },
  {
   "cell_type": "code",
   "execution_count": 22,
   "id": "1bdad9c3",
   "metadata": {
    "execution": {
     "iopub.execute_input": "2023-05-15T10:27:02.067540Z",
     "iopub.status.busy": "2023-05-15T10:27:02.067107Z",
     "iopub.status.idle": "2023-05-15T10:27:02.072665Z",
     "shell.execute_reply": "2023-05-15T10:27:02.071198Z"
    },
    "papermill": {
     "duration": 0.042383,
     "end_time": "2023-05-15T10:27:02.075899",
     "exception": false,
     "start_time": "2023-05-15T10:27:02.033516",
     "status": "completed"
    },
    "tags": []
   },
   "outputs": [],
   "source": [
    "# train_clinical['updrs_4'] = train_clinical['updrs_4'].fillna(0)"
   ]
  },
  {
   "cell_type": "code",
   "execution_count": 23,
   "id": "05d3ff8a",
   "metadata": {
    "execution": {
     "iopub.execute_input": "2023-05-15T10:27:02.145140Z",
     "iopub.status.busy": "2023-05-15T10:27:02.144453Z",
     "iopub.status.idle": "2023-05-15T10:27:02.162402Z",
     "shell.execute_reply": "2023-05-15T10:27:02.161003Z"
    },
    "papermill": {
     "duration": 0.056479,
     "end_time": "2023-05-15T10:27:02.165150",
     "exception": false,
     "start_time": "2023-05-15T10:27:02.108671",
     "status": "completed"
    },
    "tags": []
   },
   "outputs": [
    {
     "data": {
      "text/html": [
       "<div>\n",
       "<style scoped>\n",
       "    .dataframe tbody tr th:only-of-type {\n",
       "        vertical-align: middle;\n",
       "    }\n",
       "\n",
       "    .dataframe tbody tr th {\n",
       "        vertical-align: top;\n",
       "    }\n",
       "\n",
       "    .dataframe thead th {\n",
       "        text-align: right;\n",
       "    }\n",
       "</style>\n",
       "<table border=\"1\" class=\"dataframe\">\n",
       "  <thead>\n",
       "    <tr style=\"text-align: right;\">\n",
       "      <th></th>\n",
       "      <th>visit_id</th>\n",
       "      <th>patient_id</th>\n",
       "      <th>visit_month</th>\n",
       "      <th>updrs_1</th>\n",
       "      <th>updrs_2</th>\n",
       "      <th>updrs_3</th>\n",
       "      <th>updrs_4</th>\n",
       "      <th>upd23b_clinical_state_on_medication</th>\n",
       "    </tr>\n",
       "  </thead>\n",
       "  <tbody>\n",
       "    <tr>\n",
       "      <th>0</th>\n",
       "      <td>55_0</td>\n",
       "      <td>55</td>\n",
       "      <td>0</td>\n",
       "      <td>10.0</td>\n",
       "      <td>6.0</td>\n",
       "      <td>15.0</td>\n",
       "      <td>NaN</td>\n",
       "      <td>NaN</td>\n",
       "    </tr>\n",
       "    <tr>\n",
       "      <th>1</th>\n",
       "      <td>55_3</td>\n",
       "      <td>55</td>\n",
       "      <td>3</td>\n",
       "      <td>10.0</td>\n",
       "      <td>7.0</td>\n",
       "      <td>25.0</td>\n",
       "      <td>NaN</td>\n",
       "      <td>NaN</td>\n",
       "    </tr>\n",
       "    <tr>\n",
       "      <th>2</th>\n",
       "      <td>55_6</td>\n",
       "      <td>55</td>\n",
       "      <td>6</td>\n",
       "      <td>8.0</td>\n",
       "      <td>10.0</td>\n",
       "      <td>34.0</td>\n",
       "      <td>NaN</td>\n",
       "      <td>NaN</td>\n",
       "    </tr>\n",
       "    <tr>\n",
       "      <th>3</th>\n",
       "      <td>55_9</td>\n",
       "      <td>55</td>\n",
       "      <td>9</td>\n",
       "      <td>8.0</td>\n",
       "      <td>9.0</td>\n",
       "      <td>30.0</td>\n",
       "      <td>0.0</td>\n",
       "      <td>On</td>\n",
       "    </tr>\n",
       "    <tr>\n",
       "      <th>4</th>\n",
       "      <td>55_12</td>\n",
       "      <td>55</td>\n",
       "      <td>12</td>\n",
       "      <td>10.0</td>\n",
       "      <td>10.0</td>\n",
       "      <td>41.0</td>\n",
       "      <td>0.0</td>\n",
       "      <td>On</td>\n",
       "    </tr>\n",
       "  </tbody>\n",
       "</table>\n",
       "</div>"
      ],
      "text/plain": [
       "  visit_id  patient_id  visit_month  updrs_1  updrs_2  updrs_3  updrs_4  \\\n",
       "0     55_0          55            0     10.0      6.0     15.0      NaN   \n",
       "1     55_3          55            3     10.0      7.0     25.0      NaN   \n",
       "2     55_6          55            6      8.0     10.0     34.0      NaN   \n",
       "3     55_9          55            9      8.0      9.0     30.0      0.0   \n",
       "4    55_12          55           12     10.0     10.0     41.0      0.0   \n",
       "\n",
       "  upd23b_clinical_state_on_medication  \n",
       "0                                 NaN  \n",
       "1                                 NaN  \n",
       "2                                 NaN  \n",
       "3                                  On  \n",
       "4                                  On  "
      ]
     },
     "execution_count": 23,
     "metadata": {},
     "output_type": "execute_result"
    }
   ],
   "source": [
    "train_clinical.head(5)"
   ]
  },
  {
   "cell_type": "code",
   "execution_count": 24,
   "id": "4c45b172",
   "metadata": {
    "execution": {
     "iopub.execute_input": "2023-05-15T10:27:02.231802Z",
     "iopub.status.busy": "2023-05-15T10:27:02.231049Z",
     "iopub.status.idle": "2023-05-15T10:27:02.241838Z",
     "shell.execute_reply": "2023-05-15T10:27:02.240644Z"
    },
    "papermill": {
     "duration": 0.047155,
     "end_time": "2023-05-15T10:27:02.244555",
     "exception": false,
     "start_time": "2023-05-15T10:27:02.197400",
     "status": "completed"
    },
    "tags": []
   },
   "outputs": [
    {
     "data": {
      "text/plain": [
       "visit_id                                  0\n",
       "patient_id                                0\n",
       "visit_month                               0\n",
       "updrs_1                                   0\n",
       "updrs_2                                   0\n",
       "updrs_3                                   0\n",
       "updrs_4                                1038\n",
       "upd23b_clinical_state_on_medication    1327\n",
       "dtype: int64"
      ]
     },
     "execution_count": 24,
     "metadata": {},
     "output_type": "execute_result"
    }
   ],
   "source": [
    "train_clinical.isnull().sum()"
   ]
  },
  {
   "cell_type": "markdown",
   "id": "a3ec6fe7",
   "metadata": {
    "papermill": {
     "duration": 0.033083,
     "end_time": "2023-05-15T10:27:02.310911",
     "exception": false,
     "start_time": "2023-05-15T10:27:02.277828",
     "status": "completed"
    },
    "tags": []
   },
   "source": [
    "Now we try to handle missing values in upd23b_clinical_state_on_medication.\n",
    "\n",
    "The \"upd23b_clinical_state_on_medication\" refers to a specific item or variable related to the UPDRS assessment. It indicates whether the patient was taking medication, such as Levodopa, during the evaluation. This information is important because medication, particularly Levodopa, can have a significant impact on the motor function of individuals with Parkinson's disease.\n",
    "\n",
    "upd23b_clinical_state_on_medication 'on' = taking medication \n",
    "upd23b_clinical_state_on_medication 'off' = not taking medication"
   ]
  },
  {
   "cell_type": "code",
   "execution_count": 25,
   "id": "bb59907d",
   "metadata": {
    "execution": {
     "iopub.execute_input": "2023-05-15T10:27:02.379595Z",
     "iopub.status.busy": "2023-05-15T10:27:02.378869Z",
     "iopub.status.idle": "2023-05-15T10:27:02.385896Z",
     "shell.execute_reply": "2023-05-15T10:27:02.384758Z"
    },
    "papermill": {
     "duration": 0.043987,
     "end_time": "2023-05-15T10:27:02.388294",
     "exception": false,
     "start_time": "2023-05-15T10:27:02.344307",
     "status": "completed"
    },
    "tags": []
   },
   "outputs": [
    {
     "data": {
      "text/plain": [
       "array([nan, 'On', 'Off'], dtype=object)"
      ]
     },
     "execution_count": 25,
     "metadata": {},
     "output_type": "execute_result"
    }
   ],
   "source": [
    "train_clinical['upd23b_clinical_state_on_medication'].unique()"
   ]
  },
  {
   "cell_type": "code",
   "execution_count": null,
   "id": "d7783553",
   "metadata": {
    "papermill": {
     "duration": 0.033442,
     "end_time": "2023-05-15T10:27:02.455490",
     "exception": false,
     "start_time": "2023-05-15T10:27:02.422048",
     "status": "completed"
    },
    "tags": []
   },
   "outputs": [],
   "source": []
  },
  {
   "cell_type": "markdown",
   "id": "bd154478",
   "metadata": {
    "papermill": {
     "duration": 0.033463,
     "end_time": "2023-05-15T10:27:02.522721",
     "exception": false,
     "start_time": "2023-05-15T10:27:02.489258",
     "status": "completed"
    },
    "tags": []
   },
   "source": [
    "## Proteins dataset"
   ]
  },
  {
   "cell_type": "code",
   "execution_count": 26,
   "id": "0b8d7114",
   "metadata": {
    "execution": {
     "iopub.execute_input": "2023-05-15T10:27:02.596258Z",
     "iopub.status.busy": "2023-05-15T10:27:02.595503Z",
     "iopub.status.idle": "2023-05-15T10:27:02.750242Z",
     "shell.execute_reply": "2023-05-15T10:27:02.748542Z"
    },
    "papermill": {
     "duration": 0.196761,
     "end_time": "2023-05-15T10:27:02.753395",
     "exception": false,
     "start_time": "2023-05-15T10:27:02.556634",
     "status": "completed"
    },
    "tags": []
   },
   "outputs": [
    {
     "data": {
      "text/plain": [
       "visit_id       0\n",
       "visit_month    0\n",
       "patient_id     0\n",
       "UniProt        0\n",
       "NPX            0\n",
       "dtype: int64"
      ]
     },
     "execution_count": 26,
     "metadata": {},
     "output_type": "execute_result"
    }
   ],
   "source": [
    "train_proteins.isnull().sum()"
   ]
  },
  {
   "cell_type": "markdown",
   "id": "c7f400f3",
   "metadata": {
    "papermill": {
     "duration": 0.033589,
     "end_time": "2023-05-15T10:27:02.822443",
     "exception": false,
     "start_time": "2023-05-15T10:27:02.788854",
     "status": "completed"
    },
    "tags": []
   },
   "source": [
    "## Peptide dataset"
   ]
  },
  {
   "cell_type": "code",
   "execution_count": 27,
   "id": "8830ad7e",
   "metadata": {
    "execution": {
     "iopub.execute_input": "2023-05-15T10:27:02.890595Z",
     "iopub.status.busy": "2023-05-15T10:27:02.890128Z",
     "iopub.status.idle": "2023-05-15T10:27:03.832387Z",
     "shell.execute_reply": "2023-05-15T10:27:03.830403Z"
    },
    "papermill": {
     "duration": 0.980005,
     "end_time": "2023-05-15T10:27:03.835219",
     "exception": false,
     "start_time": "2023-05-15T10:27:02.855214",
     "status": "completed"
    },
    "tags": []
   },
   "outputs": [
    {
     "data": {
      "text/plain": [
       "visit_id            0\n",
       "visit_month         0\n",
       "patient_id          0\n",
       "UniProt             0\n",
       "Peptide             0\n",
       "PeptideAbundance    0\n",
       "dtype: int64"
      ]
     },
     "execution_count": 27,
     "metadata": {},
     "output_type": "execute_result"
    }
   ],
   "source": [
    "train_peptides.isnull().sum()"
   ]
  },
  {
   "cell_type": "markdown",
   "id": "d8b6d359",
   "metadata": {
    "papermill": {
     "duration": 0.034946,
     "end_time": "2023-05-15T10:27:03.904965",
     "exception": false,
     "start_time": "2023-05-15T10:27:03.870019",
     "status": "completed"
    },
    "tags": []
   },
   "source": [
    "# Handling outlier "
   ]
  },
  {
   "cell_type": "code",
   "execution_count": 28,
   "id": "7b08fc7b",
   "metadata": {
    "execution": {
     "iopub.execute_input": "2023-05-15T10:27:03.974057Z",
     "iopub.status.busy": "2023-05-15T10:27:03.973634Z",
     "iopub.status.idle": "2023-05-15T10:27:04.008787Z",
     "shell.execute_reply": "2023-05-15T10:27:04.007546Z"
    },
    "papermill": {
     "duration": 0.073139,
     "end_time": "2023-05-15T10:27:04.011584",
     "exception": false,
     "start_time": "2023-05-15T10:27:03.938445",
     "status": "completed"
    },
    "tags": []
   },
   "outputs": [
    {
     "data": {
      "text/html": [
       "<div>\n",
       "<style scoped>\n",
       "    .dataframe tbody tr th:only-of-type {\n",
       "        vertical-align: middle;\n",
       "    }\n",
       "\n",
       "    .dataframe tbody tr th {\n",
       "        vertical-align: top;\n",
       "    }\n",
       "\n",
       "    .dataframe thead th {\n",
       "        text-align: right;\n",
       "    }\n",
       "</style>\n",
       "<table border=\"1\" class=\"dataframe\">\n",
       "  <thead>\n",
       "    <tr style=\"text-align: right;\">\n",
       "      <th></th>\n",
       "      <th>patient_id</th>\n",
       "      <th>visit_month</th>\n",
       "      <th>updrs_1</th>\n",
       "      <th>updrs_2</th>\n",
       "      <th>updrs_3</th>\n",
       "      <th>updrs_4</th>\n",
       "    </tr>\n",
       "  </thead>\n",
       "  <tbody>\n",
       "    <tr>\n",
       "      <th>count</th>\n",
       "      <td>2615.000000</td>\n",
       "      <td>2615.000000</td>\n",
       "      <td>2615.000000</td>\n",
       "      <td>2615.000000</td>\n",
       "      <td>2615.000000</td>\n",
       "      <td>1577.000000</td>\n",
       "    </tr>\n",
       "    <tr>\n",
       "      <th>mean</th>\n",
       "      <td>32651.743786</td>\n",
       "      <td>31.190822</td>\n",
       "      <td>7.109560</td>\n",
       "      <td>6.742256</td>\n",
       "      <td>19.468604</td>\n",
       "      <td>1.861763</td>\n",
       "    </tr>\n",
       "    <tr>\n",
       "      <th>std</th>\n",
       "      <td>18535.758700</td>\n",
       "      <td>25.199053</td>\n",
       "      <td>5.525134</td>\n",
       "      <td>6.322507</td>\n",
       "      <td>15.142749</td>\n",
       "      <td>3.022112</td>\n",
       "    </tr>\n",
       "    <tr>\n",
       "      <th>min</th>\n",
       "      <td>55.000000</td>\n",
       "      <td>0.000000</td>\n",
       "      <td>0.000000</td>\n",
       "      <td>0.000000</td>\n",
       "      <td>-43.900000</td>\n",
       "      <td>0.000000</td>\n",
       "    </tr>\n",
       "    <tr>\n",
       "      <th>25%</th>\n",
       "      <td>16574.000000</td>\n",
       "      <td>10.500000</td>\n",
       "      <td>3.000000</td>\n",
       "      <td>1.000000</td>\n",
       "      <td>6.000000</td>\n",
       "      <td>0.000000</td>\n",
       "    </tr>\n",
       "    <tr>\n",
       "      <th>50%</th>\n",
       "      <td>29417.000000</td>\n",
       "      <td>24.000000</td>\n",
       "      <td>6.000000</td>\n",
       "      <td>5.000000</td>\n",
       "      <td>19.000000</td>\n",
       "      <td>0.000000</td>\n",
       "    </tr>\n",
       "    <tr>\n",
       "      <th>75%</th>\n",
       "      <td>50611.000000</td>\n",
       "      <td>48.000000</td>\n",
       "      <td>10.000000</td>\n",
       "      <td>10.000000</td>\n",
       "      <td>29.000000</td>\n",
       "      <td>3.000000</td>\n",
       "    </tr>\n",
       "    <tr>\n",
       "      <th>max</th>\n",
       "      <td>65043.000000</td>\n",
       "      <td>108.000000</td>\n",
       "      <td>33.000000</td>\n",
       "      <td>40.000000</td>\n",
       "      <td>86.000000</td>\n",
       "      <td>20.000000</td>\n",
       "    </tr>\n",
       "  </tbody>\n",
       "</table>\n",
       "</div>"
      ],
      "text/plain": [
       "         patient_id  visit_month      updrs_1      updrs_2      updrs_3  \\\n",
       "count   2615.000000  2615.000000  2615.000000  2615.000000  2615.000000   \n",
       "mean   32651.743786    31.190822     7.109560     6.742256    19.468604   \n",
       "std    18535.758700    25.199053     5.525134     6.322507    15.142749   \n",
       "min       55.000000     0.000000     0.000000     0.000000   -43.900000   \n",
       "25%    16574.000000    10.500000     3.000000     1.000000     6.000000   \n",
       "50%    29417.000000    24.000000     6.000000     5.000000    19.000000   \n",
       "75%    50611.000000    48.000000    10.000000    10.000000    29.000000   \n",
       "max    65043.000000   108.000000    33.000000    40.000000    86.000000   \n",
       "\n",
       "           updrs_4  \n",
       "count  1577.000000  \n",
       "mean      1.861763  \n",
       "std       3.022112  \n",
       "min       0.000000  \n",
       "25%       0.000000  \n",
       "50%       0.000000  \n",
       "75%       3.000000  \n",
       "max      20.000000  "
      ]
     },
     "execution_count": 28,
     "metadata": {},
     "output_type": "execute_result"
    }
   ],
   "source": [
    "train_clinical.describe()"
   ]
  },
  {
   "cell_type": "markdown",
   "id": "513bc51a",
   "metadata": {
    "papermill": {
     "duration": 0.033137,
     "end_time": "2023-05-15T10:27:04.077791",
     "exception": false,
     "start_time": "2023-05-15T10:27:04.044654",
     "status": "completed"
    },
    "tags": []
   },
   "source": [
    "# Prepare the dataset\n",
    "\n",
    "We have to predict the ratings for the the first 4 segments of UPDRS `updrs_1`, `updrs_2`, `updrs_3` and `updrs_4` that is likely to be recorded by the clinic during a patient visit. Hence these are our labels."
   ]
  },
  {
   "cell_type": "markdown",
   "id": "95bfc46b",
   "metadata": {
    "papermill": {
     "duration": 0.033584,
     "end_time": "2023-05-15T10:27:04.145674",
     "exception": false,
     "start_time": "2023-05-15T10:27:04.112090",
     "status": "completed"
    },
    "tags": []
   },
   "source": [
    "We will now prepare the dataset for training models to predict the 4 labels."
   ]
  },
  {
   "cell_type": "markdown",
   "id": "1423a0f2",
   "metadata": {
    "papermill": {
     "duration": 0.033797,
     "end_time": "2023-05-15T10:27:04.212649",
     "exception": false,
     "start_time": "2023-05-15T10:27:04.178852",
     "status": "completed"
    },
    "tags": []
   },
   "source": [
    "To predict the target labels(`updrs_1`, `updrs_2`, `updrs_3`, `updrs_4`) for a given visit, we will use the recorded protein and peptide data of the patient during that visit.\n",
    "\n",
    "First we will group the rows in `train_proteins` data by visit ids (`visit id`) and protein ids (`UniProt`). Then we will replace the`NPX` values of each row in a group with the mean of the `NPX` values of all rows in that group.\n",
    "\n",
    "Similarly we will group the rows in `train_peptides` data by their visit ids(`visit_id`) and peptide ids(`Peptide`). Then we will replace the `PeptideAbundance` values of each row in a group with the mean of the `PeptideAbundance` values of all rows in that group. "
   ]
  },
  {
   "cell_type": "markdown",
   "id": "6887c8c6",
   "metadata": {
    "papermill": {
     "duration": 0.032843,
     "end_time": "2023-05-15T10:27:04.279809",
     "exception": false,
     "start_time": "2023-05-15T10:27:04.246966",
     "status": "completed"
    },
    "tags": []
   },
   "source": [
    "Now we will spread the rows of the grouped datasets into columns. For this we will use the Pandas pivot function."
   ]
  },
  {
   "cell_type": "markdown",
   "id": "a0b3c257",
   "metadata": {
    "papermill": {
     "duration": 0.033298,
     "end_time": "2023-05-15T10:27:04.345758",
     "exception": false,
     "start_time": "2023-05-15T10:27:04.312460",
     "status": "completed"
    },
    "tags": []
   },
   "source": [
    "The Protein dataset is pivoted such that unique values of `visit_id` become the indices and the values of `UniProt1` in the dataset become columns. For each visit(row), the `NPX` values corresponding to the different`UniProt1` values recorded for that visit are captured in the columns.\n",
    "\n",
    "The Peptipe dataset is pivoted such that unique values of `visit_id` become the indices and the values of `Peptide` in the dataset become columns. For each visit(row), the `PeptideAbundance` values corresponding to the different`Peptide` values recorded for that visit are captured in the columns."
   ]
  },
  {
   "cell_type": "markdown",
   "id": "471a016a",
   "metadata": {
    "papermill": {
     "duration": 0.034459,
     "end_time": "2023-05-15T10:27:04.413722",
     "exception": false,
     "start_time": "2023-05-15T10:27:04.379263",
     "status": "completed"
    },
    "tags": []
   },
   "source": [
    "We will now merge the pivoted peptide dataset with the pivoted protein dataset on `visit_id`.\n",
    "\n",
    "The figure shown below illustrates the logic behind Pandas merge function."
   ]
  },
  {
   "cell_type": "markdown",
   "id": "edbc9b4c",
   "metadata": {
    "papermill": {
     "duration": 0.034263,
     "end_time": "2023-05-15T10:27:04.480602",
     "exception": false,
     "start_time": "2023-05-15T10:27:04.446339",
     "status": "completed"
    },
    "tags": []
   },
   "source": [
    "In this notebook, we will let TensorFlow Decision Forests handle the missing values in the numerical columns."
   ]
  },
  {
   "cell_type": "code",
   "execution_count": 29,
   "id": "864ec801",
   "metadata": {
    "execution": {
     "iopub.execute_input": "2023-05-15T10:27:04.548507Z",
     "iopub.status.busy": "2023-05-15T10:27:04.547830Z",
     "iopub.status.idle": "2023-05-15T10:27:04.556130Z",
     "shell.execute_reply": "2023-05-15T10:27:04.555137Z"
    },
    "papermill": {
     "duration": 0.045557,
     "end_time": "2023-05-15T10:27:04.558705",
     "exception": false,
     "start_time": "2023-05-15T10:27:04.513148",
     "status": "completed"
    },
    "tags": []
   },
   "outputs": [],
   "source": [
    "# Function to prepare dataset with all the steps mentioned above:\n",
    "def prepare_dataset(train_proteins, train_peptides):\n",
    "    # Step 1: Grouping \n",
    "    df_protein_grouped = train_proteins.groupby(['visit_id','UniProt'])['NPX'].mean().reset_index()\n",
    "    df_peptide_grouped = train_peptides.groupby(['visit_id','Peptide'])['PeptideAbundance'].mean().reset_index()\n",
    "    \n",
    "    # Step 2: Pivoting\n",
    "    df_protein = df_protein_grouped.pivot(index='visit_id',columns = 'UniProt', values = 'NPX').rename_axis(columns=None).reset_index()\n",
    "    df_peptide = df_peptide_grouped.pivot(index='visit_id',columns = 'Peptide', values = 'PeptideAbundance').rename_axis(columns=None).reset_index()\n",
    "    \n",
    "    # Step 3: Merging\n",
    "    pro_pep_df = df_protein.merge(df_peptide, on = ['visit_id'], how = 'left')\n",
    "    \n",
    "    return pro_pep_df\n",
    "    "
   ]
  },
  {
   "cell_type": "code",
   "execution_count": 30,
   "id": "c339aad0",
   "metadata": {
    "execution": {
     "iopub.execute_input": "2023-05-15T10:27:04.630807Z",
     "iopub.status.busy": "2023-05-15T10:27:04.630080Z",
     "iopub.status.idle": "2023-05-15T10:27:05.988428Z",
     "shell.execute_reply": "2023-05-15T10:27:05.986955Z"
    },
    "papermill": {
     "duration": 1.396544,
     "end_time": "2023-05-15T10:27:05.991275",
     "exception": false,
     "start_time": "2023-05-15T10:27:04.594731",
     "status": "completed"
    },
    "tags": []
   },
   "outputs": [],
   "source": [
    "pro_pep_df = prepare_dataset(train_proteins, train_peptides)"
   ]
  },
  {
   "cell_type": "markdown",
   "id": "78d4c415",
   "metadata": {
    "papermill": {
     "duration": 0.035148,
     "end_time": "2023-05-15T10:27:06.061300",
     "exception": false,
     "start_time": "2023-05-15T10:27:06.026152",
     "status": "completed"
    },
    "tags": []
   },
   "source": [
    "# Basic exploration of the prepared dataset"
   ]
  },
  {
   "cell_type": "code",
   "execution_count": 31,
   "id": "e37746e0",
   "metadata": {
    "execution": {
     "iopub.execute_input": "2023-05-15T10:27:06.131671Z",
     "iopub.status.busy": "2023-05-15T10:27:06.131233Z",
     "iopub.status.idle": "2023-05-15T10:27:06.138239Z",
     "shell.execute_reply": "2023-05-15T10:27:06.137295Z"
    },
    "papermill": {
     "duration": 0.0457,
     "end_time": "2023-05-15T10:27:06.140348",
     "exception": false,
     "start_time": "2023-05-15T10:27:06.094648",
     "status": "completed"
    },
    "tags": []
   },
   "outputs": [
    {
     "data": {
      "text/plain": [
       "(1113, 1196)"
      ]
     },
     "execution_count": 31,
     "metadata": {},
     "output_type": "execute_result"
    }
   ],
   "source": [
    "pro_pep_df.shape"
   ]
  },
  {
   "cell_type": "markdown",
   "id": "05b900ef",
   "metadata": {
    "papermill": {
     "duration": 0.034721,
     "end_time": "2023-05-15T10:27:06.208800",
     "exception": false,
     "start_time": "2023-05-15T10:27:06.174079",
     "status": "completed"
    },
    "tags": []
   },
   "source": [
    "Our feature engineered dataset is composed of 1196 columns and 1113 entries.\n",
    "\n",
    "Let us print out the first 5 entries using the following code:"
   ]
  },
  {
   "cell_type": "code",
   "execution_count": 32,
   "id": "b17de302",
   "metadata": {
    "execution": {
     "iopub.execute_input": "2023-05-15T10:27:06.277498Z",
     "iopub.status.busy": "2023-05-15T10:27:06.277051Z",
     "iopub.status.idle": "2023-05-15T10:27:06.313796Z",
     "shell.execute_reply": "2023-05-15T10:27:06.312661Z"
    },
    "papermill": {
     "duration": 0.073683,
     "end_time": "2023-05-15T10:27:06.316240",
     "exception": false,
     "start_time": "2023-05-15T10:27:06.242557",
     "status": "completed"
    },
    "tags": []
   },
   "outputs": [
    {
     "data": {
      "text/html": [
       "<div>\n",
       "<style scoped>\n",
       "    .dataframe tbody tr th:only-of-type {\n",
       "        vertical-align: middle;\n",
       "    }\n",
       "\n",
       "    .dataframe tbody tr th {\n",
       "        vertical-align: top;\n",
       "    }\n",
       "\n",
       "    .dataframe thead th {\n",
       "        text-align: right;\n",
       "    }\n",
       "</style>\n",
       "<table border=\"1\" class=\"dataframe\">\n",
       "  <thead>\n",
       "    <tr style=\"text-align: right;\">\n",
       "      <th></th>\n",
       "      <th>visit_id</th>\n",
       "      <th>O00391</th>\n",
       "      <th>O00533</th>\n",
       "      <th>O00584</th>\n",
       "      <th>O14498</th>\n",
       "      <th>O14773</th>\n",
       "      <th>O14791</th>\n",
       "      <th>O15240</th>\n",
       "      <th>O15394</th>\n",
       "      <th>O43505</th>\n",
       "      <th>...</th>\n",
       "      <th>YSLTYIYTGLSK</th>\n",
       "      <th>YTTEIIK</th>\n",
       "      <th>YVGGQEHFAHLLILR</th>\n",
       "      <th>YVM(UniMod_35)LPVADQDQC(UniMod_4)IR</th>\n",
       "      <th>YVMLPVADQDQC(UniMod_4)IR</th>\n",
       "      <th>YVNKEIQNAVNGVK</th>\n",
       "      <th>YWGVASFLQK</th>\n",
       "      <th>YYC(UniMod_4)FQGNQFLR</th>\n",
       "      <th>YYTYLIMNK</th>\n",
       "      <th>YYWGGQYTWDMAK</th>\n",
       "    </tr>\n",
       "  </thead>\n",
       "  <tbody>\n",
       "    <tr>\n",
       "      <th>0</th>\n",
       "      <td>10053_0</td>\n",
       "      <td>9104.27</td>\n",
       "      <td>402321.0</td>\n",
       "      <td>NaN</td>\n",
       "      <td>NaN</td>\n",
       "      <td>7150.57</td>\n",
       "      <td>2497.84</td>\n",
       "      <td>83002.9</td>\n",
       "      <td>15113.6</td>\n",
       "      <td>167327.0</td>\n",
       "      <td>...</td>\n",
       "      <td>202274.0</td>\n",
       "      <td>NaN</td>\n",
       "      <td>4401830.0</td>\n",
       "      <td>77482.6</td>\n",
       "      <td>583075.0</td>\n",
       "      <td>76705.7</td>\n",
       "      <td>104260.0</td>\n",
       "      <td>530223.0</td>\n",
       "      <td>NaN</td>\n",
       "      <td>7207.30</td>\n",
       "    </tr>\n",
       "    <tr>\n",
       "      <th>1</th>\n",
       "      <td>10053_12</td>\n",
       "      <td>10464.20</td>\n",
       "      <td>435586.0</td>\n",
       "      <td>NaN</td>\n",
       "      <td>NaN</td>\n",
       "      <td>NaN</td>\n",
       "      <td>NaN</td>\n",
       "      <td>197117.0</td>\n",
       "      <td>15099.1</td>\n",
       "      <td>164268.0</td>\n",
       "      <td>...</td>\n",
       "      <td>201009.0</td>\n",
       "      <td>NaN</td>\n",
       "      <td>5001750.0</td>\n",
       "      <td>36745.3</td>\n",
       "      <td>355643.0</td>\n",
       "      <td>92078.1</td>\n",
       "      <td>123254.0</td>\n",
       "      <td>453883.0</td>\n",
       "      <td>49281.9</td>\n",
       "      <td>25332.80</td>\n",
       "    </tr>\n",
       "    <tr>\n",
       "      <th>2</th>\n",
       "      <td>10053_18</td>\n",
       "      <td>13235.70</td>\n",
       "      <td>507386.0</td>\n",
       "      <td>7126.96</td>\n",
       "      <td>24525.7</td>\n",
       "      <td>NaN</td>\n",
       "      <td>2372.71</td>\n",
       "      <td>126506.0</td>\n",
       "      <td>16289.6</td>\n",
       "      <td>168107.0</td>\n",
       "      <td>...</td>\n",
       "      <td>220728.0</td>\n",
       "      <td>NaN</td>\n",
       "      <td>5424380.0</td>\n",
       "      <td>39016.0</td>\n",
       "      <td>496021.0</td>\n",
       "      <td>63203.6</td>\n",
       "      <td>128336.0</td>\n",
       "      <td>447505.0</td>\n",
       "      <td>52389.1</td>\n",
       "      <td>21235.70</td>\n",
       "    </tr>\n",
       "    <tr>\n",
       "      <th>3</th>\n",
       "      <td>10138_12</td>\n",
       "      <td>12600.20</td>\n",
       "      <td>494581.0</td>\n",
       "      <td>9165.06</td>\n",
       "      <td>27193.5</td>\n",
       "      <td>22506.10</td>\n",
       "      <td>6015.90</td>\n",
       "      <td>156313.0</td>\n",
       "      <td>54546.4</td>\n",
       "      <td>204013.0</td>\n",
       "      <td>...</td>\n",
       "      <td>188362.0</td>\n",
       "      <td>9433.71</td>\n",
       "      <td>3900280.0</td>\n",
       "      <td>48210.3</td>\n",
       "      <td>328482.0</td>\n",
       "      <td>89822.1</td>\n",
       "      <td>129964.0</td>\n",
       "      <td>552232.0</td>\n",
       "      <td>65657.8</td>\n",
       "      <td>9876.98</td>\n",
       "    </tr>\n",
       "    <tr>\n",
       "      <th>4</th>\n",
       "      <td>10138_24</td>\n",
       "      <td>12003.20</td>\n",
       "      <td>522138.0</td>\n",
       "      <td>4498.51</td>\n",
       "      <td>17189.8</td>\n",
       "      <td>29112.40</td>\n",
       "      <td>2665.15</td>\n",
       "      <td>151169.0</td>\n",
       "      <td>52338.1</td>\n",
       "      <td>240892.0</td>\n",
       "      <td>...</td>\n",
       "      <td>206187.0</td>\n",
       "      <td>6365.15</td>\n",
       "      <td>3521800.0</td>\n",
       "      <td>69984.6</td>\n",
       "      <td>496737.0</td>\n",
       "      <td>80919.3</td>\n",
       "      <td>111799.0</td>\n",
       "      <td>NaN</td>\n",
       "      <td>56977.6</td>\n",
       "      <td>4903.09</td>\n",
       "    </tr>\n",
       "  </tbody>\n",
       "</table>\n",
       "<p>5 rows × 1196 columns</p>\n",
       "</div>"
      ],
      "text/plain": [
       "   visit_id    O00391    O00533   O00584   O14498    O14773   O14791  \\\n",
       "0   10053_0   9104.27  402321.0      NaN      NaN   7150.57  2497.84   \n",
       "1  10053_12  10464.20  435586.0      NaN      NaN       NaN      NaN   \n",
       "2  10053_18  13235.70  507386.0  7126.96  24525.7       NaN  2372.71   \n",
       "3  10138_12  12600.20  494581.0  9165.06  27193.5  22506.10  6015.90   \n",
       "4  10138_24  12003.20  522138.0  4498.51  17189.8  29112.40  2665.15   \n",
       "\n",
       "     O15240   O15394    O43505  ...  YSLTYIYTGLSK  YTTEIIK  YVGGQEHFAHLLILR  \\\n",
       "0   83002.9  15113.6  167327.0  ...      202274.0      NaN        4401830.0   \n",
       "1  197117.0  15099.1  164268.0  ...      201009.0      NaN        5001750.0   \n",
       "2  126506.0  16289.6  168107.0  ...      220728.0      NaN        5424380.0   \n",
       "3  156313.0  54546.4  204013.0  ...      188362.0  9433.71        3900280.0   \n",
       "4  151169.0  52338.1  240892.0  ...      206187.0  6365.15        3521800.0   \n",
       "\n",
       "   YVM(UniMod_35)LPVADQDQC(UniMod_4)IR  YVMLPVADQDQC(UniMod_4)IR  \\\n",
       "0                              77482.6                  583075.0   \n",
       "1                              36745.3                  355643.0   \n",
       "2                              39016.0                  496021.0   \n",
       "3                              48210.3                  328482.0   \n",
       "4                              69984.6                  496737.0   \n",
       "\n",
       "   YVNKEIQNAVNGVK  YWGVASFLQK  YYC(UniMod_4)FQGNQFLR  YYTYLIMNK  YYWGGQYTWDMAK  \n",
       "0         76705.7    104260.0               530223.0        NaN        7207.30  \n",
       "1         92078.1    123254.0               453883.0    49281.9       25332.80  \n",
       "2         63203.6    128336.0               447505.0    52389.1       21235.70  \n",
       "3         89822.1    129964.0               552232.0    65657.8        9876.98  \n",
       "4         80919.3    111799.0                    NaN    56977.6        4903.09  \n",
       "\n",
       "[5 rows x 1196 columns]"
      ]
     },
     "execution_count": 32,
     "metadata": {},
     "output_type": "execute_result"
    }
   ],
   "source": [
    "# Display the first 5 examples\n",
    "pro_pep_df.head(5)"
   ]
  },
  {
   "cell_type": "code",
   "execution_count": 33,
   "id": "cb438b2b",
   "metadata": {
    "execution": {
     "iopub.execute_input": "2023-05-15T10:27:06.388040Z",
     "iopub.status.busy": "2023-05-15T10:27:06.386717Z",
     "iopub.status.idle": "2023-05-15T10:27:09.630530Z",
     "shell.execute_reply": "2023-05-15T10:27:09.628395Z"
    },
    "papermill": {
     "duration": 3.282527,
     "end_time": "2023-05-15T10:27:09.633483",
     "exception": false,
     "start_time": "2023-05-15T10:27:06.350956",
     "status": "completed"
    },
    "tags": []
   },
   "outputs": [
    {
     "data": {
      "text/html": [
       "<div>\n",
       "<style scoped>\n",
       "    .dataframe tbody tr th:only-of-type {\n",
       "        vertical-align: middle;\n",
       "    }\n",
       "\n",
       "    .dataframe tbody tr th {\n",
       "        vertical-align: top;\n",
       "    }\n",
       "\n",
       "    .dataframe thead th {\n",
       "        text-align: right;\n",
       "    }\n",
       "</style>\n",
       "<table border=\"1\" class=\"dataframe\">\n",
       "  <thead>\n",
       "    <tr style=\"text-align: right;\">\n",
       "      <th></th>\n",
       "      <th>O00391</th>\n",
       "      <th>O00533</th>\n",
       "      <th>O00584</th>\n",
       "      <th>O14498</th>\n",
       "      <th>O14773</th>\n",
       "      <th>O14791</th>\n",
       "      <th>O15240</th>\n",
       "      <th>O15394</th>\n",
       "      <th>O43505</th>\n",
       "      <th>O60888</th>\n",
       "      <th>...</th>\n",
       "      <th>YSLTYIYTGLSK</th>\n",
       "      <th>YTTEIIK</th>\n",
       "      <th>YVGGQEHFAHLLILR</th>\n",
       "      <th>YVM(UniMod_35)LPVADQDQC(UniMod_4)IR</th>\n",
       "      <th>YVMLPVADQDQC(UniMod_4)IR</th>\n",
       "      <th>YVNKEIQNAVNGVK</th>\n",
       "      <th>YWGVASFLQK</th>\n",
       "      <th>YYC(UniMod_4)FQGNQFLR</th>\n",
       "      <th>YYTYLIMNK</th>\n",
       "      <th>YYWGGQYTWDMAK</th>\n",
       "    </tr>\n",
       "  </thead>\n",
       "  <tbody>\n",
       "    <tr>\n",
       "      <th>count</th>\n",
       "      <td>764.000000</td>\n",
       "      <td>1.112000e+03</td>\n",
       "      <td>1100.000000</td>\n",
       "      <td>1032.000000</td>\n",
       "      <td>1047.000000</td>\n",
       "      <td>942.000000</td>\n",
       "      <td>1113.000000</td>\n",
       "      <td>1050.000000</td>\n",
       "      <td>1110.000000</td>\n",
       "      <td>1079.000000</td>\n",
       "      <td>...</td>\n",
       "      <td>1100.000000</td>\n",
       "      <td>994.000000</td>\n",
       "      <td>1.022000e+03</td>\n",
       "      <td>977.000000</td>\n",
       "      <td>1.091000e+03</td>\n",
       "      <td>1111.000000</td>\n",
       "      <td>1089.000000</td>\n",
       "      <td>1105.000000</td>\n",
       "      <td>1030.000000</td>\n",
       "      <td>865.00000</td>\n",
       "    </tr>\n",
       "    <tr>\n",
       "      <th>mean</th>\n",
       "      <td>11641.264435</td>\n",
       "      <td>5.111649e+05</td>\n",
       "      <td>26505.529157</td>\n",
       "      <td>27305.934884</td>\n",
       "      <td>17688.295406</td>\n",
       "      <td>3004.990691</td>\n",
       "      <td>126151.780054</td>\n",
       "      <td>50773.474638</td>\n",
       "      <td>195599.363694</td>\n",
       "      <td>145382.047368</td>\n",
       "      <td>...</td>\n",
       "      <td>215246.833636</td>\n",
       "      <td>9015.134433</td>\n",
       "      <td>3.937256e+06</td>\n",
       "      <td>67866.452927</td>\n",
       "      <td>6.110779e+05</td>\n",
       "      <td>92581.223041</td>\n",
       "      <td>125937.993436</td>\n",
       "      <td>471554.596652</td>\n",
       "      <td>47068.709311</td>\n",
       "      <td>21072.04823</td>\n",
       "    </tr>\n",
       "    <tr>\n",
       "      <th>std</th>\n",
       "      <td>2817.003530</td>\n",
       "      <td>2.357357e+05</td>\n",
       "      <td>10705.152540</td>\n",
       "      <td>8446.187506</td>\n",
       "      <td>7166.325369</td>\n",
       "      <td>1142.159575</td>\n",
       "      <td>72748.393517</td>\n",
       "      <td>21382.028764</td>\n",
       "      <td>79739.704279</td>\n",
       "      <td>58028.089713</td>\n",
       "      <td>...</td>\n",
       "      <td>50727.227704</td>\n",
       "      <td>3127.061637</td>\n",
       "      <td>1.677710e+06</td>\n",
       "      <td>61176.002825</td>\n",
       "      <td>5.047422e+05</td>\n",
       "      <td>30138.957433</td>\n",
       "      <td>38696.448657</td>\n",
       "      <td>131150.715245</td>\n",
       "      <td>13689.667117</td>\n",
       "      <td>10360.59380</td>\n",
       "    </tr>\n",
       "    <tr>\n",
       "      <th>min</th>\n",
       "      <td>873.778000</td>\n",
       "      <td>5.971820e+04</td>\n",
       "      <td>591.103000</td>\n",
       "      <td>8945.340000</td>\n",
       "      <td>2811.120000</td>\n",
       "      <td>336.517000</td>\n",
       "      <td>10717.400000</td>\n",
       "      <td>5806.840000</td>\n",
       "      <td>29740.900000</td>\n",
       "      <td>8358.080000</td>\n",
       "      <td>...</td>\n",
       "      <td>12164.300000</td>\n",
       "      <td>258.249000</td>\n",
       "      <td>1.624640e+05</td>\n",
       "      <td>884.260000</td>\n",
       "      <td>7.494660e+03</td>\n",
       "      <td>869.898000</td>\n",
       "      <td>991.452000</td>\n",
       "      <td>11371.200000</td>\n",
       "      <td>6362.490000</td>\n",
       "      <td>868.90300</td>\n",
       "    </tr>\n",
       "    <tr>\n",
       "      <th>25%</th>\n",
       "      <td>9736.857500</td>\n",
       "      <td>3.490590e+05</td>\n",
       "      <td>19941.075000</td>\n",
       "      <td>21123.650000</td>\n",
       "      <td>12920.050000</td>\n",
       "      <td>2189.087500</td>\n",
       "      <td>70560.600000</td>\n",
       "      <td>37008.975000</td>\n",
       "      <td>142054.500000</td>\n",
       "      <td>103983.000000</td>\n",
       "      <td>...</td>\n",
       "      <td>186658.250000</td>\n",
       "      <td>6899.805000</td>\n",
       "      <td>2.895622e+06</td>\n",
       "      <td>30997.900000</td>\n",
       "      <td>2.929505e+05</td>\n",
       "      <td>70508.150000</td>\n",
       "      <td>100691.000000</td>\n",
       "      <td>384902.000000</td>\n",
       "      <td>37752.375000</td>\n",
       "      <td>14249.90000</td>\n",
       "    </tr>\n",
       "    <tr>\n",
       "      <th>50%</th>\n",
       "      <td>11546.400000</td>\n",
       "      <td>4.834425e+05</td>\n",
       "      <td>26529.700000</td>\n",
       "      <td>26624.000000</td>\n",
       "      <td>17399.600000</td>\n",
       "      <td>2865.460000</td>\n",
       "      <td>116900.000000</td>\n",
       "      <td>50375.800000</td>\n",
       "      <td>185616.000000</td>\n",
       "      <td>136452.000000</td>\n",
       "      <td>...</td>\n",
       "      <td>217430.500000</td>\n",
       "      <td>8604.345000</td>\n",
       "      <td>3.671010e+06</td>\n",
       "      <td>52576.900000</td>\n",
       "      <td>4.702450e+05</td>\n",
       "      <td>88918.600000</td>\n",
       "      <td>123588.000000</td>\n",
       "      <td>463382.000000</td>\n",
       "      <td>45503.150000</td>\n",
       "      <td>20390.90000</td>\n",
       "    </tr>\n",
       "    <tr>\n",
       "      <th>75%</th>\n",
       "      <td>13383.025000</td>\n",
       "      <td>6.485572e+05</td>\n",
       "      <td>33222.800000</td>\n",
       "      <td>32459.275000</td>\n",
       "      <td>22077.050000</td>\n",
       "      <td>3593.147500</td>\n",
       "      <td>164947.000000</td>\n",
       "      <td>63446.700000</td>\n",
       "      <td>239731.500000</td>\n",
       "      <td>177451.000000</td>\n",
       "      <td>...</td>\n",
       "      <td>246423.500000</td>\n",
       "      <td>10612.775000</td>\n",
       "      <td>4.710635e+06</td>\n",
       "      <td>85369.600000</td>\n",
       "      <td>7.592380e+05</td>\n",
       "      <td>110140.000000</td>\n",
       "      <td>149597.000000</td>\n",
       "      <td>549455.000000</td>\n",
       "      <td>54748.350000</td>\n",
       "      <td>27031.90000</td>\n",
       "    </tr>\n",
       "    <tr>\n",
       "      <th>max</th>\n",
       "      <td>21361.800000</td>\n",
       "      <td>1.806980e+06</td>\n",
       "      <td>66252.400000</td>\n",
       "      <td>65347.900000</td>\n",
       "      <td>49695.600000</td>\n",
       "      <td>9352.640000</td>\n",
       "      <td>538862.000000</td>\n",
       "      <td>137369.000000</td>\n",
       "      <td>766591.000000</td>\n",
       "      <td>427084.000000</td>\n",
       "      <td>...</td>\n",
       "      <td>409939.000000</td>\n",
       "      <td>27670.500000</td>\n",
       "      <td>1.385550e+07</td>\n",
       "      <td>712856.000000</td>\n",
       "      <td>3.984710e+06</td>\n",
       "      <td>251526.000000</td>\n",
       "      <td>264224.000000</td>\n",
       "      <td>948416.000000</td>\n",
       "      <td>107220.000000</td>\n",
       "      <td>70020.80000</td>\n",
       "    </tr>\n",
       "  </tbody>\n",
       "</table>\n",
       "<p>8 rows × 1195 columns</p>\n",
       "</div>"
      ],
      "text/plain": [
       "             O00391        O00533        O00584        O14498        O14773  \\\n",
       "count    764.000000  1.112000e+03   1100.000000   1032.000000   1047.000000   \n",
       "mean   11641.264435  5.111649e+05  26505.529157  27305.934884  17688.295406   \n",
       "std     2817.003530  2.357357e+05  10705.152540   8446.187506   7166.325369   \n",
       "min      873.778000  5.971820e+04    591.103000   8945.340000   2811.120000   \n",
       "25%     9736.857500  3.490590e+05  19941.075000  21123.650000  12920.050000   \n",
       "50%    11546.400000  4.834425e+05  26529.700000  26624.000000  17399.600000   \n",
       "75%    13383.025000  6.485572e+05  33222.800000  32459.275000  22077.050000   \n",
       "max    21361.800000  1.806980e+06  66252.400000  65347.900000  49695.600000   \n",
       "\n",
       "            O14791         O15240         O15394         O43505  \\\n",
       "count   942.000000    1113.000000    1050.000000    1110.000000   \n",
       "mean   3004.990691  126151.780054   50773.474638  195599.363694   \n",
       "std    1142.159575   72748.393517   21382.028764   79739.704279   \n",
       "min     336.517000   10717.400000    5806.840000   29740.900000   \n",
       "25%    2189.087500   70560.600000   37008.975000  142054.500000   \n",
       "50%    2865.460000  116900.000000   50375.800000  185616.000000   \n",
       "75%    3593.147500  164947.000000   63446.700000  239731.500000   \n",
       "max    9352.640000  538862.000000  137369.000000  766591.000000   \n",
       "\n",
       "              O60888  ...   YSLTYIYTGLSK       YTTEIIK  YVGGQEHFAHLLILR  \\\n",
       "count    1079.000000  ...    1100.000000    994.000000     1.022000e+03   \n",
       "mean   145382.047368  ...  215246.833636   9015.134433     3.937256e+06   \n",
       "std     58028.089713  ...   50727.227704   3127.061637     1.677710e+06   \n",
       "min      8358.080000  ...   12164.300000    258.249000     1.624640e+05   \n",
       "25%    103983.000000  ...  186658.250000   6899.805000     2.895622e+06   \n",
       "50%    136452.000000  ...  217430.500000   8604.345000     3.671010e+06   \n",
       "75%    177451.000000  ...  246423.500000  10612.775000     4.710635e+06   \n",
       "max    427084.000000  ...  409939.000000  27670.500000     1.385550e+07   \n",
       "\n",
       "       YVM(UniMod_35)LPVADQDQC(UniMod_4)IR  YVMLPVADQDQC(UniMod_4)IR  \\\n",
       "count                           977.000000              1.091000e+03   \n",
       "mean                          67866.452927              6.110779e+05   \n",
       "std                           61176.002825              5.047422e+05   \n",
       "min                             884.260000              7.494660e+03   \n",
       "25%                           30997.900000              2.929505e+05   \n",
       "50%                           52576.900000              4.702450e+05   \n",
       "75%                           85369.600000              7.592380e+05   \n",
       "max                          712856.000000              3.984710e+06   \n",
       "\n",
       "       YVNKEIQNAVNGVK     YWGVASFLQK  YYC(UniMod_4)FQGNQFLR      YYTYLIMNK  \\\n",
       "count     1111.000000    1089.000000            1105.000000    1030.000000   \n",
       "mean     92581.223041  125937.993436          471554.596652   47068.709311   \n",
       "std      30138.957433   38696.448657          131150.715245   13689.667117   \n",
       "min        869.898000     991.452000           11371.200000    6362.490000   \n",
       "25%      70508.150000  100691.000000          384902.000000   37752.375000   \n",
       "50%      88918.600000  123588.000000          463382.000000   45503.150000   \n",
       "75%     110140.000000  149597.000000          549455.000000   54748.350000   \n",
       "max     251526.000000  264224.000000          948416.000000  107220.000000   \n",
       "\n",
       "       YYWGGQYTWDMAK  \n",
       "count      865.00000  \n",
       "mean     21072.04823  \n",
       "std      10360.59380  \n",
       "min        868.90300  \n",
       "25%      14249.90000  \n",
       "50%      20390.90000  \n",
       "75%      27031.90000  \n",
       "max      70020.80000  \n",
       "\n",
       "[8 rows x 1195 columns]"
      ]
     },
     "execution_count": 33,
     "metadata": {},
     "output_type": "execute_result"
    }
   ],
   "source": [
    "pro_pep_df.describe()"
   ]
  },
  {
   "cell_type": "markdown",
   "id": "090cb44f",
   "metadata": {
    "papermill": {
     "duration": 0.035279,
     "end_time": "2023-05-15T10:27:09.703284",
     "exception": false,
     "start_time": "2023-05-15T10:27:09.668005",
     "status": "completed"
    },
    "tags": []
   },
   "source": [
    "Now let us write a function to split the dataset into train and test datasets. This will be used in the training loop."
   ]
  },
  {
   "cell_type": "code",
   "execution_count": 34,
   "id": "291ea12e",
   "metadata": {
    "execution": {
     "iopub.execute_input": "2023-05-15T10:27:09.775451Z",
     "iopub.status.busy": "2023-05-15T10:27:09.774996Z",
     "iopub.status.idle": "2023-05-15T10:27:09.781645Z",
     "shell.execute_reply": "2023-05-15T10:27:09.780149Z"
    },
    "papermill": {
     "duration": 0.046204,
     "end_time": "2023-05-15T10:27:09.784495",
     "exception": false,
     "start_time": "2023-05-15T10:27:09.738291",
     "status": "completed"
    },
    "tags": []
   },
   "outputs": [],
   "source": [
    "def split_dataset(dataset, test_ratio=0.20):\n",
    "  test_indices = np.random.rand(len(dataset)) < test_ratio\n",
    "  return dataset[~test_indices], dataset[test_indices]"
   ]
  },
  {
   "cell_type": "markdown",
   "id": "658dffda",
   "metadata": {
    "papermill": {
     "duration": 0.035836,
     "end_time": "2023-05-15T10:27:09.857201",
     "exception": false,
     "start_time": "2023-05-15T10:27:09.821365",
     "status": "completed"
    },
    "tags": []
   },
   "source": [
    "# Select a Model\n",
    "There are several tree-based models for you to choose from.\n",
    "\n",
    "- RandomForestModel\n",
    "- GradientBoostedTreesModel\n",
    "- CartModel\n",
    "- DistributedGradientBoostedTreesModel\n",
    "\n",
    "We can list all the available models in TensorFlow Decision Forests using the following code:"
   ]
  },
  {
   "cell_type": "code",
   "execution_count": 35,
   "id": "3f12932b",
   "metadata": {
    "execution": {
     "iopub.execute_input": "2023-05-15T10:27:09.929164Z",
     "iopub.status.busy": "2023-05-15T10:27:09.928230Z",
     "iopub.status.idle": "2023-05-15T10:27:09.935041Z",
     "shell.execute_reply": "2023-05-15T10:27:09.933798Z"
    },
    "papermill": {
     "duration": 0.04577,
     "end_time": "2023-05-15T10:27:09.937403",
     "exception": false,
     "start_time": "2023-05-15T10:27:09.891633",
     "status": "completed"
    },
    "tags": []
   },
   "outputs": [
    {
     "data": {
      "text/plain": [
       "[tensorflow_decision_forests.keras.RandomForestModel,\n",
       " tensorflow_decision_forests.keras.GradientBoostedTreesModel,\n",
       " tensorflow_decision_forests.keras.CartModel,\n",
       " tensorflow_decision_forests.keras.DistributedGradientBoostedTreesModel]"
      ]
     },
     "execution_count": 35,
     "metadata": {},
     "output_type": "execute_result"
    }
   ],
   "source": [
    "tfdf.keras.get_all_models()"
   ]
  },
  {
   "cell_type": "markdown",
   "id": "2e23899d",
   "metadata": {
    "papermill": {
     "duration": 0.036179,
     "end_time": "2023-05-15T10:27:10.008314",
     "exception": false,
     "start_time": "2023-05-15T10:27:09.972135",
     "status": "completed"
    },
    "tags": []
   },
   "source": [
    "To get started, we'll work with a Random Forest. This is the most well-known of the Decision Forest training algorithms.\n",
    "\n",
    "A Random Forest is a collection of decision trees, each trained independently on a random subset of the training dataset (sampled with replacement). The algorithm is unique in that it is robust to overfitting, and easy to use."
   ]
  },
  {
   "cell_type": "markdown",
   "id": "1874118a",
   "metadata": {
    "papermill": {
     "duration": 0.03594,
     "end_time": "2023-05-15T10:27:10.079917",
     "exception": false,
     "start_time": "2023-05-15T10:27:10.043977",
     "status": "completed"
    },
    "tags": []
   },
   "source": [
    "# How can I configure a tree-based model?\n",
    "\n",
    "TensorFlow Decision Forests provides good defaults for you (e.g., the top ranking hyperparameters on our benchmarks, slightly modified to run in reasonable time). If you would like to configure the learning algorithm, you will find many options you can explore to get the highest possible accuracy.\n",
    "\n",
    "You can select a template and/or set parameters as follows:\n",
    "\n",
    "```rf = tfdf.keras.RandomForestModel(hyperparameter_template=\"benchmark_rank1\", task=tfdf.keras.Task.REGRESSION)```\n",
    "\n",
    "Read more [here](https://www.tensorflow.org/decision_forests/api_docs/python/tfdf/keras/RandomForestModel)."
   ]
  },
  {
   "cell_type": "markdown",
   "id": "b1cb4ddb",
   "metadata": {
    "papermill": {
     "duration": 0.035,
     "end_time": "2023-05-15T10:27:10.150924",
     "exception": false,
     "start_time": "2023-05-15T10:27:10.115924",
     "status": "completed"
    },
    "tags": []
   },
   "source": [
    "Before training the model, let us write a function to calculate the scoring metric of the competition."
   ]
  },
  {
   "cell_type": "markdown",
   "id": "2c0d63b6",
   "metadata": {
    "papermill": {
     "duration": 0.03704,
     "end_time": "2023-05-15T10:27:10.223348",
     "exception": false,
     "start_time": "2023-05-15T10:27:10.186308",
     "status": "completed"
    },
    "tags": []
   },
   "source": [
    "# sMAPE\n",
    "\n",
    "The scoring metric for this competition is sMAPE(symmetric Mean Absolute Percentage Error). In MAPE(Mean Absolute Percentage Error) we calculate the sum of absolute value of the forecast errors, divided by the actual values for each period([source](https://en.wikipedia.org/wiki/Mean_absolute_percentage_error)). \n",
    "\n",
    "Difference between MAPE and sMAPE is that sMAPE has both a lower bound and an upper bound. \n",
    "\n",
    "\n",
    "You can read more about sMAPE [here](https://en.wikipedia.org/wiki/Symmetric_mean_absolute_percentage_error).\n",
    "\n",
    "Since TensorFlow Datasets doesn't have a bultin function to calculate sMAPE metric yet, we will write a custom function to calculate sMAPE."
   ]
  },
  {
   "cell_type": "code",
   "execution_count": 36,
   "id": "a628a125",
   "metadata": {
    "execution": {
     "iopub.execute_input": "2023-05-15T10:27:10.295983Z",
     "iopub.status.busy": "2023-05-15T10:27:10.295552Z",
     "iopub.status.idle": "2023-05-15T10:27:10.301949Z",
     "shell.execute_reply": "2023-05-15T10:27:10.300837Z"
    },
    "papermill": {
     "duration": 0.045886,
     "end_time": "2023-05-15T10:27:10.304303",
     "exception": false,
     "start_time": "2023-05-15T10:27:10.258417",
     "status": "completed"
    },
    "tags": []
   },
   "outputs": [],
   "source": [
    "def smape(A, F):\n",
    "    return 100/len(A) * np.sum(2 * np.abs(F - A) / (np.abs(A) + np.abs(F)))"
   ]
  },
  {
   "cell_type": "markdown",
   "id": "8436d8be",
   "metadata": {
    "papermill": {
     "duration": 0.035708,
     "end_time": "2023-05-15T10:27:10.375345",
     "exception": false,
     "start_time": "2023-05-15T10:27:10.339637",
     "status": "completed"
    },
    "tags": []
   },
   "source": [
    "# Training\n",
    "\n",
    "We will train a model each to predict the first 4 segments of the UPDRS, `updrs_1`, `updrs_2`, `updrs_3` and `updrs_4`. Thus we we will be training 4 models, one for each label.\n",
    "\n",
    "We need to provide a few data structures to our training loop to store the trained models, sMAPE scores and mse scores for the trained models.\n",
    "\n",
    "We will create these using the following code:"
   ]
  },
  {
   "cell_type": "code",
   "execution_count": 37,
   "id": "8d88acb0",
   "metadata": {
    "execution": {
     "iopub.execute_input": "2023-05-15T10:27:10.450552Z",
     "iopub.status.busy": "2023-05-15T10:27:10.450114Z",
     "iopub.status.idle": "2023-05-15T10:27:10.455551Z",
     "shell.execute_reply": "2023-05-15T10:27:10.454320Z"
    },
    "papermill": {
     "duration": 0.044942,
     "end_time": "2023-05-15T10:27:10.458396",
     "exception": false,
     "start_time": "2023-05-15T10:27:10.413454",
     "status": "completed"
    },
    "tags": []
   },
   "outputs": [],
   "source": [
    "# Create an empty dictionary to store the models trained for each label.\n",
    "model_dict = {}\n",
    "\n",
    "# Create an empty dictionary to store the mse score of the models trained for each label.\n",
    "mse_dict = {}\n",
    "\n",
    "# Create an empty dictionary to store the sMAPE scores of the models trained for each label.\n",
    "smape_dict = {}"
   ]
  },
  {
   "cell_type": "markdown",
   "id": "760d6755",
   "metadata": {
    "papermill": {
     "duration": 0.034129,
     "end_time": "2023-05-15T10:27:10.528766",
     "exception": false,
     "start_time": "2023-05-15T10:27:10.494637",
     "status": "completed"
    },
    "tags": []
   },
   "source": [
    "Next, we will create a feature list with names of the columns we will use for training the model. We will avoid the column `visit_id` and add column the `visit_month`"
   ]
  },
  {
   "cell_type": "code",
   "execution_count": 38,
   "id": "1279b56a",
   "metadata": {
    "execution": {
     "iopub.execute_input": "2023-05-15T10:27:10.601533Z",
     "iopub.status.busy": "2023-05-15T10:27:10.600772Z",
     "iopub.status.idle": "2023-05-15T10:27:10.606351Z",
     "shell.execute_reply": "2023-05-15T10:27:10.605097Z"
    },
    "papermill": {
     "duration": 0.045084,
     "end_time": "2023-05-15T10:27:10.609638",
     "exception": false,
     "start_time": "2023-05-15T10:27:10.564554",
     "status": "completed"
    },
    "tags": []
   },
   "outputs": [],
   "source": [
    "FEATURES = [i for i in pro_pep_df.columns if i not in [\"visit_id\"]]\n",
    "FEATURES.append(\"visit_month\")"
   ]
  },
  {
   "cell_type": "code",
   "execution_count": 39,
   "id": "85a185d0",
   "metadata": {
    "execution": {
     "iopub.execute_input": "2023-05-15T10:27:10.682770Z",
     "iopub.status.busy": "2023-05-15T10:27:10.681947Z",
     "iopub.status.idle": "2023-05-15T10:27:10.687349Z",
     "shell.execute_reply": "2023-05-15T10:27:10.686368Z"
    },
    "papermill": {
     "duration": 0.044873,
     "end_time": "2023-05-15T10:27:10.690445",
     "exception": false,
     "start_time": "2023-05-15T10:27:10.645572",
     "status": "completed"
    },
    "tags": []
   },
   "outputs": [],
   "source": [
    "# FEATURES"
   ]
  },
  {
   "cell_type": "markdown",
   "id": "9a3fc367",
   "metadata": {
    "papermill": {
     "duration": 0.034641,
     "end_time": "2023-05-15T10:27:10.760624",
     "exception": false,
     "start_time": "2023-05-15T10:27:10.725983",
     "status": "completed"
    },
    "tags": []
   },
   "source": [
    "Now let us train the models."
   ]
  },
  {
   "cell_type": "code",
   "execution_count": 40,
   "id": "989650cc",
   "metadata": {
    "execution": {
     "iopub.execute_input": "2023-05-15T10:27:10.835585Z",
     "iopub.status.busy": "2023-05-15T10:27:10.835155Z",
     "iopub.status.idle": "2023-05-15T10:31:49.110748Z",
     "shell.execute_reply": "2023-05-15T10:31:49.109617Z"
    },
    "papermill": {
     "duration": 278.315843,
     "end_time": "2023-05-15T10:31:49.113322",
     "exception": false,
     "start_time": "2023-05-15T10:27:10.797479",
     "status": "completed"
    },
    "tags": []
   },
   "outputs": [
    {
     "name": "stdout",
     "output_type": "stream",
     "text": [
      "855 examples in training, 213 examples in testing.\n"
     ]
    },
    {
     "name": "stderr",
     "output_type": "stream",
     "text": [
      "[INFO 2023-05-15T10:28:08.306036125+00:00 kernel.cc:1214] Loading model from path /tmp/tmp8nxw8j4x/model/ with prefix 5e6ae99369184074\n",
      "[INFO 2023-05-15T10:28:08.619893974+00:00 decision_forest.cc:661] Model loaded with 300 root(s), 70858 node(s), and 1196 input feature(s).\n",
      "[INFO 2023-05-15T10:28:08.620128162+00:00 abstract_model.cc:1311] Engine \"RandomForestOptPred\" built\n",
      "[INFO 2023-05-15T10:28:08.621096284+00:00 kernel.cc:1046] Use fast generic engine\n"
     ]
    },
    {
     "name": "stdout",
     "output_type": "stream",
     "text": [
      "WARNING: AutoGraph could not transform <function simple_ml_inference_op_with_handle at 0x7d77e19f0550> and will run it as-is.\n",
      "Please report this to the TensorFlow team. When filing the bug, set the verbosity to 10 (on Linux, `export AUTOGRAPH_VERBOSITY=10`) and attach the full output.\n",
      "Cause: could not get source code\n",
      "To silence this warning, decorate the function with @tf.autograph.experimental.do_not_convert\n",
      "1/1 [==============================] - 5s 5s/step - loss: 0.0000e+00 - mse: 21.3263\n",
      "1/1 [==============================] - 2s 2s/step\n",
      "864 examples in training, 204 examples in testing.\n"
     ]
    },
    {
     "name": "stderr",
     "output_type": "stream",
     "text": [
      "[INFO 2023-05-15T10:29:20.410393915+00:00 kernel.cc:1214] Loading model from path /tmp/tmpzvjxg1px/model/ with prefix 75349ffac47d4522\n",
      "[INFO 2023-05-15T10:29:20.705027848+00:00 decision_forest.cc:661] Model loaded with 300 root(s), 66890 node(s), and 1196 input feature(s).\n",
      "[INFO 2023-05-15T10:29:20.705266995+00:00 abstract_model.cc:1311] Engine \"RandomForestOptPred\" built\n",
      "[INFO 2023-05-15T10:29:20.706150585+00:00 kernel.cc:1046] Use fast generic engine\n"
     ]
    },
    {
     "name": "stdout",
     "output_type": "stream",
     "text": [
      "1/1 [==============================] - 4s 4s/step - loss: 0.0000e+00 - mse: 23.8758\n",
      "1/1 [==============================] - 3s 3s/step\n",
      "850 examples in training, 218 examples in testing.\n"
     ]
    },
    {
     "name": "stderr",
     "output_type": "stream",
     "text": [
      "[INFO 2023-05-15T10:30:29.125382774+00:00 kernel.cc:1214] Loading model from path /tmp/tmp3x8p_3x_/model/ with prefix dcb41ce978ea4c63\n",
      "[INFO 2023-05-15T10:30:29.45093503+00:00 decision_forest.cc:661] Model loaded with 300 root(s), 73030 node(s), and 1196 input feature(s).\n",
      "[INFO 2023-05-15T10:30:29.451108632+00:00 abstract_model.cc:1311] Engine \"RandomForestOptPred\" built\n",
      "[INFO 2023-05-15T10:30:29.451937049+00:00 kernel.cc:1046] Use fast generic engine\n"
     ]
    },
    {
     "name": "stdout",
     "output_type": "stream",
     "text": [
      "1/1 [==============================] - 5s 5s/step - loss: 0.0000e+00 - mse: 168.0047\n",
      "1/1 [==============================] - 3s 3s/step\n",
      "473 examples in training, 96 examples in testing.\n"
     ]
    },
    {
     "name": "stderr",
     "output_type": "stream",
     "text": [
      "[INFO 2023-05-15T10:31:30.965410456+00:00 kernel.cc:1214] Loading model from path /tmp/tmpugv_y23r/model/ with prefix 6a3a6270a18640c8\n",
      "[INFO 2023-05-15T10:31:31.079202512+00:00 decision_forest.cc:661] Model loaded with 300 root(s), 25124 node(s), and 1194 input feature(s).\n",
      "[INFO 2023-05-15T10:31:31.079547792+00:00 abstract_model.cc:1311] Engine \"RandomForestOptPred\" built\n",
      "[INFO 2023-05-15T10:31:31.080207564+00:00 kernel.cc:1046] Use fast generic engine\n"
     ]
    },
    {
     "name": "stdout",
     "output_type": "stream",
     "text": [
      "1/1 [==============================] - 4s 4s/step - loss: 0.0000e+00 - mse: 7.3752\n",
      "1/1 [==============================] - 2s 2s/step\n"
     ]
    }
   ],
   "source": [
    "# List of target labels to loop through and train models\n",
    "target = [\"updrs_1\", \"updrs_2\", \"updrs_3\", \"updrs_4\"]\n",
    "\n",
    "# Loop through each label   \n",
    "for label in target:\n",
    "    \n",
    "    # Merge the label 'visit_id', 'patient_id', 'visit_month' and label columns from `train_clinical` \n",
    "    # data frame to `pro_prep_df` data frame on the `visit_id` column.\n",
    "    dataset_df = pro_pep_df.merge(train_clinical[['visit_id', 'patient_id', 'visit_month', label]], on = ['visit_id'], how = 'left')\n",
    "    \n",
    "    # Drop null value label rows\n",
    "    dataset_df = dataset_df.dropna(subset=[label])\n",
    "    \n",
    "    # Make a new copy of the FEATURES list we created previously. Add `label` to it.\n",
    "    feature_list = FEATURES.copy() \n",
    "    feature_list.append(label)\n",
    "    \n",
    "    # Split the dataset into train and validation datasets.\n",
    "    train_df, valid_df = split_dataset(dataset_df[feature_list])\n",
    "    print(\"{} examples in training, {} examples in testing.\".format(len(train_df), len(valid_df)))\n",
    "    \n",
    "    # There's one more step required before we can train the model. \n",
    "    # We need to convert the datatset from Pandas format (pd.DataFrame)\n",
    "    # into TensorFlow Datasets format (tf.data.Dataset).\n",
    "    # TensorFlow Datasets is a high performance data loading library \n",
    "    # which is helpful when training neural networks with accelerators like GPUs and TPUs.\n",
    "    train_ds = tfdf.keras.pd_dataframe_to_tf_dataset(train_df, label=label, task = tfdf.keras.Task.REGRESSION)\n",
    "    valid_ds = tfdf.keras.pd_dataframe_to_tf_dataset(valid_df, label=label, task = tfdf.keras.Task.REGRESSION)\n",
    "    \n",
    "    # We will now create the Random Forest Tree Model with default settings. \n",
    "    # By default the model is set to train for a classification task. Since this is a regression problem,\n",
    "    # we will specify the type of the task (tfdf.keras.Task.REGRESSION) as a parameter here.\n",
    "    rf = tfdf.keras.RandomForestModel(task = tfdf.keras.Task.REGRESSION, verbose=0)\n",
    "    rf.compile(metrics=[\"mse\"])\n",
    "    \n",
    "    # Train the model.\n",
    "    rf.fit(x=train_ds)\n",
    "    \n",
    "    # Store the model\n",
    "    model_dict[label] = rf\n",
    "\n",
    "    # Evaluate the trained model on the validation dataset and store the \n",
    "    # mse value in the `mse_dict`.\n",
    "    inspector = rf.make_inspector()\n",
    "    inspector.evaluation()\n",
    "    evaluation = rf.evaluate(x=valid_ds,return_dict=True)\n",
    "    mse_dict[label] = evaluation[\"mse\"]  \n",
    "    \n",
    "    # Use the trained model to make predictions on the validation dataset.\n",
    "    # Using these predictions, calculate and store the sMAPE value for this model.\n",
    "    preds = rf.predict(valid_ds)\n",
    "    smape_dict[label] = smape(valid_df[label].values.tolist(), preds.flatten())"
   ]
  },
  {
   "cell_type": "markdown",
   "id": "303bc3f4",
   "metadata": {
    "papermill": {
     "duration": 0.036321,
     "end_time": "2023-05-15T10:31:49.186768",
     "exception": false,
     "start_time": "2023-05-15T10:31:49.150447",
     "status": "completed"
    },
    "tags": []
   },
   "source": [
    "# Inspect the Mean Squared Error(MSE) scores of the models."
   ]
  },
  {
   "cell_type": "code",
   "execution_count": 41,
   "id": "f88959b8",
   "metadata": {
    "execution": {
     "iopub.execute_input": "2023-05-15T10:31:49.264503Z",
     "iopub.status.busy": "2023-05-15T10:31:49.264067Z",
     "iopub.status.idle": "2023-05-15T10:31:49.270845Z",
     "shell.execute_reply": "2023-05-15T10:31:49.269669Z"
    },
    "papermill": {
     "duration": 0.048808,
     "end_time": "2023-05-15T10:31:49.273308",
     "exception": false,
     "start_time": "2023-05-15T10:31:49.224500",
     "status": "completed"
    },
    "tags": []
   },
   "outputs": [
    {
     "name": "stdout",
     "output_type": "stream",
     "text": [
      "label updrs_1: mse 21.3263\n",
      "label updrs_2: mse 23.8758\n",
      "label updrs_3: mse 168.0047\n",
      "label updrs_4: mse 7.3752\n",
      "\n",
      "Average mse 55.145498871803284\n"
     ]
    }
   ],
   "source": [
    "for name, value in mse_dict.items():\n",
    "  print(f\"label {name}: mse {value:.4f}\")\n",
    "\n",
    "print(\"\\nAverage mse\", sum(mse_dict.values())/4)"
   ]
  },
  {
   "cell_type": "markdown",
   "id": "803ffa94",
   "metadata": {
    "papermill": {
     "duration": 0.036584,
     "end_time": "2023-05-15T10:31:49.346268",
     "exception": false,
     "start_time": "2023-05-15T10:31:49.309684",
     "status": "completed"
    },
    "tags": []
   },
   "source": [
    "# Inspect the sMAPE scores of the models"
   ]
  },
  {
   "cell_type": "code",
   "execution_count": 42,
   "id": "4515959d",
   "metadata": {
    "execution": {
     "iopub.execute_input": "2023-05-15T10:31:49.421138Z",
     "iopub.status.busy": "2023-05-15T10:31:49.420749Z",
     "iopub.status.idle": "2023-05-15T10:31:49.427074Z",
     "shell.execute_reply": "2023-05-15T10:31:49.425761Z"
    },
    "papermill": {
     "duration": 0.046957,
     "end_time": "2023-05-15T10:31:49.429705",
     "exception": false,
     "start_time": "2023-05-15T10:31:49.382748",
     "status": "completed"
    },
    "tags": []
   },
   "outputs": [
    {
     "name": "stdout",
     "output_type": "stream",
     "text": [
      "label updrs_1: sMAPE 63.0276\n",
      "label updrs_2: sMAPE 90.3445\n",
      "label updrs_3: sMAPE 76.5436\n",
      "label updrs_4: sMAPE 147.0980\n",
      "\n",
      "Average sMAPE 94.25339559104603\n"
     ]
    }
   ],
   "source": [
    "for name, value in smape_dict.items():\n",
    "  print(f\"label {name}: sMAPE {value:.4f}\")\n",
    "\n",
    "print(\"\\nAverage sMAPE\", sum(smape_dict.values())/4)"
   ]
  },
  {
   "cell_type": "markdown",
   "id": "ee735892",
   "metadata": {
    "papermill": {
     "duration": 0.037959,
     "end_time": "2023-05-15T10:31:49.504075",
     "exception": false,
     "start_time": "2023-05-15T10:31:49.466116",
     "status": "completed"
    },
    "tags": []
   },
   "source": [
    "# Visualize the model\n",
    "\n",
    "One benefit of tree-based models is that we can easily visualize them. The default number of trees used in the Random Forests is 300. \n",
    "\n",
    "Let us pick one model from `model_dict` and select a tree to display below."
   ]
  },
  {
   "cell_type": "code",
   "execution_count": 43,
   "id": "aca13a0a",
   "metadata": {
    "execution": {
     "iopub.execute_input": "2023-05-15T10:31:49.581928Z",
     "iopub.status.busy": "2023-05-15T10:31:49.581275Z",
     "iopub.status.idle": "2023-05-15T10:31:49.611169Z",
     "shell.execute_reply": "2023-05-15T10:31:49.610189Z"
    },
    "papermill": {
     "duration": 0.072497,
     "end_time": "2023-05-15T10:31:49.613678",
     "exception": false,
     "start_time": "2023-05-15T10:31:49.541181",
     "status": "completed"
    },
    "tags": []
   },
   "outputs": [
    {
     "data": {
      "text/html": [
       "\n",
       "<script src=\"https://d3js.org/d3.v6.min.js\"></script>\n",
       "<div id=\"tree_plot_d8c6e8dd668144e6861f2111525dc6d5\"></div>\n",
       "<script>\n",
       "/*\n",
       " * Copyright 2021 Google LLC.\n",
       " * Licensed under the Apache License, Version 2.0 (the \"License\");\n",
       " * you may not use this file except in compliance with the License.\n",
       " * You may obtain a copy of the License at\n",
       " *\n",
       " *     https://www.apache.org/licenses/LICENSE-2.0\n",
       " *\n",
       " * Unless required by applicable law or agreed to in writing, software\n",
       " * distributed under the License is distributed on an \"AS IS\" BASIS,\n",
       " * WITHOUT WARRANTIES OR CONDITIONS OF ANY KIND, either express or implied.\n",
       " * See the License for the specific language governing permissions and\n",
       " * limitations under the License.\n",
       " */\n",
       "\n",
       "/**\n",
       " *  Plotting of decision trees generated by TF-DF.\n",
       " *\n",
       " *  A tree is a recursive structure of node objects.\n",
       " *  A node contains one or more of the following components:\n",
       " *\n",
       " *    - A value: Representing the output of the node. If the node is not a leaf,\n",
       " *      the value is only present for analysis i.e. it is not used for\n",
       " *      predictions.\n",
       " *\n",
       " *    - A condition : For non-leaf nodes, the condition (also known as split)\n",
       " *      defines a binary test to branch to the positive or negative child.\n",
       " *\n",
       " *    - An explanation: Generally a plot showing the relation between the label\n",
       " *      and the condition to give insights about the effect of the condition.\n",
       " *\n",
       " *    - Two children : For non-leaf nodes, the children nodes. The first\n",
       " *      children (i.e. \"node.children[0]\") is the negative children (drawn in\n",
       " *      red). The second children is the positive one (drawn in green).\n",
       " *\n",
       " */\n",
       "\n",
       "/**\n",
       " * Plots a single decision tree into a DOM element.\n",
       " * @param {!options} options Dictionary of configurations.\n",
       " * @param {!tree} raw_tree Recursive tree structure.\n",
       " * @param {string} canvas_id Id of the output dom element.\n",
       " */\n",
       "function display_tree(options, raw_tree, canvas_id) {\n",
       "  console.log(options);\n",
       "\n",
       "  // Determine the node placement.\n",
       "  const tree_struct = d3.tree().nodeSize(\n",
       "      [options.node_y_offset, options.node_x_offset])(d3.hierarchy(raw_tree));\n",
       "\n",
       "  // Boundaries of the node placement.\n",
       "  let x_min = Infinity;\n",
       "  let x_max = -x_min;\n",
       "  let y_min = Infinity;\n",
       "  let y_max = -x_min;\n",
       "\n",
       "  tree_struct.each(d => {\n",
       "    if (d.x > x_max) x_max = d.x;\n",
       "    if (d.x < x_min) x_min = d.x;\n",
       "    if (d.y > y_max) y_max = d.y;\n",
       "    if (d.y < y_min) y_min = d.y;\n",
       "  });\n",
       "\n",
       "  // Size of the plot.\n",
       "  const width = y_max - y_min + options.node_x_size + options.margin * 2;\n",
       "  const height = x_max - x_min + options.node_y_size + options.margin * 2 +\n",
       "      options.node_y_offset - options.node_y_size;\n",
       "\n",
       "  const plot = d3.select(canvas_id);\n",
       "\n",
       "  // Tool tip\n",
       "  options.tooltip = plot.append('div')\n",
       "                        .attr('width', 100)\n",
       "                        .attr('height', 100)\n",
       "                        .style('padding', '4px')\n",
       "                        .style('background', '#fff')\n",
       "                        .style('box-shadow', '4px 4px 0px rgba(0,0,0,0.1)')\n",
       "                        .style('border', '1px solid black')\n",
       "                        .style('font-family', 'sans-serif')\n",
       "                        .style('font-size', options.font_size)\n",
       "                        .style('position', 'absolute')\n",
       "                        .style('z-index', '10')\n",
       "                        .attr('pointer-events', 'none')\n",
       "                        .style('display', 'none');\n",
       "\n",
       "  // Create canvas\n",
       "  const svg = plot.append('svg').attr('width', width).attr('height', height);\n",
       "  const graph =\n",
       "      svg.style('overflow', 'visible')\n",
       "          .append('g')\n",
       "          .attr('font-family', 'sans-serif')\n",
       "          .attr('font-size', options.font_size)\n",
       "          .attr(\n",
       "              'transform',\n",
       "              () => `translate(${options.margin},${\n",
       "                  - x_min + options.node_y_offset / 2 + options.margin})`);\n",
       "\n",
       "  // Plot bounding box.\n",
       "  if (options.show_plot_bounding_box) {\n",
       "    svg.append('rect')\n",
       "        .attr('width', width)\n",
       "        .attr('height', height)\n",
       "        .attr('fill', 'none')\n",
       "        .attr('stroke-width', 1.0)\n",
       "        .attr('stroke', 'black');\n",
       "  }\n",
       "\n",
       "  // Draw the edges.\n",
       "  display_edges(options, graph, tree_struct);\n",
       "\n",
       "  // Draw the nodes.\n",
       "  display_nodes(options, graph, tree_struct);\n",
       "}\n",
       "\n",
       "/**\n",
       " * Draw the nodes of the tree.\n",
       " * @param {!options} options Dictionary of configurations.\n",
       " * @param {!graph} graph D3 search handle containing the graph.\n",
       " * @param {!tree_struct} tree_struct Structure of the tree (node placement,\n",
       " *     data, etc.).\n",
       " */\n",
       "function display_nodes(options, graph, tree_struct) {\n",
       "  const nodes = graph.append('g')\n",
       "                    .selectAll('g')\n",
       "                    .data(tree_struct.descendants())\n",
       "                    .join('g')\n",
       "                    .attr('transform', d => `translate(${d.y},${d.x})`);\n",
       "\n",
       "  nodes.append('rect')\n",
       "      .attr('x', 0.5)\n",
       "      .attr('y', 0.5)\n",
       "      .attr('width', options.node_x_size)\n",
       "      .attr('height', options.node_y_size)\n",
       "      .attr('stroke', 'lightgrey')\n",
       "      .attr('stroke-width', 1)\n",
       "      .attr('fill', 'white')\n",
       "      .attr('y', -options.node_y_size / 2);\n",
       "\n",
       "  // Brackets on the right of condition nodes without children.\n",
       "  non_leaf_node_without_children =\n",
       "      nodes.filter(node => node.data.condition != null && node.children == null)\n",
       "          .append('g')\n",
       "          .attr('transform', `translate(${options.node_x_size},0)`);\n",
       "\n",
       "  non_leaf_node_without_children.append('path')\n",
       "      .attr('d', 'M0,0 C 10,0 0,10 10,10')\n",
       "      .attr('fill', 'none')\n",
       "      .attr('stroke-width', 1.0)\n",
       "      .attr('stroke', '#F00');\n",
       "\n",
       "  non_leaf_node_without_children.append('path')\n",
       "      .attr('d', 'M0,0 C 10,0 0,-10 10,-10')\n",
       "      .attr('fill', 'none')\n",
       "      .attr('stroke-width', 1.0)\n",
       "      .attr('stroke', '#0F0');\n",
       "\n",
       "  const node_content = nodes.append('g').attr(\n",
       "      'transform',\n",
       "      `translate(0,${options.node_padding - options.node_y_size / 2})`);\n",
       "\n",
       "  node_content.append(node => create_node_element(options, node));\n",
       "}\n",
       "\n",
       "/**\n",
       " * Creates the D3 content for a single node.\n",
       " * @param {!options} options Dictionary of configurations.\n",
       " * @param {!node} node Node to draw.\n",
       " * @return {!d3} D3 content.\n",
       " */\n",
       "function create_node_element(options, node) {\n",
       "  // Output accumulator.\n",
       "  let output = {\n",
       "    // Content to draw.\n",
       "    content: d3.create('svg:g'),\n",
       "    // Vertical offset to the next element to draw.\n",
       "    vertical_offset: 0\n",
       "  };\n",
       "\n",
       "  // Conditions.\n",
       "  if (node.data.condition != null) {\n",
       "    display_condition(options, node.data.condition, output);\n",
       "  }\n",
       "\n",
       "  // Values.\n",
       "  if (node.data.value != null) {\n",
       "    display_value(options, node.data.value, output);\n",
       "  }\n",
       "\n",
       "  // Explanations.\n",
       "  if (node.data.explanation != null) {\n",
       "    display_explanation(options, node.data.explanation, output);\n",
       "  }\n",
       "\n",
       "  return output.content.node();\n",
       "}\n",
       "\n",
       "\n",
       "/**\n",
       " * Adds a single line of text inside of a node.\n",
       " * @param {!options} options Dictionary of configurations.\n",
       " * @param {string} text Text to display.\n",
       " * @param {!output} output Output display accumulator.\n",
       " */\n",
       "function display_node_text(options, text, output) {\n",
       "  output.content.append('text')\n",
       "      .attr('x', options.node_padding)\n",
       "      .attr('y', output.vertical_offset)\n",
       "      .attr('alignment-baseline', 'hanging')\n",
       "      .text(text);\n",
       "  output.vertical_offset += 10;\n",
       "}\n",
       "\n",
       "/**\n",
       " * Adds a single line of text inside of a node with a tooltip.\n",
       " * @param {!options} options Dictionary of configurations.\n",
       " * @param {string} text Text to display.\n",
       " * @param {string} tooltip Text in the Tooltip.\n",
       " * @param {!output} output Output display accumulator.\n",
       " */\n",
       "function display_node_text_with_tooltip(options, text, tooltip, output) {\n",
       "  const item = output.content.append('text')\n",
       "                   .attr('x', options.node_padding)\n",
       "                   .attr('alignment-baseline', 'hanging')\n",
       "                   .text(text);\n",
       "\n",
       "  add_tooltip(options, item, () => tooltip);\n",
       "  output.vertical_offset += 10;\n",
       "}\n",
       "\n",
       "/**\n",
       " * Adds a tooltip to a dom element.\n",
       " * @param {!options} options Dictionary of configurations.\n",
       " * @param {!dom} target Dom element to equip with a tooltip.\n",
       " * @param {!func} get_content Generates the html content of the tooltip.\n",
       " */\n",
       "function add_tooltip(options, target, get_content) {\n",
       "  function show(d) {\n",
       "    options.tooltip.style('display', 'block');\n",
       "    options.tooltip.html(get_content());\n",
       "  }\n",
       "\n",
       "  function hide(d) {\n",
       "    options.tooltip.style('display', 'none');\n",
       "  }\n",
       "\n",
       "  function move(d) {\n",
       "    options.tooltip.style('display', 'block');\n",
       "    options.tooltip.style('left', (d.pageX + 5) + 'px');\n",
       "    options.tooltip.style('top', d.pageY + 'px');\n",
       "  }\n",
       "\n",
       "  target.on('mouseover', show);\n",
       "  target.on('mouseout', hide);\n",
       "  target.on('mousemove', move);\n",
       "}\n",
       "\n",
       "/**\n",
       " * Adds a condition inside of a node.\n",
       " * @param {!options} options Dictionary of configurations.\n",
       " * @param {!condition} condition Condition to display.\n",
       " * @param {!output} output Output display accumulator.\n",
       " */\n",
       "function display_condition(options, condition, output) {\n",
       "  threshold_format = d3.format('r');\n",
       "\n",
       "  if (condition.type === 'IS_MISSING') {\n",
       "    display_node_text(options, `${condition.attribute} is missing`, output);\n",
       "    return;\n",
       "  }\n",
       "\n",
       "  if (condition.type === 'IS_TRUE') {\n",
       "    display_node_text(options, `${condition.attribute} is true`, output);\n",
       "    return;\n",
       "  }\n",
       "\n",
       "  if (condition.type === 'NUMERICAL_IS_HIGHER_THAN') {\n",
       "    format = d3.format('r');\n",
       "    display_node_text(\n",
       "        options,\n",
       "        `${condition.attribute} >= ${threshold_format(condition.threshold)}`,\n",
       "        output);\n",
       "    return;\n",
       "  }\n",
       "\n",
       "  if (condition.type === 'CATEGORICAL_IS_IN') {\n",
       "    display_node_text_with_tooltip(\n",
       "        options, `${condition.attribute} in [...]`,\n",
       "        `${condition.attribute} in [${condition.mask}]`, output);\n",
       "    return;\n",
       "  }\n",
       "\n",
       "  if (condition.type === 'CATEGORICAL_SET_CONTAINS') {\n",
       "    display_node_text_with_tooltip(\n",
       "        options, `${condition.attribute} intersect [...]`,\n",
       "        `${condition.attribute} intersect [${condition.mask}]`, output);\n",
       "    return;\n",
       "  }\n",
       "\n",
       "  if (condition.type === 'NUMERICAL_SPARSE_OBLIQUE') {\n",
       "    display_node_text_with_tooltip(\n",
       "        options, `Sparse oblique split...`,\n",
       "        `[${condition.attributes}]*[${condition.weights}]>=${\n",
       "            threshold_format(condition.threshold)}`,\n",
       "        output);\n",
       "    return;\n",
       "  }\n",
       "\n",
       "  display_node_text(\n",
       "      options, `Non supported condition ${condition.type}`, output);\n",
       "}\n",
       "\n",
       "/**\n",
       " * Adds a value inside of a node.\n",
       " * @param {!options} options Dictionary of configurations.\n",
       " * @param {!value} value Value to display.\n",
       " * @param {!output} output Output display accumulator.\n",
       " */\n",
       "function display_value(options, value, output) {\n",
       "  if (value.type === 'PROBABILITY') {\n",
       "    const left_margin = 0;\n",
       "    const right_margin = 50;\n",
       "    const plot_width = options.node_x_size - options.node_padding * 2 -\n",
       "        left_margin - right_margin;\n",
       "\n",
       "    let cusum = Array.from(d3.cumsum(value.distribution));\n",
       "    cusum.unshift(0);\n",
       "    const distribution_plot = output.content.append('g').attr(\n",
       "        'transform', `translate(0,${output.vertical_offset + 0.5})`);\n",
       "\n",
       "    distribution_plot.selectAll('rect')\n",
       "        .data(value.distribution)\n",
       "        .join('rect')\n",
       "        .attr('height', 10)\n",
       "        .attr(\n",
       "            'x',\n",
       "            (d, i) =>\n",
       "                (cusum[i] * plot_width + left_margin + options.node_padding))\n",
       "        .attr('width', (d, i) => d * plot_width)\n",
       "        .style('fill', (d, i) => d3.schemeSet1[i]);\n",
       "\n",
       "    const num_examples =\n",
       "        output.content.append('g')\n",
       "            .attr('transform', `translate(0,${output.vertical_offset})`)\n",
       "            .append('text')\n",
       "            .attr('x', options.node_x_size - options.node_padding)\n",
       "            .attr('alignment-baseline', 'hanging')\n",
       "            .attr('text-anchor', 'end')\n",
       "            .text(`(${value.num_examples})`);\n",
       "\n",
       "    const distribution_details = d3.create('ul');\n",
       "    distribution_details.selectAll('li')\n",
       "        .data(value.distribution)\n",
       "        .join('li')\n",
       "        .append('span')\n",
       "        .text(\n",
       "            (d, i) =>\n",
       "                'class ' + i + ': ' + d3.format('.3%')(value.distribution[i]));\n",
       "\n",
       "    add_tooltip(options, distribution_plot, () => distribution_details.html());\n",
       "    add_tooltip(options, num_examples, () => 'Number of examples');\n",
       "\n",
       "    output.vertical_offset += 10;\n",
       "    return;\n",
       "  }\n",
       "\n",
       "  if (value.type === 'REGRESSION') {\n",
       "    display_node_text(\n",
       "        options,\n",
       "        'value: ' + d3.format('r')(value.value) + ` (` +\n",
       "            d3.format('.6')(value.num_examples) + `)`,\n",
       "        output);\n",
       "    return;\n",
       "  }\n",
       "\n",
       "  display_node_text(options, `Non supported value ${value.type}`, output);\n",
       "}\n",
       "\n",
       "/**\n",
       " * Adds an explanation inside of a node.\n",
       " * @param {!options} options Dictionary of configurations.\n",
       " * @param {!explanation} explanation Explanation to display.\n",
       " * @param {!output} output Output display accumulator.\n",
       " */\n",
       "function display_explanation(options, explanation, output) {\n",
       "  // Margin before the explanation.\n",
       "  output.vertical_offset += 10;\n",
       "\n",
       "  display_node_text(\n",
       "      options, `Non supported explanation ${explanation.type}`, output);\n",
       "}\n",
       "\n",
       "\n",
       "/**\n",
       " * Draw the edges of the tree.\n",
       " * @param {!options} options Dictionary of configurations.\n",
       " * @param {!graph} graph D3 search handle containing the graph.\n",
       " * @param {!tree_struct} tree_struct Structure of the tree (node placement,\n",
       " *     data, etc.).\n",
       " */\n",
       "function display_edges(options, graph, tree_struct) {\n",
       "  // Draw an edge between a parent and a child node with a bezier.\n",
       "  function draw_single_edge(d) {\n",
       "    return 'M' + (d.source.y + options.node_x_size) + ',' + d.source.x + ' C' +\n",
       "        (d.source.y + options.node_x_size + options.edge_rounding) + ',' +\n",
       "        d.source.x + ' ' + (d.target.y - options.edge_rounding) + ',' +\n",
       "        d.target.x + ' ' + d.target.y + ',' + d.target.x;\n",
       "  }\n",
       "\n",
       "  graph.append('g')\n",
       "      .attr('fill', 'none')\n",
       "      .attr('stroke-width', 1.2)\n",
       "      .selectAll('path')\n",
       "      .data(tree_struct.links())\n",
       "      .join('path')\n",
       "      .attr('d', draw_single_edge)\n",
       "      .attr(\n",
       "          'stroke', d => (d.target === d.source.children[0]) ? '#0F0' : '#F00');\n",
       "}\n",
       "\n",
       "display_tree({\"margin\": 10, \"node_x_size\": 160, \"node_y_size\": 28, \"node_x_offset\": 180, \"node_y_offset\": 33, \"font_size\": 10, \"edge_rounding\": 20, \"node_padding\": 2, \"show_plot_bounding_box\": false}, {\"value\": {\"type\": \"REGRESSION\", \"value\": 6.709941387176514, \"num_examples\": 855.0, \"standard_deviation\": 5.495778868977272}, \"condition\": {\"type\": \"NUMERICAL_IS_HIGHER_THAN\", \"attribute\": \"P04180\", \"threshold\": 43733.1015625}, \"children\": [{\"value\": {\"type\": \"REGRESSION\", \"value\": 6.113157749176025, \"num_examples\": 760.0, \"standard_deviation\": 4.953503335101201}, \"condition\": {\"type\": \"NUMERICAL_IS_HIGHER_THAN\", \"attribute\": \"GSPAINVAVHVFR\", \"threshold\": 6967925.0}, \"children\": [{\"value\": {\"type\": \"REGRESSION\", \"value\": 10.25, \"num_examples\": 40.0, \"standard_deviation\": 5.7608593109014565}, \"condition\": {\"type\": \"NUMERICAL_IS_HIGHER_THAN\", \"attribute\": \"APLIPMEHC(UniMod_4)TTR\", \"threshold\": 44482.75}, \"children\": [{\"value\": {\"type\": \"REGRESSION\", \"value\": 6.5, \"num_examples\": 22.0, \"standard_deviation\": 2.6756477550475335}, \"condition\": {\"type\": \"NUMERICAL_IS_HIGHER_THAN\", \"attribute\": \"QAPGQGLEWMGR\", \"threshold\": 31730.90234375}}, {\"value\": {\"type\": \"REGRESSION\", \"value\": 14.833333015441895, \"num_examples\": 18.0, \"standard_deviation\": 5.177408189003024}, \"condition\": {\"type\": \"NUMERICAL_IS_HIGHER_THAN\", \"attribute\": \"FTEC(UniMod_4)C(UniMod_4)QAADK\", \"threshold\": 49779.5}}]}, {\"value\": {\"type\": \"REGRESSION\", \"value\": 5.883333206176758, \"num_examples\": 720.0, \"standard_deviation\": 4.801359761104718}, \"condition\": {\"type\": \"NUMERICAL_IS_HIGHER_THAN\", \"attribute\": \"HGPGLIYR\", \"threshold\": 33317.6015625}, \"children\": [{\"value\": {\"type\": \"REGRESSION\", \"value\": 6.257234573364258, \"num_examples\": 622.0, \"standard_deviation\": 4.910917433448762}, \"condition\": {\"type\": \"NUMERICAL_IS_HIGHER_THAN\", \"attribute\": \"SVIPSDGPSVAC(UniMod_4)VK\", \"threshold\": 2744770.0}}, {\"value\": {\"type\": \"REGRESSION\", \"value\": 3.5102040767669678, \"num_examples\": 98.0, \"standard_deviation\": 3.127380392855336}, \"condition\": {\"type\": \"NUMERICAL_IS_HIGHER_THAN\", \"attribute\": \"MTVTDQVNC(UniMod_4)PK\", \"threshold\": 453741.8125}}]}]}, {\"value\": {\"type\": \"REGRESSION\", \"value\": 11.484210968017578, \"num_examples\": 95.0, \"standard_deviation\": 7.063416733824974}, \"condition\": {\"type\": \"NUMERICAL_IS_HIGHER_THAN\", \"attribute\": \"NLNEKDYELLC(UniMod_4)LDGTR\", \"threshold\": 1089680.0}, \"children\": [{\"value\": {\"type\": \"REGRESSION\", \"value\": 8.449275016784668, \"num_examples\": 69.0, \"standard_deviation\": 4.850029827740515}, \"condition\": {\"type\": \"NUMERICAL_IS_HIGHER_THAN\", \"attribute\": \"IPIEDGSGEVVLSRK\", \"threshold\": 58515.44921875}, \"children\": [{\"value\": {\"type\": \"REGRESSION\", \"value\": 12.319999694824219, \"num_examples\": 25.0, \"standard_deviation\": 4.037028610252845}, \"condition\": {\"type\": \"NUMERICAL_IS_HIGHER_THAN\", \"attribute\": \"EVVSLTEAC(UniMod_4)C(UniMod_4)AEGADPDC(UniMod_4)YDTR\", \"threshold\": 150214.5}}, {\"value\": {\"type\": \"REGRESSION\", \"value\": 6.25, \"num_examples\": 44.0, \"standard_deviation\": 3.7786782200802826}, \"condition\": {\"type\": \"NUMERICAL_IS_HIGHER_THAN\", \"attribute\": \"VMTPAVYAPYDVK\", \"threshold\": 80847.09375}}]}, {\"value\": {\"type\": \"REGRESSION\", \"value\": 19.538461685180664, \"num_examples\": 26.0, \"standard_deviation\": 5.527767453298979}, \"condition\": {\"type\": \"NUMERICAL_IS_HIGHER_THAN\", \"attribute\": \"C(UniMod_4)PFPSRPDNGFVNYPAKPTLYYK\", \"threshold\": 44697.5}, \"children\": [{\"value\": {\"type\": \"REGRESSION\", \"value\": 14.692307472229004, \"num_examples\": 13.0, \"standard_deviation\": 3.687496865909808}, \"condition\": {\"type\": \"NUMERICAL_IS_HIGHER_THAN\", \"attribute\": \"LLRDPADASEAHESSSR\", \"threshold\": 12302.349609375}}, {\"value\": {\"type\": \"REGRESSION\", \"value\": 24.384614944458008, \"num_examples\": 13.0, \"standard_deviation\": 0.7378202343558573}, \"condition\": {\"type\": \"NUMERICAL_IS_HIGHER_THAN\", \"attribute\": \"SLAAAAGKQELAK\", \"threshold\": 3663.469970703125}}]}]}]}, \"#tree_plot_d8c6e8dd668144e6861f2111525dc6d5\")\n",
       "</script>\n"
      ],
      "text/plain": [
       "<IPython.core.display.HTML object>"
      ]
     },
     "execution_count": 43,
     "metadata": {},
     "output_type": "execute_result"
    }
   ],
   "source": [
    "# Let us use the model for the label `updrs_1` for this purpose\n",
    "tfdf.model_plotter.plot_model_in_colab(model_dict['updrs_1'], tree_idx=0, max_depth=3)"
   ]
  },
  {
   "cell_type": "code",
   "execution_count": null,
   "id": "f9d0ad58",
   "metadata": {
    "papermill": {
     "duration": 0.037472,
     "end_time": "2023-05-15T10:31:49.691631",
     "exception": false,
     "start_time": "2023-05-15T10:31:49.654159",
     "status": "completed"
    },
    "tags": []
   },
   "outputs": [],
   "source": []
  },
  {
   "cell_type": "markdown",
   "id": "09f2f378",
   "metadata": {
    "papermill": {
     "duration": 0.037853,
     "end_time": "2023-05-15T10:31:49.767925",
     "exception": false,
     "start_time": "2023-05-15T10:31:49.730072",
     "status": "completed"
    },
    "tags": []
   },
   "source": [
    "# Evaluate the model on the Out of bag (OOB) data and the validation dataset\n",
    "\n",
    "Before training the dataset we have manually seperated 20% of the dataset for validation named as `valid_ds`.\n",
    "\n",
    "We can also use Out of bag (OOB) score to validate our RandomForestModel.\n",
    "To train a Random Forest Model, a set of random samples from training set are choosen by the algorithm and the rest of the samples are used to finetune the model.The subset of data that is not chosen is known as Out of bag data (OOB).\n",
    "OOB score is computed on the OOB data.\n",
    "\n",
    "Read more about OOB data [here](https://developers.google.com/machine-learning/decision-forests/out-of-bag).\n",
    "\n",
    "The training logs show the Root Mean Squared Error (RMSE) evaluated on the out-of-bag dataset according to the number of trees in the model. Let us plot this.\n",
    "\n",
    "Note: Smaller values are better for this hyperparameter.\n",
    "\n",
    "Let us pick one model from `model_dict` dict and plot the OOB evaluation accuracies."
   ]
  },
  {
   "cell_type": "code",
   "execution_count": 44,
   "id": "6bafd0a4",
   "metadata": {
    "execution": {
     "iopub.execute_input": "2023-05-15T10:31:49.847553Z",
     "iopub.status.busy": "2023-05-15T10:31:49.846793Z",
     "iopub.status.idle": "2023-05-15T10:31:50.088551Z",
     "shell.execute_reply": "2023-05-15T10:31:50.087225Z"
    },
    "papermill": {
     "duration": 0.284736,
     "end_time": "2023-05-15T10:31:50.091287",
     "exception": false,
     "start_time": "2023-05-15T10:31:49.806551",
     "status": "completed"
    },
    "tags": []
   },
   "outputs": [
    {
     "data": {
      "image/png": "[encoded data removed]",
      "text/plain": [
       "<Figure size 640x480 with 1 Axes>"
      ]
     },
     "metadata": {},
     "output_type": "display_data"
    }
   ],
   "source": [
    "import matplotlib.pyplot as plt\n",
    "\n",
    "# Let us use the model for the label `updrs_1` for this purpose\n",
    "logs = model_dict['updrs_1'].make_inspector().training_logs()\n",
    "plt.plot([log.num_trees for log in logs], [log.evaluation.rmse for log in logs])\n",
    "plt.xlabel(\"Number of trees\")\n",
    "plt.ylabel(\"MSE (out-of-bag)\")\n",
    "plt.show()"
   ]
  },
  {
   "cell_type": "markdown",
   "id": "329e1e7c",
   "metadata": {
    "papermill": {
     "duration": 0.040197,
     "end_time": "2023-05-15T10:31:50.169751",
     "exception": false,
     "start_time": "2023-05-15T10:31:50.129554",
     "status": "completed"
    },
    "tags": []
   },
   "source": [
    "# Variable importances\n",
    "\n",
    "Variable importances generally indicate how much a feature contributes to the model predictions or quality. There are several ways to identify important features using TensorFlow Decision Forests. Let us pick one model from models dict and inspect it.\n",
    "\n",
    "Let us list the available Variable Importances for Decision Trees:"
   ]
  },
  {
   "cell_type": "code",
   "execution_count": 45,
   "id": "3d438a18",
   "metadata": {
    "execution": {
     "iopub.execute_input": "2023-05-15T10:31:50.250483Z",
     "iopub.status.busy": "2023-05-15T10:31:50.249562Z",
     "iopub.status.idle": "2023-05-15T10:31:50.284280Z",
     "shell.execute_reply": "2023-05-15T10:31:50.282526Z"
    },
    "papermill": {
     "duration": 0.078278,
     "end_time": "2023-05-15T10:31:50.287272",
     "exception": false,
     "start_time": "2023-05-15T10:31:50.208994",
     "status": "completed"
    },
    "tags": []
   },
   "outputs": [
    {
     "name": "stdout",
     "output_type": "stream",
     "text": [
      "Available variable importances:\n",
      "\t NUM_AS_ROOT\n",
      "\t INV_MEAN_MIN_DEPTH\n",
      "\t SUM_SCORE\n",
      "\t NUM_NODES\n"
     ]
    }
   ],
   "source": [
    "# Let us use the model for the label `updrs_1` for this purpose\n",
    "inspector = model_dict['updrs_1'].make_inspector()\n",
    "\n",
    "print(f\"Available variable importances:\")\n",
    "for importance in inspector.variable_importances().keys():\n",
    "  print(\"\\t\", importance)"
   ]
  },
  {
   "cell_type": "markdown",
   "id": "fa2addf1",
   "metadata": {
    "papermill": {
     "duration": 0.038801,
     "end_time": "2023-05-15T10:31:50.365216",
     "exception": false,
     "start_time": "2023-05-15T10:31:50.326415",
     "status": "completed"
    },
    "tags": []
   },
   "source": [
    "As an example, let us display the important features for the Variable Importance NUM_AS_ROOT.\n",
    "\n",
    "The larger the importance score for NUM_AS_ROOT, the more impact it has on the outcome of the model for Question 1(i.e., model\\[\"0-4_1\"\\]).\n",
    "\n",
    "By default, the list is sorted from the most important to the least. From the output you can infer that the feature at the top of the list is used as the root node in most number of trees in the gradient boosted trees  than any other feature."
   ]
  },
  {
   "cell_type": "code",
   "execution_count": 46,
   "id": "d9b6847f",
   "metadata": {
    "execution": {
     "iopub.execute_input": "2023-05-15T10:31:50.444561Z",
     "iopub.status.busy": "2023-05-15T10:31:50.444134Z",
     "iopub.status.idle": "2023-05-15T10:31:50.471432Z",
     "shell.execute_reply": "2023-05-15T10:31:50.470235Z"
    },
    "papermill": {
     "duration": 0.070057,
     "end_time": "2023-05-15T10:31:50.473819",
     "exception": false,
     "start_time": "2023-05-15T10:31:50.403762",
     "status": "completed"
    },
    "tags": []
   },
   "outputs": [
    {
     "data": {
      "text/plain": [
       "[(\"P04180\" (1; #703), 41.0),\n",
       " (\"Q06481\" (1; #810), 26.0),\n",
       " (\"P07602\" (1; #729), 24.0),\n",
       " (\"P05067\" (1; #713), 23.0),\n",
       " (\"NLREGTC(UniMod_4)PEAPTDEC(UniMod_4)KPVK\" (1; #609), 16.0),\n",
       " (\"P61916\" (1; #801), 16.0),\n",
       " (\"P05060\" (1; #712), 10.0),\n",
       " (\"GEAGAPGEEDIQGPTK\" (1; #280), 9.0),\n",
       " (\"P17174\" (1; #765), 7.0),\n",
       " (\"SSGLVSNAPGVQIR\" (1; #988), 6.0),\n",
       " (\"EVNVSPC(UniMod_4)PTQPC(UniMod_4)QLSK\" (1; #217), 4.0),\n",
       " (\"P08571\" (1; #738), 4.0),\n",
       " (\"Q8NBJ4\" (1; #835), 4.0),\n",
       " (\"QQTHMLDVMQDHFSR\" (1; #888), 4.0),\n",
       " (\"RPGGEPSPEGTTGQSYNQYSQR\" (1; #912), 4.0),\n",
       " (\"TMQENSTPRED\" (1; #1046), 4.0),\n",
       " (\"AVC(UniMod_4)SQEAMTGPC(UniMod_4)R\" (1; #80), 3.0),\n",
       " (\"AVLPTGDVIGDSAK\" (1; #84), 3.0),\n",
       " (\"FFLC(UniMod_4)QVAGDAK\" (1; #230), 3.0),\n",
       " (\"ITTTSPWMFPSR\" (1; #398), 3.0),\n",
       " (\"LPYTASSGLMAPR\" (1; #521), 3.0),\n",
       " (\"M(UniMod_35)C(UniMod_4)PQLQQYEMHGPEGLR\" (1; #566), 3.0),\n",
       " (\"O60888\" (1; #638), 3.0),\n",
       " (\"P00736\" (1; #645), 3.0),\n",
       " (\"AATVGSLAGQPLQER\" (1; #5), 2.0),\n",
       " (\"ISYGNDALMPSLTETK\" (1; #395), 2.0),\n",
       " (\"KC(UniMod_4)STSSLLEAC(UniMod_4)TFR\" (1; #412), 2.0),\n",
       " (\"KLVGYLDR\" (1; #426), 2.0),\n",
       " (\"LFGGNFAHQASVAR\" (1; #483), 2.0),\n",
       " (\"NVVYTC(UniMod_4)NEGYSLIGNPVAR\" (1; #627), 2.0),\n",
       " (\"P09486\" (1; #743), 2.0),\n",
       " (\"P14618\" (1; #760), 2.0),\n",
       " (\"TYLGNALVC(UniMod_4)TC(UniMod_4)YGGSR\" (1; #1077), 2.0),\n",
       " (\"ADDKETC(UniMod_4)FAEEGK\" (1; #7), 1.0),\n",
       " (\"ALEYIENLR\" (1; #38), 1.0),\n",
       " (\"ASYLDC(UniMod_4)IR\" (1; #70), 1.0),\n",
       " (\"ATEDEGSEQKIPEATNR\" (1; #71), 1.0),\n",
       " (\"DC(UniMod_4)SLPYATESK\" (1; #133), 1.0),\n",
       " (\"DTINLLDQR\" (1; #168), 1.0),\n",
       " (\"EGQEC(UniMod_4)GVYTPNC(UniMod_4)APGLQC(UniMod_4)HPPKDDEAPLR\" (1; #187),\n",
       "  1.0),\n",
       " (\"ESLQQMAEVTR\" (1; #212), 1.0),\n",
       " (\"FEHC(UniMod_4)NFNDVTTR\" (1; #229), 1.0),\n",
       " (\"FNALQYLR\" (1; #243), 1.0),\n",
       " (\"GATLALTQVTPQDER\" (1; #272), 1.0),\n",
       " (\"GC(UniMod_4)SFLPDPYQK\" (1; #276), 1.0),\n",
       " (\"GEVQAMLGQSTEELR\" (1; #282), 1.0),\n",
       " (\"GYQLSDVDGVTC(UniMod_4)EDIDEC(UniMod_4)ALPTGGHIC(UniMod_4)SYR\" (1; #323),\n",
       "  1.0),\n",
       " (\"IGADFLAR\" (1; #368), 1.0),\n",
       " (\"IHWESASLLR\" (1; #371), 1.0),\n",
       " (\"ILGQQVPYATK\" (1; #378), 1.0),\n",
       " (\"INHC(UniMod_4)RFDEFFSEGC(UniMod_4)APGSKK\" (1; #383), 1.0),\n",
       " (\"KATEDEGSEQKIPEATNR\" (1; #410), 1.0),\n",
       " (\"KLSENTDFLAPGVSSFTDSNQQESITK\" (1; #423), 1.0),\n",
       " (\"KLYDYC(UniMod_4)DVPQC(UniMod_4)AAPSFDC(UniMod_4)GKPQVEPK\" (1; #428), 1.0),\n",
       " (\"LDEVKEQVAEVR\" (1; #471), 1.0),\n",
       " (\"LEEQAQQIR\" (1; #475), 1.0),\n",
       " (\"LFAC(UniMod_4)SNK\" (1; #481), 1.0),\n",
       " (\"LKC(UniMod_4)DEWSVNSVGK\" (1; #501), 1.0),\n",
       " (\"LSKELQAAQAR\" (1; #534), 1.0),\n",
       " (\"LVWEEAMSR\" (1; #557), 1.0),\n",
       " (\"MC(UniMod_4)VDVNEC(UniMod_4)QR\" (1; #576), 1.0),\n",
       " (\"MDASLGNLFAR\" (1; #577), 1.0),\n",
       " (\"NILTSNNIDVK\" (1; #601), 1.0),\n",
       " (\"NLNEKDYELLC(UniMod_4)LDGTR\" (1; #607), 1.0),\n",
       " (\"NSLFEYQK\" (1; #619), 1.0),\n",
       " (\"NTGIIC(UniMod_4)TIGPASR\" (1; #625), 1.0),\n",
       " (\"O14773\" (1; #633), 1.0),\n",
       " (\"P01860\" (1; #672), 1.0),\n",
       " (\"P02647\" (1; #677), 1.0),\n",
       " (\"P02751\" (1; #689), 1.0),\n",
       " (\"P02787\" (1; #697), 1.0),\n",
       " (\"P08123\" (1; #733), 1.0),\n",
       " (\"P13591\" (1; #754), 1.0),\n",
       " (\"P39060\" (1; #786), 1.0),\n",
       " (\"Q13332\" (1; #816), 1.0),\n",
       " (\"Q6UXB8\" (1; #829), 1.0),\n",
       " (\"SELEEQLTPVAEETR\" (1; #938), 1.0),\n",
       " (\"SNAQGIDLNR\" (1; #972), 1.0),\n",
       " (\"SVLGQLGITK\" (1; #1000), 1.0),\n",
       " (\"TC(UniMod_4)VADESAENC(UniMod_4)DKSLHTLFGDK\" (1; #1012), 1.0),\n",
       " (\"TGYYFDGISR\" (1; #1027), 1.0),\n",
       " (\"TNFDNDIALVR\" (1; #1048), 1.0),\n",
       " (\"TQSSLVPALTDFVR\" (1; #1060), 1.0),\n",
       " (\"TSAHGNVAEGETKPDPDVTER\" (1; #1063), 1.0),\n",
       " (\"TSPVDEKALQDQLVLVAAK\" (1; #1066), 1.0),\n",
       " (\"VAVVQYSGTGQQRPER\" (1; #1082), 1.0),\n",
       " (\"VHKEDDGVPVIC(UniMod_4)QVEHPAVTGNLQTQR\" (1; #1101), 1.0),\n",
       " (\"VRQGQGQSEPGEYEQR\" (1; #1132), 1.0),\n",
       " (\"WYFDVTEGK\" (1; #1163), 1.0)]"
      ]
     },
     "execution_count": 46,
     "metadata": {},
     "output_type": "execute_result"
    }
   ],
   "source": [
    "# Each line is: (feature name, (index of the feature), importance score)\n",
    "inspector.variable_importances()[\"NUM_AS_ROOT\"]"
   ]
  },
  {
   "cell_type": "markdown",
   "id": "0efa1cf7",
   "metadata": {
    "papermill": {
     "duration": 0.042068,
     "end_time": "2023-05-15T10:31:50.554599",
     "exception": false,
     "start_time": "2023-05-15T10:31:50.512531",
     "status": "completed"
    },
    "tags": []
   },
   "source": [
    "# Submission"
   ]
  },
  {
   "cell_type": "code",
   "execution_count": 47,
   "id": "e74a078a",
   "metadata": {
    "execution": {
     "iopub.execute_input": "2023-05-15T10:31:50.637859Z",
     "iopub.status.busy": "2023-05-15T10:31:50.637110Z",
     "iopub.status.idle": "2023-05-15T10:31:50.672026Z",
     "shell.execute_reply": "2023-05-15T10:31:50.670575Z"
    },
    "papermill": {
     "duration": 0.080756,
     "end_time": "2023-05-15T10:31:50.674876",
     "exception": false,
     "start_time": "2023-05-15T10:31:50.594120",
     "status": "completed"
    },
    "tags": []
   },
   "outputs": [],
   "source": [
    "import amp_pd_peptide_310\n",
    "env = amp_pd_peptide_310.make_env()   # initialize the environment\n",
    "iter_test = env.iter_test()  "
   ]
  },
  {
   "cell_type": "code",
   "execution_count": 48,
   "id": "55c9ad54",
   "metadata": {
    "execution": {
     "iopub.execute_input": "2023-05-15T10:31:50.754612Z",
     "iopub.status.busy": "2023-05-15T10:31:50.754173Z",
     "iopub.status.idle": "2023-05-15T10:31:50.766222Z",
     "shell.execute_reply": "2023-05-15T10:31:50.764859Z"
    },
    "papermill": {
     "duration": 0.054615,
     "end_time": "2023-05-15T10:31:50.768779",
     "exception": false,
     "start_time": "2023-05-15T10:31:50.714164",
     "status": "completed"
    },
    "tags": []
   },
   "outputs": [],
   "source": [
    "def get_predictions(test_df, test_ds, model_dict):\n",
    "\n",
    "    # Target labels\n",
    "    target = [\"updrs_1\", \"updrs_2\", \"updrs_3\", \"updrs_4\"]\n",
    "    temp = test_df[FEATURES].copy()\n",
    "    \n",
    "    # Filter out all the 0 value columns before predicting\n",
    "    mask = test_df[FEATURES].sum(axis=1) != 0\n",
    "    new_test_df = temp.loc[mask]\n",
    "    test_ds = tfdf.keras.pd_dataframe_to_tf_dataset(new_test_df, task = tfdf.keras.Task.REGRESSION)\n",
    "    for u in target:\n",
    "        test_df['result_' + str(u)] = 0\n",
    "        if u != 'updrs_4':\n",
    "            print(model_dict[u])\n",
    "            test_df.loc[mask, 'result_' + str(u)] = model_dict[u].predict(test_ds)\n",
    "    \n",
    "    # Format for final submission\n",
    "    result = pd.DataFrame()\n",
    "\n",
    "    for m in [0, 6, 12, 24]:\n",
    "        for u in [1, 2, 3, 4]:\n",
    "\n",
    "            temp = test_df[[\"visit_id\", \"result_updrs_\" + str(u)]].copy()\n",
    "            temp[\"prediction_id\"] = temp[\"visit_id\"] + \"_updrs_\" + str(u) + \"_plus_\" + str(m) + \"_months\"\n",
    "            temp[\"rating\"] = temp[\"result_updrs_\" + str(u)]\n",
    "            temp = temp [['prediction_id', 'rating']]\n",
    "\n",
    "            result = result.append(temp)            \n",
    "    result = result.drop_duplicates(subset=['prediction_id', 'rating'])\n",
    "\n",
    "    return result"
   ]
  },
  {
   "cell_type": "code",
   "execution_count": 49,
   "id": "f593e1ef",
   "metadata": {
    "execution": {
     "iopub.execute_input": "2023-05-15T10:31:50.854123Z",
     "iopub.status.busy": "2023-05-15T10:31:50.853567Z",
     "iopub.status.idle": "2023-05-15T10:33:02.909568Z",
     "shell.execute_reply": "2023-05-15T10:33:02.907553Z"
    },
    "papermill": {
     "duration": 72.103179,
     "end_time": "2023-05-15T10:33:02.913808",
     "exception": false,
     "start_time": "2023-05-15T10:31:50.810629",
     "status": "completed"
    },
    "tags": []
   },
   "outputs": [
    {
     "name": "stdout",
     "output_type": "stream",
     "text": [
      "This version of the API is not optimized and should not be used to estimate the runtime of your code on the hidden test set.\n",
      "<tensorflow_decision_forests.keras.RandomForestModel object at 0x7d777f11a500>\n",
      "1/1 [==============================] - 11s 11s/step\n",
      "<tensorflow_decision_forests.keras.RandomForestModel object at 0x7d777f00f040>\n",
      "1/1 [==============================] - 11s 11s/step\n",
      "<tensorflow_decision_forests.keras.RandomForestModel object at 0x7d774bf5ce80>\n",
      "1/1 [==============================] - 11s 11s/step\n",
      "                    prediction_id     rating\n",
      "0    3342_0_updrs_1_plus_0_months   0.000000\n",
      "4   50423_0_updrs_1_plus_0_months   8.865185\n",
      "0    3342_0_updrs_2_plus_0_months   0.000000\n",
      "4   50423_0_updrs_2_plus_0_months   9.590549\n",
      "0    3342_0_updrs_3_plus_0_months   0.000000\n",
      "4   50423_0_updrs_3_plus_0_months  23.125488\n",
      "0    3342_0_updrs_4_plus_0_months   0.000000\n",
      "4   50423_0_updrs_4_plus_0_months   0.000000\n",
      "0    3342_0_updrs_1_plus_6_months   0.000000\n",
      "4   50423_0_updrs_1_plus_6_months   8.865185\n",
      "0    3342_0_updrs_2_plus_6_months   0.000000\n",
      "4   50423_0_updrs_2_plus_6_months   9.590549\n",
      "0    3342_0_updrs_3_plus_6_months   0.000000\n",
      "4   50423_0_updrs_3_plus_6_months  23.125488\n",
      "0    3342_0_updrs_4_plus_6_months   0.000000\n",
      "4   50423_0_updrs_4_plus_6_months   0.000000\n",
      "0   3342_0_updrs_1_plus_12_months   0.000000\n",
      "4  50423_0_updrs_1_plus_12_months   8.865185\n",
      "0   3342_0_updrs_2_plus_12_months   0.000000\n",
      "4  50423_0_updrs_2_plus_12_months   9.590549\n",
      "0   3342_0_updrs_3_plus_12_months   0.000000\n",
      "4  50423_0_updrs_3_plus_12_months  23.125488\n",
      "0   3342_0_updrs_4_plus_12_months   0.000000\n",
      "4  50423_0_updrs_4_plus_12_months   0.000000\n",
      "0   3342_0_updrs_1_plus_24_months   0.000000\n",
      "4  50423_0_updrs_1_plus_24_months   8.865185\n",
      "0   3342_0_updrs_2_plus_24_months   0.000000\n",
      "4  50423_0_updrs_2_plus_24_months   9.590549\n",
      "0   3342_0_updrs_3_plus_24_months   0.000000\n",
      "4  50423_0_updrs_3_plus_24_months  23.125488\n",
      "0   3342_0_updrs_4_plus_24_months   0.000000\n",
      "4  50423_0_updrs_4_plus_24_months   0.000000\n"
     ]
    },
    {
     "name": "stderr",
     "output_type": "stream",
     "text": [
      "/tmp/ipykernel_20/2111800362.py:28: FutureWarning: The frame.append method is deprecated and will be removed from pandas in a future version. Use pandas.concat instead.\n",
      "  result = result.append(temp)\n",
      "/tmp/ipykernel_20/2111800362.py:28: FutureWarning: The frame.append method is deprecated and will be removed from pandas in a future version. Use pandas.concat instead.\n",
      "  result = result.append(temp)\n",
      "/tmp/ipykernel_20/2111800362.py:28: FutureWarning: The frame.append method is deprecated and will be removed from pandas in a future version. Use pandas.concat instead.\n",
      "  result = result.append(temp)\n",
      "/tmp/ipykernel_20/2111800362.py:28: FutureWarning: The frame.append method is deprecated and will be removed from pandas in a future version. Use pandas.concat instead.\n",
      "  result = result.append(temp)\n",
      "/tmp/ipykernel_20/2111800362.py:28: FutureWarning: The frame.append method is deprecated and will be removed from pandas in a future version. Use pandas.concat instead.\n",
      "  result = result.append(temp)\n",
      "/tmp/ipykernel_20/2111800362.py:28: FutureWarning: The frame.append method is deprecated and will be removed from pandas in a future version. Use pandas.concat instead.\n",
      "  result = result.append(temp)\n",
      "/tmp/ipykernel_20/2111800362.py:28: FutureWarning: The frame.append method is deprecated and will be removed from pandas in a future version. Use pandas.concat instead.\n",
      "  result = result.append(temp)\n",
      "/tmp/ipykernel_20/2111800362.py:28: FutureWarning: The frame.append method is deprecated and will be removed from pandas in a future version. Use pandas.concat instead.\n",
      "  result = result.append(temp)\n",
      "/tmp/ipykernel_20/2111800362.py:28: FutureWarning: The frame.append method is deprecated and will be removed from pandas in a future version. Use pandas.concat instead.\n",
      "  result = result.append(temp)\n",
      "/tmp/ipykernel_20/2111800362.py:28: FutureWarning: The frame.append method is deprecated and will be removed from pandas in a future version. Use pandas.concat instead.\n",
      "  result = result.append(temp)\n",
      "/tmp/ipykernel_20/2111800362.py:28: FutureWarning: The frame.append method is deprecated and will be removed from pandas in a future version. Use pandas.concat instead.\n",
      "  result = result.append(temp)\n",
      "/tmp/ipykernel_20/2111800362.py:28: FutureWarning: The frame.append method is deprecated and will be removed from pandas in a future version. Use pandas.concat instead.\n",
      "  result = result.append(temp)\n",
      "/tmp/ipykernel_20/2111800362.py:28: FutureWarning: The frame.append method is deprecated and will be removed from pandas in a future version. Use pandas.concat instead.\n",
      "  result = result.append(temp)\n",
      "/tmp/ipykernel_20/2111800362.py:28: FutureWarning: The frame.append method is deprecated and will be removed from pandas in a future version. Use pandas.concat instead.\n",
      "  result = result.append(temp)\n",
      "/tmp/ipykernel_20/2111800362.py:28: FutureWarning: The frame.append method is deprecated and will be removed from pandas in a future version. Use pandas.concat instead.\n",
      "  result = result.append(temp)\n",
      "/tmp/ipykernel_20/2111800362.py:28: FutureWarning: The frame.append method is deprecated and will be removed from pandas in a future version. Use pandas.concat instead.\n",
      "  result = result.append(temp)\n"
     ]
    },
    {
     "name": "stdout",
     "output_type": "stream",
     "text": [
      "<tensorflow_decision_forests.keras.RandomForestModel object at 0x7d777f11a500>\n",
      "1/1 [==============================] - 12s 12s/step\n",
      "<tensorflow_decision_forests.keras.RandomForestModel object at 0x7d777f00f040>\n",
      "1/1 [==============================] - 11s 11s/step\n",
      "<tensorflow_decision_forests.keras.RandomForestModel object at 0x7d774bf5ce80>\n",
      "1/1 [==============================] - 11s 11s/step\n",
      "                    prediction_id     rating\n",
      "0    3342_6_updrs_1_plus_0_months   5.394120\n",
      "4   50423_6_updrs_1_plus_0_months   5.454444\n",
      "0    3342_6_updrs_2_plus_0_months   5.465044\n",
      "4   50423_6_updrs_2_plus_0_months   3.515158\n",
      "0    3342_6_updrs_3_plus_0_months  19.806997\n",
      "4   50423_6_updrs_3_plus_0_months  13.015065\n",
      "0    3342_6_updrs_4_plus_0_months   0.000000\n",
      "4   50423_6_updrs_4_plus_0_months   0.000000\n",
      "0    3342_6_updrs_1_plus_6_months   5.394120\n",
      "4   50423_6_updrs_1_plus_6_months   5.454444\n",
      "0    3342_6_updrs_2_plus_6_months   5.465044\n",
      "4   50423_6_updrs_2_plus_6_months   3.515158\n",
      "0    3342_6_updrs_3_plus_6_months  19.806997\n",
      "4   50423_6_updrs_3_plus_6_months  13.015065\n",
      "0    3342_6_updrs_4_plus_6_months   0.000000\n",
      "4   50423_6_updrs_4_plus_6_months   0.000000\n",
      "0   3342_6_updrs_1_plus_12_months   5.394120\n",
      "4  50423_6_updrs_1_plus_12_months   5.454444\n",
      "0   3342_6_updrs_2_plus_12_months   5.465044\n",
      "4  50423_6_updrs_2_plus_12_months   3.515158\n",
      "0   3342_6_updrs_3_plus_12_months  19.806997\n",
      "4  50423_6_updrs_3_plus_12_months  13.015065\n",
      "0   3342_6_updrs_4_plus_12_months   0.000000\n",
      "4  50423_6_updrs_4_plus_12_months   0.000000\n",
      "0   3342_6_updrs_1_plus_24_months   5.394120\n",
      "4  50423_6_updrs_1_plus_24_months   5.454444\n",
      "0   3342_6_updrs_2_plus_24_months   5.465044\n",
      "4  50423_6_updrs_2_plus_24_months   3.515158\n",
      "0   3342_6_updrs_3_plus_24_months  19.806997\n",
      "4  50423_6_updrs_3_plus_24_months  13.015065\n",
      "0   3342_6_updrs_4_plus_24_months   0.000000\n",
      "4  50423_6_updrs_4_plus_24_months   0.000000\n"
     ]
    },
    {
     "name": "stderr",
     "output_type": "stream",
     "text": [
      "/tmp/ipykernel_20/2111800362.py:28: FutureWarning: The frame.append method is deprecated and will be removed from pandas in a future version. Use pandas.concat instead.\n",
      "  result = result.append(temp)\n",
      "/tmp/ipykernel_20/2111800362.py:28: FutureWarning: The frame.append method is deprecated and will be removed from pandas in a future version. Use pandas.concat instead.\n",
      "  result = result.append(temp)\n",
      "/tmp/ipykernel_20/2111800362.py:28: FutureWarning: The frame.append method is deprecated and will be removed from pandas in a future version. Use pandas.concat instead.\n",
      "  result = result.append(temp)\n",
      "/tmp/ipykernel_20/2111800362.py:28: FutureWarning: The frame.append method is deprecated and will be removed from pandas in a future version. Use pandas.concat instead.\n",
      "  result = result.append(temp)\n",
      "/tmp/ipykernel_20/2111800362.py:28: FutureWarning: The frame.append method is deprecated and will be removed from pandas in a future version. Use pandas.concat instead.\n",
      "  result = result.append(temp)\n",
      "/tmp/ipykernel_20/2111800362.py:28: FutureWarning: The frame.append method is deprecated and will be removed from pandas in a future version. Use pandas.concat instead.\n",
      "  result = result.append(temp)\n",
      "/tmp/ipykernel_20/2111800362.py:28: FutureWarning: The frame.append method is deprecated and will be removed from pandas in a future version. Use pandas.concat instead.\n",
      "  result = result.append(temp)\n",
      "/tmp/ipykernel_20/2111800362.py:28: FutureWarning: The frame.append method is deprecated and will be removed from pandas in a future version. Use pandas.concat instead.\n",
      "  result = result.append(temp)\n",
      "/tmp/ipykernel_20/2111800362.py:28: FutureWarning: The frame.append method is deprecated and will be removed from pandas in a future version. Use pandas.concat instead.\n",
      "  result = result.append(temp)\n",
      "/tmp/ipykernel_20/2111800362.py:28: FutureWarning: The frame.append method is deprecated and will be removed from pandas in a future version. Use pandas.concat instead.\n",
      "  result = result.append(temp)\n",
      "/tmp/ipykernel_20/2111800362.py:28: FutureWarning: The frame.append method is deprecated and will be removed from pandas in a future version. Use pandas.concat instead.\n",
      "  result = result.append(temp)\n",
      "/tmp/ipykernel_20/2111800362.py:28: FutureWarning: The frame.append method is deprecated and will be removed from pandas in a future version. Use pandas.concat instead.\n",
      "  result = result.append(temp)\n",
      "/tmp/ipykernel_20/2111800362.py:28: FutureWarning: The frame.append method is deprecated and will be removed from pandas in a future version. Use pandas.concat instead.\n",
      "  result = result.append(temp)\n",
      "/tmp/ipykernel_20/2111800362.py:28: FutureWarning: The frame.append method is deprecated and will be removed from pandas in a future version. Use pandas.concat instead.\n",
      "  result = result.append(temp)\n",
      "/tmp/ipykernel_20/2111800362.py:28: FutureWarning: The frame.append method is deprecated and will be removed from pandas in a future version. Use pandas.concat instead.\n",
      "  result = result.append(temp)\n",
      "/tmp/ipykernel_20/2111800362.py:28: FutureWarning: The frame.append method is deprecated and will be removed from pandas in a future version. Use pandas.concat instead.\n",
      "  result = result.append(temp)\n"
     ]
    }
   ],
   "source": [
    "# Reference: https://www.kaggle.com/code/xarispanagiotopoulos/linearregression-xgb/notebook\n",
    "\n",
    "for (test, test_peptides, test_proteins, sample_submission) in iter_test:\n",
    "    pro_pep_df = prepare_dataset(test_proteins, test_peptides)\n",
    "#     df_protein_grouped = train_proteins.groupby(['visit_id','UniProt'])['NPX'].mean().reset_index()\n",
    "#     df_peptide_grouped = train_peptides.groupby(['visit_id','Peptide'])['PeptideAbundance'].mean().reset_index()\n",
    "#     df_protein = df_protein_grouped.pivot(index='visit_id',columns = 'UniProt', values = 'NPX').rename_axis(columns=None).reset_index()\n",
    "#     df_peptide = df_peptide_grouped.pivot(index='visit_id',columns = 'Peptide', values = 'PeptideAbundance').rename_axis(columns=None).reset_index()\n",
    "#     pro_pep_df = df_protein.merge(df_peptide, on = ['visit_id'], how = 'left')\n",
    "\n",
    "\n",
    "    test_proteins = test_proteins.pivot(index=['visit_id', 'visit_month', 'patient_id'], \n",
    "              columns='UniProt', values='NPX').reset_index().rename_axis(None, axis=1).drop(columns=['visit_month', 'patient_id'])\n",
    "    merged_df = test.merge(test_proteins, how='left', on='visit_id')\n",
    "\n",
    "    test_df = test.merge(pro_pep_df, how='left', on='visit_id')\n",
    "    \n",
    "    # Add all the missing columns from FEATURES list and set the values as 0\n",
    "    for col in FEATURES:\n",
    "        if col not in test_df.columns:\n",
    "            test_df[col] = 0\n",
    "    test_df = test_df[['visit_id', 'patient_id'] + FEATURES]\n",
    "\n",
    "    test_ds = tfdf.keras.pd_dataframe_to_tf_dataset(test_df, task = tfdf.keras.Task.REGRESSION)\n",
    "    result = get_predictions(test_df, valid_ds, model_dict)\n",
    "    print(result)\n",
    "\n",
    "    env.predict(result)"
   ]
  },
  {
   "cell_type": "code",
   "execution_count": null,
   "id": "1359caf5",
   "metadata": {
    "papermill": {
     "duration": 0.041224,
     "end_time": "2023-05-15T10:33:02.996649",
     "exception": false,
     "start_time": "2023-05-15T10:33:02.955425",
     "status": "completed"
    },
    "tags": []
   },
   "outputs": [],
   "source": []
  }
 ],
 "metadata": {
  "kernelspec": {
   "display_name": "Python 3",
   "language": "python",
   "name": "python3"
  },
  "language_info": {
   "codemirror_mode": {
    "name": "ipython",
    "version": 3
   },
   "file_extension": ".py",
   "mimetype": "text/x-python",
   "name": "python",
   "nbconvert_exporter": "python",
   "pygments_lexer": "ipython3",
   "version": "3.10.10"
  },
  "papermill": {
   "default_parameters": {},
   "duration": 400.232558,
   "end_time": "2023-05-15T10:33:06.694668",
   "environment_variables": {},
   "exception": null,
   "input_path": "__notebook__.ipynb",
   "output_path": "__notebook__.ipynb",
   "parameters": {},
   "start_time": "2023-05-15T10:26:26.462110",
   "version": "2.4.0"
  }
 },
 "nbformat": 4,
 "nbformat_minor": 5
}
