{
 "cells": [
  {
   "cell_type": "markdown",
   "id": "60ecadf6",
   "metadata": {
    "papermill": {
     "duration": 0.025961,
     "end_time": "2023-05-14T03:52:01.187338",
     "exception": false,
     "start_time": "2023-05-14T03:52:01.161377",
     "status": "completed"
    },
    "tags": []
   },
   "source": [
    "# Parkinson's Disease Progression Prediction with TensorFlow Decision Forests\n",
    "\n",
    "This notebook walks you through how to train a baseline Random Forest model using TensorFlow Decision Forests on the AMP®-Parkinson's Disease Progression Prediction dataset made available for this competition. The model must predict MDS-UPDR scores, which measure progression in patients with Parkinson's disease. \n",
    "\n",
    "Roughly, the code will look as follows:\n",
    "\n",
    "```\n",
    "import tensorflow_decision_forests as tfdf\n",
    "import pandas as pd\n",
    "\n",
    "dataset = pd.read_csv(\"project/dataset.csv\")\n",
    "tf_dataset = tfdf.keras.pd_dataframe_to_tf_dataset(dataset, label=\"my_label\")\n",
    "\n",
    "model = tfdf.keras.RandomForestModel()\n",
    "model.fit(tf_dataset)\n",
    "\n",
    "print(model.summary())\n",
    "```\n",
    "\n",
    "This notebook will also show how to do some pre-processing of the data to make it easier for an ML models to learn from it.\n",
    "\n",
    "You'll also learn how to implement and use the evaluation metric used on this competition: SMAPE.\n",
    "\n",
    "Decision Forests are a family of tree-based models including Random Forests and Gradient Boosted Trees. They are the best place to start when working with tabular data, and will often outperform (or provide a strong baseline) before you begin experimenting with neural networks."
   ]
  },
  {
   "cell_type": "markdown",
   "id": "4e249725",
   "metadata": {
    "papermill": {
     "duration": 0.022163,
     "end_time": "2023-05-14T03:52:01.232247",
     "exception": false,
     "start_time": "2023-05-14T03:52:01.210084",
     "status": "completed"
    },
    "tags": []
   },
   "source": [
    "# Import the Required Libraries"
   ]
  },
  {
   "cell_type": "code",
   "execution_count": 1,
   "id": "6b42a63a",
   "metadata": {
    "execution": {
     "iopub.execute_input": "2023-05-14T03:52:01.279602Z",
     "iopub.status.busy": "2023-05-14T03:52:01.279040Z",
     "iopub.status.idle": "2023-05-14T03:52:12.677258Z",
     "shell.execute_reply": "2023-05-14T03:52:12.675822Z"
    },
    "papermill": {
     "duration": 11.426106,
     "end_time": "2023-05-14T03:52:12.680705",
     "exception": false,
     "start_time": "2023-05-14T03:52:01.254599",
     "status": "completed"
    },
    "tags": []
   },
   "outputs": [
    {
     "name": "stderr",
     "output_type": "stream",
     "text": [
      "/opt/conda/lib/python3.10/site-packages/scipy/__init__.py:146: UserWarning: A NumPy version >=1.16.5 and <1.23.0 is required for this version of SciPy (detected version 1.23.5\n",
      "  warnings.warn(f\"A NumPy version >={np_minversion} and <{np_maxversion}\"\n"
     ]
    }
   ],
   "source": [
    "import tensorflow as tf\n",
    "import tensorflow_decision_forests as tfdf\n",
    "import matplotlib.pyplot as plt\n",
    "import seaborn as sns\n",
    "import pandas as pd\n",
    "import numpy as np\n",
    "import math"
   ]
  },
  {
   "cell_type": "code",
   "execution_count": 2,
   "id": "4b59120a",
   "metadata": {
    "execution": {
     "iopub.execute_input": "2023-05-14T03:52:12.733100Z",
     "iopub.status.busy": "2023-05-14T03:52:12.730982Z",
     "iopub.status.idle": "2023-05-14T03:52:12.739776Z",
     "shell.execute_reply": "2023-05-14T03:52:12.738115Z"
    },
    "papermill": {
     "duration": 0.03727,
     "end_time": "2023-05-14T03:52:12.742694",
     "exception": false,
     "start_time": "2023-05-14T03:52:12.705424",
     "status": "completed"
    },
    "tags": []
   },
   "outputs": [
    {
     "name": "stdout",
     "output_type": "stream",
     "text": [
      "TensorFlow Decision Forests v1.2.0\n",
      "TensorFlow v2.11.0\n"
     ]
    }
   ],
   "source": [
    "print(\"TensorFlow Decision Forests v\" + tfdf.__version__)\n",
    "print(\"TensorFlow v\" + tf.__version__)"
   ]
  },
  {
   "cell_type": "markdown",
   "id": "52249426",
   "metadata": {
    "papermill": {
     "duration": 0.023534,
     "end_time": "2023-05-14T03:52:12.789798",
     "exception": false,
     "start_time": "2023-05-14T03:52:12.766264",
     "status": "completed"
    },
    "tags": []
   },
   "source": [
    "# Load the Dataset"
   ]
  },
  {
   "cell_type": "markdown",
   "id": "2abd8112",
   "metadata": {
    "papermill": {
     "duration": 0.023034,
     "end_time": "2023-05-14T03:52:12.836963",
     "exception": false,
     "start_time": "2023-05-14T03:52:12.813929",
     "status": "completed"
    },
    "tags": []
   },
   "source": [
    "First, let us load the dataset using Pandas."
   ]
  },
  {
   "cell_type": "code",
   "execution_count": 3,
   "id": "8275311a",
   "metadata": {
    "execution": {
     "iopub.execute_input": "2023-05-14T03:52:12.886516Z",
     "iopub.status.busy": "2023-05-14T03:52:12.886008Z",
     "iopub.status.idle": "2023-05-14T03:52:15.437939Z",
     "shell.execute_reply": "2023-05-14T03:52:15.436358Z"
    },
    "papermill": {
     "duration": 2.581227,
     "end_time": "2023-05-14T03:52:15.441441",
     "exception": false,
     "start_time": "2023-05-14T03:52:12.860214",
     "status": "completed"
    },
    "tags": []
   },
   "outputs": [],
   "source": [
    "# Load a dataset into a Pandas DataFrame\n",
    "train_proteins = pd.read_csv(\"/kaggle/input/amp-parkinsons-disease-progression-prediction/train_proteins.csv\")\n",
    "train_peptides = pd.read_csv(\"/kaggle/input/amp-parkinsons-disease-progression-prediction/train_peptides.csv\")\n",
    "train_clinical = pd.read_csv(\"/kaggle/input/amp-parkinsons-disease-progression-prediction/train_clinical_data.csv\")"
   ]
  },
  {
   "cell_type": "markdown",
   "id": "671429d1",
   "metadata": {
    "papermill": {
     "duration": 0.023434,
     "end_time": "2023-05-14T03:52:15.488825",
     "exception": false,
     "start_time": "2023-05-14T03:52:15.465391",
     "status": "completed"
    },
    "tags": []
   },
   "source": [
    "We will now examine each of these DataFrames in detail."
   ]
  },
  {
   "cell_type": "markdown",
   "id": "ec983be8",
   "metadata": {
    "papermill": {
     "duration": 0.023127,
     "end_time": "2023-05-14T03:52:15.535687",
     "exception": false,
     "start_time": "2023-05-14T03:52:15.512560",
     "status": "completed"
    },
    "tags": []
   },
   "source": [
    "UPDRS is a rating instrument used to measure the the severity and progression of Parkinson’s disease in patients.\n",
    "When a patient visits the clinic, the clinic will record how the patient scored on 4 parts of  UPDRS test. This data can be found in `train_clinical`. The ratings for the the first 4 segments of UPDRS are available as `updrs_1`, `updrs_2`, `updrs_3` and `updrs_4` in `train_clinical`.\n",
    "Our goal is to train a model to predict these UPDRS ratings."
   ]
  },
  {
   "cell_type": "markdown",
   "id": "689f18e5",
   "metadata": {
    "papermill": {
     "duration": 0.023197,
     "end_time": "2023-05-14T03:52:15.582282",
     "exception": false,
     "start_time": "2023-05-14T03:52:15.559085",
     "status": "completed"
    },
    "tags": []
   },
   "source": [
    "Let us examine the shape of `train_clinical` DataFrame."
   ]
  },
  {
   "cell_type": "code",
   "execution_count": 4,
   "id": "cf6f1185",
   "metadata": {
    "execution": {
     "iopub.execute_input": "2023-05-14T03:52:15.631109Z",
     "iopub.status.busy": "2023-05-14T03:52:15.630670Z",
     "iopub.status.idle": "2023-05-14T03:52:15.636652Z",
     "shell.execute_reply": "2023-05-14T03:52:15.635552Z"
    },
    "papermill": {
     "duration": 0.033718,
     "end_time": "2023-05-14T03:52:15.639397",
     "exception": false,
     "start_time": "2023-05-14T03:52:15.605679",
     "status": "completed"
    },
    "tags": []
   },
   "outputs": [
    {
     "name": "stdout",
     "output_type": "stream",
     "text": [
      "clinical dataset shape:   (2615, 8)\n"
     ]
    }
   ],
   "source": [
    "print('clinical dataset shape:  ', train_clinical.shape)"
   ]
  },
  {
   "cell_type": "markdown",
   "id": "e94cc600",
   "metadata": {
    "papermill": {
     "duration": 0.023353,
     "end_time": "2023-05-14T03:52:15.686117",
     "exception": false,
     "start_time": "2023-05-14T03:52:15.662764",
     "status": "completed"
    },
    "tags": []
   },
   "source": [
    "The `train_clinical` data is composed of ***8* columns** and ***2615* entries**.  We can see all 8 dimensions of our dataset by printing out the first 5 entries using the following code:"
   ]
  },
  {
   "cell_type": "code",
   "execution_count": 5,
   "id": "efa586ee",
   "metadata": {
    "execution": {
     "iopub.execute_input": "2023-05-14T03:52:15.734625Z",
     "iopub.status.busy": "2023-05-14T03:52:15.734211Z",
     "iopub.status.idle": "2023-05-14T03:52:15.774776Z",
     "shell.execute_reply": "2023-05-14T03:52:15.773208Z"
    },
    "papermill": {
     "duration": 0.068022,
     "end_time": "2023-05-14T03:52:15.777561",
     "exception": false,
     "start_time": "2023-05-14T03:52:15.709539",
     "status": "completed"
    },
    "tags": []
   },
   "outputs": [
    {
     "data": {
      "text/html": [
       "<div>\n",
       "<style scoped>\n",
       "    .dataframe tbody tr th:only-of-type {\n",
       "        vertical-align: middle;\n",
       "    }\n",
       "\n",
       "    .dataframe tbody tr th {\n",
       "        vertical-align: top;\n",
       "    }\n",
       "\n",
       "    .dataframe thead th {\n",
       "        text-align: right;\n",
       "    }\n",
       "</style>\n",
       "<table border=\"1\" class=\"dataframe\">\n",
       "  <thead>\n",
       "    <tr style=\"text-align: right;\">\n",
       "      <th></th>\n",
       "      <th>visit_id</th>\n",
       "      <th>patient_id</th>\n",
       "      <th>visit_month</th>\n",
       "      <th>updrs_1</th>\n",
       "      <th>updrs_2</th>\n",
       "      <th>updrs_3</th>\n",
       "      <th>updrs_4</th>\n",
       "      <th>upd23b_clinical_state_on_medication</th>\n",
       "    </tr>\n",
       "  </thead>\n",
       "  <tbody>\n",
       "    <tr>\n",
       "      <th>0</th>\n",
       "      <td>55_0</td>\n",
       "      <td>55</td>\n",
       "      <td>0</td>\n",
       "      <td>10.0</td>\n",
       "      <td>6.0</td>\n",
       "      <td>15.0</td>\n",
       "      <td>NaN</td>\n",
       "      <td>NaN</td>\n",
       "    </tr>\n",
       "    <tr>\n",
       "      <th>1</th>\n",
       "      <td>55_3</td>\n",
       "      <td>55</td>\n",
       "      <td>3</td>\n",
       "      <td>10.0</td>\n",
       "      <td>7.0</td>\n",
       "      <td>25.0</td>\n",
       "      <td>NaN</td>\n",
       "      <td>NaN</td>\n",
       "    </tr>\n",
       "    <tr>\n",
       "      <th>2</th>\n",
       "      <td>55_6</td>\n",
       "      <td>55</td>\n",
       "      <td>6</td>\n",
       "      <td>8.0</td>\n",
       "      <td>10.0</td>\n",
       "      <td>34.0</td>\n",
       "      <td>NaN</td>\n",
       "      <td>NaN</td>\n",
       "    </tr>\n",
       "    <tr>\n",
       "      <th>3</th>\n",
       "      <td>55_9</td>\n",
       "      <td>55</td>\n",
       "      <td>9</td>\n",
       "      <td>8.0</td>\n",
       "      <td>9.0</td>\n",
       "      <td>30.0</td>\n",
       "      <td>0.0</td>\n",
       "      <td>On</td>\n",
       "    </tr>\n",
       "    <tr>\n",
       "      <th>4</th>\n",
       "      <td>55_12</td>\n",
       "      <td>55</td>\n",
       "      <td>12</td>\n",
       "      <td>10.0</td>\n",
       "      <td>10.0</td>\n",
       "      <td>41.0</td>\n",
       "      <td>0.0</td>\n",
       "      <td>On</td>\n",
       "    </tr>\n",
       "  </tbody>\n",
       "</table>\n",
       "</div>"
      ],
      "text/plain": [
       "  visit_id  patient_id  visit_month  updrs_1  updrs_2  updrs_3  updrs_4  \\\n",
       "0     55_0          55            0     10.0      6.0     15.0      NaN   \n",
       "1     55_3          55            3     10.0      7.0     25.0      NaN   \n",
       "2     55_6          55            6      8.0     10.0     34.0      NaN   \n",
       "3     55_9          55            9      8.0      9.0     30.0      0.0   \n",
       "4    55_12          55           12     10.0     10.0     41.0      0.0   \n",
       "\n",
       "  upd23b_clinical_state_on_medication  \n",
       "0                                 NaN  \n",
       "1                                 NaN  \n",
       "2                                 NaN  \n",
       "3                                  On  \n",
       "4                                  On  "
      ]
     },
     "execution_count": 5,
     "metadata": {},
     "output_type": "execute_result"
    }
   ],
   "source": [
    "# Display the first 5 examples\n",
    "train_clinical.head(5)"
   ]
  },
  {
   "cell_type": "markdown",
   "id": "3cda11f2",
   "metadata": {
    "papermill": {
     "duration": 0.025488,
     "end_time": "2023-05-14T03:52:15.826868",
     "exception": false,
     "start_time": "2023-05-14T03:52:15.801380",
     "status": "completed"
    },
    "tags": []
   },
   "source": [
    "The clinic will also record the patient's **NPX**(Normalized Protein eXpression) value for all the proteins relevant to Parkinson's disease during each visit. **NPX** is nothing but the value representing the protein concentration in shells. This data is available in the `train_proteins` DataFrame.\n",
    "\n",
    "Let us examine the shape of `train_proteins` DataFrame."
   ]
  },
  {
   "cell_type": "code",
   "execution_count": 6,
   "id": "034e4efd",
   "metadata": {
    "execution": {
     "iopub.execute_input": "2023-05-14T03:52:15.877026Z",
     "iopub.status.busy": "2023-05-14T03:52:15.876564Z",
     "iopub.status.idle": "2023-05-14T03:52:15.883065Z",
     "shell.execute_reply": "2023-05-14T03:52:15.881682Z"
    },
    "papermill": {
     "duration": 0.03514,
     "end_time": "2023-05-14T03:52:15.885977",
     "exception": false,
     "start_time": "2023-05-14T03:52:15.850837",
     "status": "completed"
    },
    "tags": []
   },
   "outputs": [
    {
     "name": "stdout",
     "output_type": "stream",
     "text": [
      "proteins dataset shape:   (232741, 5)\n"
     ]
    }
   ],
   "source": [
    "print('proteins dataset shape:  ', train_proteins.shape)"
   ]
  },
  {
   "cell_type": "markdown",
   "id": "384821a4",
   "metadata": {
    "papermill": {
     "duration": 0.024189,
     "end_time": "2023-05-14T03:52:15.935030",
     "exception": false,
     "start_time": "2023-05-14T03:52:15.910841",
     "status": "completed"
    },
    "tags": []
   },
   "source": [
    "The `train_proteins` data is composed of ***5* columns** and ***232741* entries**. We can see all 5 dimensions of our dataset by printing out the first 5 entries using the following code:"
   ]
  },
  {
   "cell_type": "code",
   "execution_count": 7,
   "id": "50eef027",
   "metadata": {
    "execution": {
     "iopub.execute_input": "2023-05-14T03:52:15.985288Z",
     "iopub.status.busy": "2023-05-14T03:52:15.984809Z",
     "iopub.status.idle": "2023-05-14T03:52:15.999840Z",
     "shell.execute_reply": "2023-05-14T03:52:15.998577Z"
    },
    "papermill": {
     "duration": 0.047046,
     "end_time": "2023-05-14T03:52:16.006206",
     "exception": false,
     "start_time": "2023-05-14T03:52:15.959160",
     "status": "completed"
    },
    "tags": []
   },
   "outputs": [
    {
     "data": {
      "text/html": [
       "<div>\n",
       "<style scoped>\n",
       "    .dataframe tbody tr th:only-of-type {\n",
       "        vertical-align: middle;\n",
       "    }\n",
       "\n",
       "    .dataframe tbody tr th {\n",
       "        vertical-align: top;\n",
       "    }\n",
       "\n",
       "    .dataframe thead th {\n",
       "        text-align: right;\n",
       "    }\n",
       "</style>\n",
       "<table border=\"1\" class=\"dataframe\">\n",
       "  <thead>\n",
       "    <tr style=\"text-align: right;\">\n",
       "      <th></th>\n",
       "      <th>visit_id</th>\n",
       "      <th>visit_month</th>\n",
       "      <th>patient_id</th>\n",
       "      <th>UniProt</th>\n",
       "      <th>NPX</th>\n",
       "    </tr>\n",
       "  </thead>\n",
       "  <tbody>\n",
       "    <tr>\n",
       "      <th>0</th>\n",
       "      <td>55_0</td>\n",
       "      <td>0</td>\n",
       "      <td>55</td>\n",
       "      <td>O00391</td>\n",
       "      <td>11254.3</td>\n",
       "    </tr>\n",
       "    <tr>\n",
       "      <th>1</th>\n",
       "      <td>55_0</td>\n",
       "      <td>0</td>\n",
       "      <td>55</td>\n",
       "      <td>O00533</td>\n",
       "      <td>732430.0</td>\n",
       "    </tr>\n",
       "    <tr>\n",
       "      <th>2</th>\n",
       "      <td>55_0</td>\n",
       "      <td>0</td>\n",
       "      <td>55</td>\n",
       "      <td>O00584</td>\n",
       "      <td>39585.8</td>\n",
       "    </tr>\n",
       "    <tr>\n",
       "      <th>3</th>\n",
       "      <td>55_0</td>\n",
       "      <td>0</td>\n",
       "      <td>55</td>\n",
       "      <td>O14498</td>\n",
       "      <td>41526.9</td>\n",
       "    </tr>\n",
       "    <tr>\n",
       "      <th>4</th>\n",
       "      <td>55_0</td>\n",
       "      <td>0</td>\n",
       "      <td>55</td>\n",
       "      <td>O14773</td>\n",
       "      <td>31238.0</td>\n",
       "    </tr>\n",
       "  </tbody>\n",
       "</table>\n",
       "</div>"
      ],
      "text/plain": [
       "  visit_id  visit_month  patient_id UniProt       NPX\n",
       "0     55_0            0          55  O00391   11254.3\n",
       "1     55_0            0          55  O00533  732430.0\n",
       "2     55_0            0          55  O00584   39585.8\n",
       "3     55_0            0          55  O14498   41526.9\n",
       "4     55_0            0          55  O14773   31238.0"
      ]
     },
     "execution_count": 7,
     "metadata": {},
     "output_type": "execute_result"
    }
   ],
   "source": [
    "# Display the first 5 examples\n",
    "train_proteins.head(5)"
   ]
  },
  {
   "cell_type": "markdown",
   "id": "592c011b",
   "metadata": {
    "papermill": {
     "duration": 0.024426,
     "end_time": "2023-05-14T03:52:16.055341",
     "exception": false,
     "start_time": "2023-05-14T03:52:16.030915",
     "status": "completed"
    },
    "tags": []
   },
   "source": [
    "Proteins are long molecules made up of multiple peptides. The clinic will record the **Peptide Abundance** of each peptide in proteins relevant to Parkinson's disease. It shows the peptide concentration, similar to NPX for proteins.  This data can be found in the `train_peptides` DataFrame.\n",
    "\n",
    "Let us examine the shape of the `train_peptides` DataFrame."
   ]
  },
  {
   "cell_type": "code",
   "execution_count": 8,
   "id": "822c405e",
   "metadata": {
    "execution": {
     "iopub.execute_input": "2023-05-14T03:52:16.105612Z",
     "iopub.status.busy": "2023-05-14T03:52:16.105140Z",
     "iopub.status.idle": "2023-05-14T03:52:16.111365Z",
     "shell.execute_reply": "2023-05-14T03:52:16.110015Z"
    },
    "papermill": {
     "duration": 0.034949,
     "end_time": "2023-05-14T03:52:16.114239",
     "exception": false,
     "start_time": "2023-05-14T03:52:16.079290",
     "status": "completed"
    },
    "tags": []
   },
   "outputs": [
    {
     "name": "stdout",
     "output_type": "stream",
     "text": [
      "peptides dataset shape:   (981834, 6)\n"
     ]
    }
   ],
   "source": [
    "print('peptides dataset shape:  ', train_peptides.shape)"
   ]
  },
  {
   "cell_type": "markdown",
   "id": "70a8b369",
   "metadata": {
    "papermill": {
     "duration": 0.023651,
     "end_time": "2023-05-14T03:52:16.161968",
     "exception": false,
     "start_time": "2023-05-14T03:52:16.138317",
     "status": "completed"
    },
    "tags": []
   },
   "source": [
    "The **train_peptides** data is composed of ***6* columns** and ***981834* entries**. We can see all 6 dimensions of our dataset by printing out the first 5 entries using the following code:"
   ]
  },
  {
   "cell_type": "code",
   "execution_count": 9,
   "id": "280fbb59",
   "metadata": {
    "execution": {
     "iopub.execute_input": "2023-05-14T03:52:16.212748Z",
     "iopub.status.busy": "2023-05-14T03:52:16.212269Z",
     "iopub.status.idle": "2023-05-14T03:52:16.229817Z",
     "shell.execute_reply": "2023-05-14T03:52:16.228530Z"
    },
    "papermill": {
     "duration": 0.046146,
     "end_time": "2023-05-14T03:52:16.232423",
     "exception": false,
     "start_time": "2023-05-14T03:52:16.186277",
     "status": "completed"
    },
    "tags": []
   },
   "outputs": [
    {
     "data": {
      "text/html": [
       "<div>\n",
       "<style scoped>\n",
       "    .dataframe tbody tr th:only-of-type {\n",
       "        vertical-align: middle;\n",
       "    }\n",
       "\n",
       "    .dataframe tbody tr th {\n",
       "        vertical-align: top;\n",
       "    }\n",
       "\n",
       "    .dataframe thead th {\n",
       "        text-align: right;\n",
       "    }\n",
       "</style>\n",
       "<table border=\"1\" class=\"dataframe\">\n",
       "  <thead>\n",
       "    <tr style=\"text-align: right;\">\n",
       "      <th></th>\n",
       "      <th>visit_id</th>\n",
       "      <th>visit_month</th>\n",
       "      <th>patient_id</th>\n",
       "      <th>UniProt</th>\n",
       "      <th>Peptide</th>\n",
       "      <th>PeptideAbundance</th>\n",
       "    </tr>\n",
       "  </thead>\n",
       "  <tbody>\n",
       "    <tr>\n",
       "      <th>0</th>\n",
       "      <td>55_0</td>\n",
       "      <td>0</td>\n",
       "      <td>55</td>\n",
       "      <td>O00391</td>\n",
       "      <td>NEQEQPLGQWHLS</td>\n",
       "      <td>11254.3</td>\n",
       "    </tr>\n",
       "    <tr>\n",
       "      <th>1</th>\n",
       "      <td>55_0</td>\n",
       "      <td>0</td>\n",
       "      <td>55</td>\n",
       "      <td>O00533</td>\n",
       "      <td>GNPEPTFSWTK</td>\n",
       "      <td>102060.0</td>\n",
       "    </tr>\n",
       "    <tr>\n",
       "      <th>2</th>\n",
       "      <td>55_0</td>\n",
       "      <td>0</td>\n",
       "      <td>55</td>\n",
       "      <td>O00533</td>\n",
       "      <td>IEIPSSVQQVPTIIK</td>\n",
       "      <td>174185.0</td>\n",
       "    </tr>\n",
       "    <tr>\n",
       "      <th>3</th>\n",
       "      <td>55_0</td>\n",
       "      <td>0</td>\n",
       "      <td>55</td>\n",
       "      <td>O00533</td>\n",
       "      <td>KPQSAVYSTGSNGILLC(UniMod_4)EAEGEPQPTIK</td>\n",
       "      <td>27278.9</td>\n",
       "    </tr>\n",
       "    <tr>\n",
       "      <th>4</th>\n",
       "      <td>55_0</td>\n",
       "      <td>0</td>\n",
       "      <td>55</td>\n",
       "      <td>O00533</td>\n",
       "      <td>SMEQNGPGLEYR</td>\n",
       "      <td>30838.7</td>\n",
       "    </tr>\n",
       "  </tbody>\n",
       "</table>\n",
       "</div>"
      ],
      "text/plain": [
       "  visit_id  visit_month  patient_id UniProt  \\\n",
       "0     55_0            0          55  O00391   \n",
       "1     55_0            0          55  O00533   \n",
       "2     55_0            0          55  O00533   \n",
       "3     55_0            0          55  O00533   \n",
       "4     55_0            0          55  O00533   \n",
       "\n",
       "                                  Peptide  PeptideAbundance  \n",
       "0                           NEQEQPLGQWHLS           11254.3  \n",
       "1                             GNPEPTFSWTK          102060.0  \n",
       "2                         IEIPSSVQQVPTIIK          174185.0  \n",
       "3  KPQSAVYSTGSNGILLC(UniMod_4)EAEGEPQPTIK           27278.9  \n",
       "4                            SMEQNGPGLEYR           30838.7  "
      ]
     },
     "execution_count": 9,
     "metadata": {},
     "output_type": "execute_result"
    }
   ],
   "source": [
    "# Display the first 5 examples\n",
    "train_peptides.head(5)"
   ]
  },
  {
   "cell_type": "markdown",
   "id": "55092446",
   "metadata": {
    "papermill": {
     "duration": 0.023396,
     "end_time": "2023-05-14T03:52:16.280261",
     "exception": false,
     "start_time": "2023-05-14T03:52:16.256865",
     "status": "completed"
    },
    "tags": []
   },
   "source": [
    "# Plotting clinical data\n",
    "\n",
    "We will pick a random `patient_id` and plot the target label values(`updrs_1`, `updrs_2`, `updrs_3`, `updrs_4`) of the patient against each month(`visit_month`)."
   ]
  },
  {
   "cell_type": "code",
   "execution_count": 10,
   "id": "7959de31",
   "metadata": {
    "execution": {
     "iopub.execute_input": "2023-05-14T03:52:16.330413Z",
     "iopub.status.busy": "2023-05-14T03:52:16.329912Z",
     "iopub.status.idle": "2023-05-14T03:52:16.626367Z",
     "shell.execute_reply": "2023-05-14T03:52:16.624996Z"
    },
    "papermill": {
     "duration": 0.325454,
     "end_time": "2023-05-14T03:52:16.629263",
     "exception": false,
     "start_time": "2023-05-14T03:52:16.303809",
     "status": "completed"
    },
    "tags": []
   },
   "outputs": [
    {
     "data": {
      "image/png": "[encoded data removed]",
      "text/plain": [
       "<Figure size 640x480 with 1 Axes>"
      ]
     },
     "metadata": {},
     "output_type": "display_data"
    }
   ],
   "source": [
    "# Fetch data for patient with id 1517\n",
    "plot_df = train_clinical[train_clinical[\"patient_id\"]==45181]\n",
    "fig, ax = plt.subplots(1, 1)\n",
    "\n",
    "ax.plot(plot_df['visit_month'], plot_df['updrs_1'], marker='o', color=\"blue\", label=\"updrs_1\", linestyle=\"-\")\n",
    "ax.plot(plot_df['visit_month'], plot_df['updrs_2'], marker='o', color=\"red\", label=\"updrs_2\", linestyle=\"-\")\n",
    "ax.plot(plot_df['visit_month'], plot_df['updrs_3'], marker='o', color=\"green\", label=\"updrs_3\", linestyle=\"-\")\n",
    "ax.plot(plot_df['visit_month'], plot_df['updrs_4'], marker='o', color=\"orange\", label=\"updrs_4\", linestyle=\"-\")\n",
    "\n",
    "ax.legend()\n",
    "plt.show()"
   ]
  },
  {
   "cell_type": "markdown",
   "id": "55b9b162",
   "metadata": {
    "papermill": {
     "duration": 0.024543,
     "end_time": "2023-05-14T03:52:16.678734",
     "exception": false,
     "start_time": "2023-05-14T03:52:16.654191",
     "status": "completed"
    },
    "tags": []
   },
   "source": [
    "# Plotting protein data\n",
    "\n",
    "\n",
    "We will pick a random `patient_id` and plot the first 40 Protein entries(`UniProt`) of the patient and their NPX value against patient's visit month(`visit_month`)."
   ]
  },
  {
   "cell_type": "code",
   "execution_count": 11,
   "id": "7de04527",
   "metadata": {
    "execution": {
     "iopub.execute_input": "2023-05-14T03:52:16.732108Z",
     "iopub.status.busy": "2023-05-14T03:52:16.730773Z",
     "iopub.status.idle": "2023-05-14T03:52:19.246318Z",
     "shell.execute_reply": "2023-05-14T03:52:19.245193Z"
    },
    "papermill": {
     "duration": 2.54525,
     "end_time": "2023-05-14T03:52:19.249134",
     "exception": false,
     "start_time": "2023-05-14T03:52:16.703884",
     "status": "completed"
    },
    "tags": []
   },
   "outputs": [
    {
     "data": {
      "image/png": "[encoded data removed]",
      "text/plain": [
       "<Figure size 1500x1200 with 4 Axes>"
      ]
     },
     "metadata": {},
     "output_type": "display_data"
    }
   ],
   "source": [
    "pro_plot_df = train_proteins[train_proteins[\"patient_id\"]==1517]\n",
    "protein_list = pro_plot_df['UniProt'].unique()\n",
    "protein_list = protein_list[:40]\n",
    "pro_plot_df = pro_plot_df[pro_plot_df['UniProt'].isin(protein_list)]\n",
    "unique_month = pro_plot_df['visit_month'].unique()\n",
    "unique_month.sort()\n",
    "p_len = len(unique_month)\n",
    "\n",
    "pro_plot_df['visit_month'].unique()\n",
    "n_rows = math.ceil(p_len/2)\n",
    "figure, axis = plt.subplots(n_rows, 2, figsize=(15, n_rows*6))\n",
    "plt.subplots_adjust(hspace=0.5, wspace=0.3)\n",
    "\n",
    "for i, month in enumerate(unique_month):\n",
    "    row = i//2\n",
    "    col = i % 2\n",
    "    plot_df = pro_plot_df[pro_plot_df['visit_month']==month]\n",
    "    bp = sns.barplot(ax=axis[row, col], x=plot_df['UniProt'], y=plot_df['NPX'])\n",
    "    #bp.set(xticklabels=[])\n",
    "    bp.set_xticklabels(bp.get_xticklabels(), rotation=90, size = 7)\n",
    "    axis[row, col].set_title('visit_month ' + str(month))\n",
    "plt.show()"
   ]
  },
  {
   "cell_type": "markdown",
   "id": "4b941f38",
   "metadata": {
    "papermill": {
     "duration": 0.026493,
     "end_time": "2023-05-14T03:52:19.302825",
     "exception": false,
     "start_time": "2023-05-14T03:52:19.276332",
     "status": "completed"
    },
    "tags": []
   },
   "source": [
    "## Handling Null values"
   ]
  },
  {
   "cell_type": "code",
   "execution_count": 12,
   "id": "a48a84b1",
   "metadata": {
    "execution": {
     "iopub.execute_input": "2023-05-14T03:52:19.360256Z",
     "iopub.status.busy": "2023-05-14T03:52:19.358654Z",
     "iopub.status.idle": "2023-05-14T03:52:19.379881Z",
     "shell.execute_reply": "2023-05-14T03:52:19.378599Z"
    },
    "papermill": {
     "duration": 0.052457,
     "end_time": "2023-05-14T03:52:19.382978",
     "exception": false,
     "start_time": "2023-05-14T03:52:19.330521",
     "status": "completed"
    },
    "tags": []
   },
   "outputs": [
    {
     "name": "stdout",
     "output_type": "stream",
     "text": [
      "<class 'pandas.core.frame.DataFrame'>\n",
      "RangeIndex: 2615 entries, 0 to 2614\n",
      "Data columns (total 8 columns):\n",
      " #   Column                               Non-Null Count  Dtype  \n",
      "---  ------                               --------------  -----  \n",
      " 0   visit_id                             2615 non-null   object \n",
      " 1   patient_id                           2615 non-null   int64  \n",
      " 2   visit_month                          2615 non-null   int64  \n",
      " 3   updrs_1                              2614 non-null   float64\n",
      " 4   updrs_2                              2613 non-null   float64\n",
      " 5   updrs_3                              2590 non-null   float64\n",
      " 6   updrs_4                              1577 non-null   float64\n",
      " 7   upd23b_clinical_state_on_medication  1288 non-null   object \n",
      "dtypes: float64(4), int64(2), object(2)\n",
      "memory usage: 163.6+ KB\n"
     ]
    }
   ],
   "source": [
    "train_clinical.info()"
   ]
  },
  {
   "cell_type": "code",
   "execution_count": 13,
   "id": "7f95b0e8",
   "metadata": {
    "execution": {
     "iopub.execute_input": "2023-05-14T03:52:19.440123Z",
     "iopub.status.busy": "2023-05-14T03:52:19.439671Z",
     "iopub.status.idle": "2023-05-14T03:52:19.452304Z",
     "shell.execute_reply": "2023-05-14T03:52:19.451081Z"
    },
    "papermill": {
     "duration": 0.045096,
     "end_time": "2023-05-14T03:52:19.455401",
     "exception": false,
     "start_time": "2023-05-14T03:52:19.410305",
     "status": "completed"
    },
    "tags": []
   },
   "outputs": [
    {
     "data": {
      "text/plain": [
       "visit_id                                  0\n",
       "patient_id                                0\n",
       "visit_month                               0\n",
       "updrs_1                                   1\n",
       "updrs_2                                   2\n",
       "updrs_3                                  25\n",
       "updrs_4                                1038\n",
       "upd23b_clinical_state_on_medication    1327\n",
       "dtype: int64"
      ]
     },
     "execution_count": 13,
     "metadata": {},
     "output_type": "execute_result"
    }
   ],
   "source": [
    "train_clinical.isnull().sum()"
   ]
  },
  {
   "cell_type": "markdown",
   "id": "9c4739bb",
   "metadata": {
    "papermill": {
     "duration": 0.02559,
     "end_time": "2023-05-14T03:52:19.507277",
     "exception": false,
     "start_time": "2023-05-14T03:52:19.481687",
     "status": "completed"
    },
    "tags": []
   },
   "source": [
    "Based on the above data, it appears that the variable \"updrs_1\" contains only one null value, while the variable \"updrs_2\" has only two values missing. lets try to identify the specific patients associated with these missing values"
   ]
  },
  {
   "cell_type": "code",
   "execution_count": 14,
   "id": "4f0db065",
   "metadata": {
    "execution": {
     "iopub.execute_input": "2023-05-14T03:52:19.561568Z",
     "iopub.status.busy": "2023-05-14T03:52:19.561155Z",
     "iopub.status.idle": "2023-05-14T03:52:19.576672Z",
     "shell.execute_reply": "2023-05-14T03:52:19.575320Z"
    },
    "papermill": {
     "duration": 0.04613,
     "end_time": "2023-05-14T03:52:19.579323",
     "exception": false,
     "start_time": "2023-05-14T03:52:19.533193",
     "status": "completed"
    },
    "tags": []
   },
   "outputs": [
    {
     "data": {
      "text/html": [
       "<div>\n",
       "<style scoped>\n",
       "    .dataframe tbody tr th:only-of-type {\n",
       "        vertical-align: middle;\n",
       "    }\n",
       "\n",
       "    .dataframe tbody tr th {\n",
       "        vertical-align: top;\n",
       "    }\n",
       "\n",
       "    .dataframe thead th {\n",
       "        text-align: right;\n",
       "    }\n",
       "</style>\n",
       "<table border=\"1\" class=\"dataframe\">\n",
       "  <thead>\n",
       "    <tr style=\"text-align: right;\">\n",
       "      <th></th>\n",
       "      <th>visit_id</th>\n",
       "      <th>patient_id</th>\n",
       "      <th>visit_month</th>\n",
       "      <th>updrs_1</th>\n",
       "      <th>updrs_2</th>\n",
       "      <th>updrs_3</th>\n",
       "      <th>updrs_4</th>\n",
       "      <th>upd23b_clinical_state_on_medication</th>\n",
       "    </tr>\n",
       "  </thead>\n",
       "  <tbody>\n",
       "    <tr>\n",
       "      <th>1827</th>\n",
       "      <td>45181_42</td>\n",
       "      <td>45181</td>\n",
       "      <td>42</td>\n",
       "      <td>NaN</td>\n",
       "      <td>NaN</td>\n",
       "      <td>0.0</td>\n",
       "      <td>NaN</td>\n",
       "      <td>NaN</td>\n",
       "    </tr>\n",
       "  </tbody>\n",
       "</table>\n",
       "</div>"
      ],
      "text/plain": [
       "      visit_id  patient_id  visit_month  updrs_1  updrs_2  updrs_3  updrs_4  \\\n",
       "1827  45181_42       45181           42      NaN      NaN      0.0      NaN   \n",
       "\n",
       "     upd23b_clinical_state_on_medication  \n",
       "1827                                 NaN  "
      ]
     },
     "execution_count": 14,
     "metadata": {},
     "output_type": "execute_result"
    }
   ],
   "source": [
    "train_clinical[train_clinical['updrs_1'].isnull()]"
   ]
  },
  {
   "cell_type": "code",
   "execution_count": 15,
   "id": "9d09eaf4",
   "metadata": {
    "execution": {
     "iopub.execute_input": "2023-05-14T03:52:19.634514Z",
     "iopub.status.busy": "2023-05-14T03:52:19.633132Z",
     "iopub.status.idle": "2023-05-14T03:52:19.650036Z",
     "shell.execute_reply": "2023-05-14T03:52:19.649152Z"
    },
    "papermill": {
     "duration": 0.047059,
     "end_time": "2023-05-14T03:52:19.652383",
     "exception": false,
     "start_time": "2023-05-14T03:52:19.605324",
     "status": "completed"
    },
    "tags": []
   },
   "outputs": [
    {
     "data": {
      "text/html": [
       "<div>\n",
       "<style scoped>\n",
       "    .dataframe tbody tr th:only-of-type {\n",
       "        vertical-align: middle;\n",
       "    }\n",
       "\n",
       "    .dataframe tbody tr th {\n",
       "        vertical-align: top;\n",
       "    }\n",
       "\n",
       "    .dataframe thead th {\n",
       "        text-align: right;\n",
       "    }\n",
       "</style>\n",
       "<table border=\"1\" class=\"dataframe\">\n",
       "  <thead>\n",
       "    <tr style=\"text-align: right;\">\n",
       "      <th></th>\n",
       "      <th>visit_id</th>\n",
       "      <th>patient_id</th>\n",
       "      <th>visit_month</th>\n",
       "      <th>updrs_1</th>\n",
       "      <th>updrs_2</th>\n",
       "      <th>updrs_3</th>\n",
       "      <th>updrs_4</th>\n",
       "      <th>upd23b_clinical_state_on_medication</th>\n",
       "    </tr>\n",
       "  </thead>\n",
       "  <tbody>\n",
       "    <tr>\n",
       "      <th>1827</th>\n",
       "      <td>45181_42</td>\n",
       "      <td>45181</td>\n",
       "      <td>42</td>\n",
       "      <td>NaN</td>\n",
       "      <td>NaN</td>\n",
       "      <td>0.0</td>\n",
       "      <td>NaN</td>\n",
       "      <td>NaN</td>\n",
       "    </tr>\n",
       "    <tr>\n",
       "      <th>2472</th>\n",
       "      <td>60803_9</td>\n",
       "      <td>60803</td>\n",
       "      <td>9</td>\n",
       "      <td>0.0</td>\n",
       "      <td>NaN</td>\n",
       "      <td>29.0</td>\n",
       "      <td>0.0</td>\n",
       "      <td>NaN</td>\n",
       "    </tr>\n",
       "  </tbody>\n",
       "</table>\n",
       "</div>"
      ],
      "text/plain": [
       "      visit_id  patient_id  visit_month  updrs_1  updrs_2  updrs_3  updrs_4  \\\n",
       "1827  45181_42       45181           42      NaN      NaN      0.0      NaN   \n",
       "2472   60803_9       60803            9      0.0      NaN     29.0      0.0   \n",
       "\n",
       "     upd23b_clinical_state_on_medication  \n",
       "1827                                 NaN  \n",
       "2472                                 NaN  "
      ]
     },
     "execution_count": 15,
     "metadata": {},
     "output_type": "execute_result"
    }
   ],
   "source": [
    "train_clinical[train_clinical['updrs_2'].isnull()]"
   ]
  },
  {
   "cell_type": "code",
   "execution_count": 16,
   "id": "39774003",
   "metadata": {
    "execution": {
     "iopub.execute_input": "2023-05-14T03:52:19.709808Z",
     "iopub.status.busy": "2023-05-14T03:52:19.709189Z",
     "iopub.status.idle": "2023-05-14T03:52:19.739790Z",
     "shell.execute_reply": "2023-05-14T03:52:19.738457Z"
    },
    "papermill": {
     "duration": 0.063068,
     "end_time": "2023-05-14T03:52:19.742659",
     "exception": false,
     "start_time": "2023-05-14T03:52:19.679591",
     "status": "completed"
    },
    "tags": []
   },
   "outputs": [
    {
     "data": {
      "text/html": [
       "<div>\n",
       "<style scoped>\n",
       "    .dataframe tbody tr th:only-of-type {\n",
       "        vertical-align: middle;\n",
       "    }\n",
       "\n",
       "    .dataframe tbody tr th {\n",
       "        vertical-align: top;\n",
       "    }\n",
       "\n",
       "    .dataframe thead th {\n",
       "        text-align: right;\n",
       "    }\n",
       "</style>\n",
       "<table border=\"1\" class=\"dataframe\">\n",
       "  <thead>\n",
       "    <tr style=\"text-align: right;\">\n",
       "      <th></th>\n",
       "      <th>visit_id</th>\n",
       "      <th>patient_id</th>\n",
       "      <th>visit_month</th>\n",
       "      <th>updrs_1</th>\n",
       "      <th>updrs_2</th>\n",
       "      <th>updrs_3</th>\n",
       "      <th>updrs_4</th>\n",
       "      <th>upd23b_clinical_state_on_medication</th>\n",
       "    </tr>\n",
       "  </thead>\n",
       "  <tbody>\n",
       "    <tr>\n",
       "      <th>251</th>\n",
       "      <td>7832_18</td>\n",
       "      <td>7832</td>\n",
       "      <td>18</td>\n",
       "      <td>5.0</td>\n",
       "      <td>5.0</td>\n",
       "      <td>NaN</td>\n",
       "      <td>NaN</td>\n",
       "      <td>NaN</td>\n",
       "    </tr>\n",
       "    <tr>\n",
       "      <th>345</th>\n",
       "      <td>10715_72</td>\n",
       "      <td>10715</td>\n",
       "      <td>72</td>\n",
       "      <td>18.0</td>\n",
       "      <td>12.0</td>\n",
       "      <td>NaN</td>\n",
       "      <td>0.0</td>\n",
       "      <td>On</td>\n",
       "    </tr>\n",
       "    <tr>\n",
       "      <th>436</th>\n",
       "      <td>12931_24</td>\n",
       "      <td>12931</td>\n",
       "      <td>24</td>\n",
       "      <td>3.0</td>\n",
       "      <td>3.0</td>\n",
       "      <td>NaN</td>\n",
       "      <td>0.0</td>\n",
       "      <td>NaN</td>\n",
       "    </tr>\n",
       "    <tr>\n",
       "      <th>601</th>\n",
       "      <td>15245_18</td>\n",
       "      <td>15245</td>\n",
       "      <td>18</td>\n",
       "      <td>10.0</td>\n",
       "      <td>14.0</td>\n",
       "      <td>NaN</td>\n",
       "      <td>NaN</td>\n",
       "      <td>NaN</td>\n",
       "    </tr>\n",
       "    <tr>\n",
       "      <th>635</th>\n",
       "      <td>16238_48</td>\n",
       "      <td>16238</td>\n",
       "      <td>48</td>\n",
       "      <td>6.0</td>\n",
       "      <td>2.0</td>\n",
       "      <td>NaN</td>\n",
       "      <td>NaN</td>\n",
       "      <td>NaN</td>\n",
       "    </tr>\n",
       "    <tr>\n",
       "      <th>777</th>\n",
       "      <td>18560_6</td>\n",
       "      <td>18560</td>\n",
       "      <td>6</td>\n",
       "      <td>0.0</td>\n",
       "      <td>3.0</td>\n",
       "      <td>NaN</td>\n",
       "      <td>NaN</td>\n",
       "      <td>NaN</td>\n",
       "    </tr>\n",
       "    <tr>\n",
       "      <th>846</th>\n",
       "      <td>20404_84</td>\n",
       "      <td>20404</td>\n",
       "      <td>84</td>\n",
       "      <td>1.0</td>\n",
       "      <td>8.0</td>\n",
       "      <td>NaN</td>\n",
       "      <td>4.0</td>\n",
       "      <td>On</td>\n",
       "    </tr>\n",
       "    <tr>\n",
       "      <th>848</th>\n",
       "      <td>20460_3</td>\n",
       "      <td>20460</td>\n",
       "      <td>3</td>\n",
       "      <td>17.0</td>\n",
       "      <td>11.0</td>\n",
       "      <td>NaN</td>\n",
       "      <td>0.0</td>\n",
       "      <td>NaN</td>\n",
       "    </tr>\n",
       "    <tr>\n",
       "      <th>919</th>\n",
       "      <td>21126_96</td>\n",
       "      <td>21126</td>\n",
       "      <td>96</td>\n",
       "      <td>13.0</td>\n",
       "      <td>9.0</td>\n",
       "      <td>NaN</td>\n",
       "      <td>NaN</td>\n",
       "      <td>NaN</td>\n",
       "    </tr>\n",
       "    <tr>\n",
       "      <th>1151</th>\n",
       "      <td>27079_36</td>\n",
       "      <td>27079</td>\n",
       "      <td>36</td>\n",
       "      <td>4.0</td>\n",
       "      <td>5.0</td>\n",
       "      <td>NaN</td>\n",
       "      <td>1.0</td>\n",
       "      <td>On</td>\n",
       "    </tr>\n",
       "    <tr>\n",
       "      <th>1187</th>\n",
       "      <td>27468_84</td>\n",
       "      <td>27468</td>\n",
       "      <td>84</td>\n",
       "      <td>14.0</td>\n",
       "      <td>16.0</td>\n",
       "      <td>NaN</td>\n",
       "      <td>0.0</td>\n",
       "      <td>NaN</td>\n",
       "    </tr>\n",
       "    <tr>\n",
       "      <th>1359</th>\n",
       "      <td>31121_24</td>\n",
       "      <td>31121</td>\n",
       "      <td>24</td>\n",
       "      <td>9.0</td>\n",
       "      <td>5.0</td>\n",
       "      <td>NaN</td>\n",
       "      <td>NaN</td>\n",
       "      <td>NaN</td>\n",
       "    </tr>\n",
       "    <tr>\n",
       "      <th>1458</th>\n",
       "      <td>35465_72</td>\n",
       "      <td>35465</td>\n",
       "      <td>72</td>\n",
       "      <td>21.0</td>\n",
       "      <td>9.0</td>\n",
       "      <td>NaN</td>\n",
       "      <td>11.0</td>\n",
       "      <td>On</td>\n",
       "    </tr>\n",
       "    <tr>\n",
       "      <th>1539</th>\n",
       "      <td>39144_84</td>\n",
       "      <td>39144</td>\n",
       "      <td>84</td>\n",
       "      <td>3.0</td>\n",
       "      <td>0.0</td>\n",
       "      <td>NaN</td>\n",
       "      <td>NaN</td>\n",
       "      <td>NaN</td>\n",
       "    </tr>\n",
       "    <tr>\n",
       "      <th>1577</th>\n",
       "      <td>40200_96</td>\n",
       "      <td>40200</td>\n",
       "      <td>96</td>\n",
       "      <td>2.0</td>\n",
       "      <td>15.0</td>\n",
       "      <td>NaN</td>\n",
       "      <td>0.0</td>\n",
       "      <td>On</td>\n",
       "    </tr>\n",
       "    <tr>\n",
       "      <th>1857</th>\n",
       "      <td>47103_12</td>\n",
       "      <td>47103</td>\n",
       "      <td>12</td>\n",
       "      <td>5.0</td>\n",
       "      <td>6.0</td>\n",
       "      <td>NaN</td>\n",
       "      <td>NaN</td>\n",
       "      <td>On</td>\n",
       "    </tr>\n",
       "    <tr>\n",
       "      <th>1859</th>\n",
       "      <td>47103_24</td>\n",
       "      <td>47103</td>\n",
       "      <td>24</td>\n",
       "      <td>9.0</td>\n",
       "      <td>6.0</td>\n",
       "      <td>NaN</td>\n",
       "      <td>0.0</td>\n",
       "      <td>NaN</td>\n",
       "    </tr>\n",
       "    <tr>\n",
       "      <th>1937</th>\n",
       "      <td>49672_84</td>\n",
       "      <td>49672</td>\n",
       "      <td>84</td>\n",
       "      <td>6.0</td>\n",
       "      <td>5.0</td>\n",
       "      <td>NaN</td>\n",
       "      <td>NaN</td>\n",
       "      <td>NaN</td>\n",
       "    </tr>\n",
       "    <tr>\n",
       "      <th>1959</th>\n",
       "      <td>49995_84</td>\n",
       "      <td>49995</td>\n",
       "      <td>84</td>\n",
       "      <td>11.0</td>\n",
       "      <td>16.0</td>\n",
       "      <td>NaN</td>\n",
       "      <td>6.0</td>\n",
       "      <td>On</td>\n",
       "    </tr>\n",
       "    <tr>\n",
       "      <th>2056</th>\n",
       "      <td>52119_12</td>\n",
       "      <td>52119</td>\n",
       "      <td>12</td>\n",
       "      <td>2.0</td>\n",
       "      <td>5.0</td>\n",
       "      <td>NaN</td>\n",
       "      <td>0.0</td>\n",
       "      <td>NaN</td>\n",
       "    </tr>\n",
       "    <tr>\n",
       "      <th>2126</th>\n",
       "      <td>55096_36</td>\n",
       "      <td>55096</td>\n",
       "      <td>36</td>\n",
       "      <td>1.0</td>\n",
       "      <td>1.0</td>\n",
       "      <td>NaN</td>\n",
       "      <td>0.0</td>\n",
       "      <td>On</td>\n",
       "    </tr>\n",
       "    <tr>\n",
       "      <th>2128</th>\n",
       "      <td>55096_48</td>\n",
       "      <td>55096</td>\n",
       "      <td>48</td>\n",
       "      <td>2.0</td>\n",
       "      <td>3.0</td>\n",
       "      <td>NaN</td>\n",
       "      <td>0.0</td>\n",
       "      <td>NaN</td>\n",
       "    </tr>\n",
       "    <tr>\n",
       "      <th>2417</th>\n",
       "      <td>58823_54</td>\n",
       "      <td>58823</td>\n",
       "      <td>54</td>\n",
       "      <td>7.0</td>\n",
       "      <td>10.0</td>\n",
       "      <td>NaN</td>\n",
       "      <td>NaN</td>\n",
       "      <td>NaN</td>\n",
       "    </tr>\n",
       "    <tr>\n",
       "      <th>2495</th>\n",
       "      <td>61503_48</td>\n",
       "      <td>61503</td>\n",
       "      <td>48</td>\n",
       "      <td>3.0</td>\n",
       "      <td>16.0</td>\n",
       "      <td>NaN</td>\n",
       "      <td>NaN</td>\n",
       "      <td>NaN</td>\n",
       "    </tr>\n",
       "    <tr>\n",
       "      <th>2606</th>\n",
       "      <td>65043_24</td>\n",
       "      <td>65043</td>\n",
       "      <td>24</td>\n",
       "      <td>4.0</td>\n",
       "      <td>8.0</td>\n",
       "      <td>NaN</td>\n",
       "      <td>0.0</td>\n",
       "      <td>NaN</td>\n",
       "    </tr>\n",
       "  </tbody>\n",
       "</table>\n",
       "</div>"
      ],
      "text/plain": [
       "      visit_id  patient_id  visit_month  updrs_1  updrs_2  updrs_3  updrs_4  \\\n",
       "251    7832_18        7832           18      5.0      5.0      NaN      NaN   \n",
       "345   10715_72       10715           72     18.0     12.0      NaN      0.0   \n",
       "436   12931_24       12931           24      3.0      3.0      NaN      0.0   \n",
       "601   15245_18       15245           18     10.0     14.0      NaN      NaN   \n",
       "635   16238_48       16238           48      6.0      2.0      NaN      NaN   \n",
       "777    18560_6       18560            6      0.0      3.0      NaN      NaN   \n",
       "846   20404_84       20404           84      1.0      8.0      NaN      4.0   \n",
       "848    20460_3       20460            3     17.0     11.0      NaN      0.0   \n",
       "919   21126_96       21126           96     13.0      9.0      NaN      NaN   \n",
       "1151  27079_36       27079           36      4.0      5.0      NaN      1.0   \n",
       "1187  27468_84       27468           84     14.0     16.0      NaN      0.0   \n",
       "1359  31121_24       31121           24      9.0      5.0      NaN      NaN   \n",
       "1458  35465_72       35465           72     21.0      9.0      NaN     11.0   \n",
       "1539  39144_84       39144           84      3.0      0.0      NaN      NaN   \n",
       "1577  40200_96       40200           96      2.0     15.0      NaN      0.0   \n",
       "1857  47103_12       47103           12      5.0      6.0      NaN      NaN   \n",
       "1859  47103_24       47103           24      9.0      6.0      NaN      0.0   \n",
       "1937  49672_84       49672           84      6.0      5.0      NaN      NaN   \n",
       "1959  49995_84       49995           84     11.0     16.0      NaN      6.0   \n",
       "2056  52119_12       52119           12      2.0      5.0      NaN      0.0   \n",
       "2126  55096_36       55096           36      1.0      1.0      NaN      0.0   \n",
       "2128  55096_48       55096           48      2.0      3.0      NaN      0.0   \n",
       "2417  58823_54       58823           54      7.0     10.0      NaN      NaN   \n",
       "2495  61503_48       61503           48      3.0     16.0      NaN      NaN   \n",
       "2606  65043_24       65043           24      4.0      8.0      NaN      0.0   \n",
       "\n",
       "     upd23b_clinical_state_on_medication  \n",
       "251                                  NaN  \n",
       "345                                   On  \n",
       "436                                  NaN  \n",
       "601                                  NaN  \n",
       "635                                  NaN  \n",
       "777                                  NaN  \n",
       "846                                   On  \n",
       "848                                  NaN  \n",
       "919                                  NaN  \n",
       "1151                                  On  \n",
       "1187                                 NaN  \n",
       "1359                                 NaN  \n",
       "1458                                  On  \n",
       "1539                                 NaN  \n",
       "1577                                  On  \n",
       "1857                                  On  \n",
       "1859                                 NaN  \n",
       "1937                                 NaN  \n",
       "1959                                  On  \n",
       "2056                                 NaN  \n",
       "2126                                  On  \n",
       "2128                                 NaN  \n",
       "2417                                 NaN  \n",
       "2495                                 NaN  \n",
       "2606                                 NaN  "
      ]
     },
     "execution_count": 16,
     "metadata": {},
     "output_type": "execute_result"
    }
   ],
   "source": [
    "train_clinical[train_clinical['updrs_3'].isnull()]"
   ]
  },
  {
   "cell_type": "markdown",
   "id": "e5452cda",
   "metadata": {
    "papermill": {
     "duration": 0.029677,
     "end_time": "2023-05-14T03:52:19.801632",
     "exception": false,
     "start_time": "2023-05-14T03:52:19.771955",
     "status": "completed"
    },
    "tags": []
   },
   "source": [
    "since updrs values are in medical domain, we use linear interpolation method to impute the missing values in dataset"
   ]
  },
  {
   "cell_type": "code",
   "execution_count": 17,
   "id": "363f4d58",
   "metadata": {
    "execution": {
     "iopub.execute_input": "2023-05-14T03:52:19.878043Z",
     "iopub.status.busy": "2023-05-14T03:52:19.877096Z",
     "iopub.status.idle": "2023-05-14T03:52:19.888360Z",
     "shell.execute_reply": "2023-05-14T03:52:19.886581Z"
    },
    "papermill": {
     "duration": 0.05549,
     "end_time": "2023-05-14T03:52:19.892233",
     "exception": false,
     "start_time": "2023-05-14T03:52:19.836743",
     "status": "completed"
    },
    "tags": []
   },
   "outputs": [],
   "source": [
    "train_clinical['updrs_1'] = train_clinical['updrs_1'].interpolate(method = 'linear').round(1)"
   ]
  },
  {
   "cell_type": "code",
   "execution_count": 18,
   "id": "30c4aa8f",
   "metadata": {
    "execution": {
     "iopub.execute_input": "2023-05-14T03:52:19.957069Z",
     "iopub.status.busy": "2023-05-14T03:52:19.956323Z",
     "iopub.status.idle": "2023-05-14T03:52:19.962508Z",
     "shell.execute_reply": "2023-05-14T03:52:19.961416Z"
    },
    "papermill": {
     "duration": 0.038307,
     "end_time": "2023-05-14T03:52:19.965239",
     "exception": false,
     "start_time": "2023-05-14T03:52:19.926932",
     "status": "completed"
    },
    "tags": []
   },
   "outputs": [],
   "source": [
    "train_clinical['updrs_2'] = train_clinical['updrs_2'].interpolate(method = 'linear').round(1)"
   ]
  },
  {
   "cell_type": "markdown",
   "id": "c6e12a01",
   "metadata": {
    "papermill": {
     "duration": 0.031428,
     "end_time": "2023-05-14T03:52:20.024568",
     "exception": false,
     "start_time": "2023-05-14T03:52:19.993140",
     "status": "completed"
    },
    "tags": []
   },
   "source": [
    "use same method to inpute missing values in updrs_3 and updrs_4"
   ]
  },
  {
   "cell_type": "code",
   "execution_count": 19,
   "id": "4ab8f7d5",
   "metadata": {
    "execution": {
     "iopub.execute_input": "2023-05-14T03:52:20.082498Z",
     "iopub.status.busy": "2023-05-14T03:52:20.082045Z",
     "iopub.status.idle": "2023-05-14T03:52:20.090726Z",
     "shell.execute_reply": "2023-05-14T03:52:20.089623Z"
    },
    "papermill": {
     "duration": 0.041031,
     "end_time": "2023-05-14T03:52:20.093549",
     "exception": false,
     "start_time": "2023-05-14T03:52:20.052518",
     "status": "completed"
    },
    "tags": []
   },
   "outputs": [],
   "source": [
    "train_clinical['updrs_3'] = train_clinical['updrs_3'].interpolate(method = 'linear').round(1)\n",
    "train_clinical['updrs_4'] = train_clinical['updrs_4'].interpolate(method = 'linear').round(1)"
   ]
  },
  {
   "cell_type": "markdown",
   "id": "23da9a8d",
   "metadata": {
    "papermill": {
     "duration": 0.028083,
     "end_time": "2023-05-14T03:52:20.149762",
     "exception": false,
     "start_time": "2023-05-14T03:52:20.121679",
     "status": "completed"
    },
    "tags": []
   },
   "source": [
    "If there still null values in there impute it from 0"
   ]
  },
  {
   "cell_type": "code",
   "execution_count": 20,
   "id": "694baf35",
   "metadata": {
    "execution": {
     "iopub.execute_input": "2023-05-14T03:52:20.207800Z",
     "iopub.status.busy": "2023-05-14T03:52:20.207380Z",
     "iopub.status.idle": "2023-05-14T03:52:20.214031Z",
     "shell.execute_reply": "2023-05-14T03:52:20.213177Z"
    },
    "papermill": {
     "duration": 0.038587,
     "end_time": "2023-05-14T03:52:20.216236",
     "exception": false,
     "start_time": "2023-05-14T03:52:20.177649",
     "status": "completed"
    },
    "tags": []
   },
   "outputs": [],
   "source": [
    "train_clinical['updrs_4'] = train_clinical['updrs_4'].fillna(0)"
   ]
  },
  {
   "cell_type": "code",
   "execution_count": 21,
   "id": "5f3749c0",
   "metadata": {
    "execution": {
     "iopub.execute_input": "2023-05-14T03:52:20.274157Z",
     "iopub.status.busy": "2023-05-14T03:52:20.273337Z",
     "iopub.status.idle": "2023-05-14T03:52:20.292028Z",
     "shell.execute_reply": "2023-05-14T03:52:20.290689Z"
    },
    "papermill": {
     "duration": 0.05077,
     "end_time": "2023-05-14T03:52:20.294785",
     "exception": false,
     "start_time": "2023-05-14T03:52:20.244015",
     "status": "completed"
    },
    "tags": []
   },
   "outputs": [
    {
     "data": {
      "text/html": [
       "<div>\n",
       "<style scoped>\n",
       "    .dataframe tbody tr th:only-of-type {\n",
       "        vertical-align: middle;\n",
       "    }\n",
       "\n",
       "    .dataframe tbody tr th {\n",
       "        vertical-align: top;\n",
       "    }\n",
       "\n",
       "    .dataframe thead th {\n",
       "        text-align: right;\n",
       "    }\n",
       "</style>\n",
       "<table border=\"1\" class=\"dataframe\">\n",
       "  <thead>\n",
       "    <tr style=\"text-align: right;\">\n",
       "      <th></th>\n",
       "      <th>visit_id</th>\n",
       "      <th>patient_id</th>\n",
       "      <th>visit_month</th>\n",
       "      <th>updrs_1</th>\n",
       "      <th>updrs_2</th>\n",
       "      <th>updrs_3</th>\n",
       "      <th>updrs_4</th>\n",
       "      <th>upd23b_clinical_state_on_medication</th>\n",
       "    </tr>\n",
       "  </thead>\n",
       "  <tbody>\n",
       "    <tr>\n",
       "      <th>0</th>\n",
       "      <td>55_0</td>\n",
       "      <td>55</td>\n",
       "      <td>0</td>\n",
       "      <td>10.0</td>\n",
       "      <td>6.0</td>\n",
       "      <td>15.0</td>\n",
       "      <td>0.0</td>\n",
       "      <td>NaN</td>\n",
       "    </tr>\n",
       "    <tr>\n",
       "      <th>1</th>\n",
       "      <td>55_3</td>\n",
       "      <td>55</td>\n",
       "      <td>3</td>\n",
       "      <td>10.0</td>\n",
       "      <td>7.0</td>\n",
       "      <td>25.0</td>\n",
       "      <td>0.0</td>\n",
       "      <td>NaN</td>\n",
       "    </tr>\n",
       "    <tr>\n",
       "      <th>2</th>\n",
       "      <td>55_6</td>\n",
       "      <td>55</td>\n",
       "      <td>6</td>\n",
       "      <td>8.0</td>\n",
       "      <td>10.0</td>\n",
       "      <td>34.0</td>\n",
       "      <td>0.0</td>\n",
       "      <td>NaN</td>\n",
       "    </tr>\n",
       "    <tr>\n",
       "      <th>3</th>\n",
       "      <td>55_9</td>\n",
       "      <td>55</td>\n",
       "      <td>9</td>\n",
       "      <td>8.0</td>\n",
       "      <td>9.0</td>\n",
       "      <td>30.0</td>\n",
       "      <td>0.0</td>\n",
       "      <td>On</td>\n",
       "    </tr>\n",
       "    <tr>\n",
       "      <th>4</th>\n",
       "      <td>55_12</td>\n",
       "      <td>55</td>\n",
       "      <td>12</td>\n",
       "      <td>10.0</td>\n",
       "      <td>10.0</td>\n",
       "      <td>41.0</td>\n",
       "      <td>0.0</td>\n",
       "      <td>On</td>\n",
       "    </tr>\n",
       "  </tbody>\n",
       "</table>\n",
       "</div>"
      ],
      "text/plain": [
       "  visit_id  patient_id  visit_month  updrs_1  updrs_2  updrs_3  updrs_4  \\\n",
       "0     55_0          55            0     10.0      6.0     15.0      0.0   \n",
       "1     55_3          55            3     10.0      7.0     25.0      0.0   \n",
       "2     55_6          55            6      8.0     10.0     34.0      0.0   \n",
       "3     55_9          55            9      8.0      9.0     30.0      0.0   \n",
       "4    55_12          55           12     10.0     10.0     41.0      0.0   \n",
       "\n",
       "  upd23b_clinical_state_on_medication  \n",
       "0                                 NaN  \n",
       "1                                 NaN  \n",
       "2                                 NaN  \n",
       "3                                  On  \n",
       "4                                  On  "
      ]
     },
     "execution_count": 21,
     "metadata": {},
     "output_type": "execute_result"
    }
   ],
   "source": [
    "train_clinical.head(5)"
   ]
  },
  {
   "cell_type": "code",
   "execution_count": 22,
   "id": "e7d14bfe",
   "metadata": {
    "execution": {
     "iopub.execute_input": "2023-05-14T03:52:20.354673Z",
     "iopub.status.busy": "2023-05-14T03:52:20.354263Z",
     "iopub.status.idle": "2023-05-14T03:52:20.366482Z",
     "shell.execute_reply": "2023-05-14T03:52:20.365281Z"
    },
    "papermill": {
     "duration": 0.045721,
     "end_time": "2023-05-14T03:52:20.368974",
     "exception": false,
     "start_time": "2023-05-14T03:52:20.323253",
     "status": "completed"
    },
    "tags": []
   },
   "outputs": [
    {
     "data": {
      "text/plain": [
       "visit_id                                  0\n",
       "patient_id                                0\n",
       "visit_month                               0\n",
       "updrs_1                                   0\n",
       "updrs_2                                   0\n",
       "updrs_3                                   0\n",
       "updrs_4                                   0\n",
       "upd23b_clinical_state_on_medication    1327\n",
       "dtype: int64"
      ]
     },
     "execution_count": 22,
     "metadata": {},
     "output_type": "execute_result"
    }
   ],
   "source": [
    "train_clinical.isnull().sum()"
   ]
  },
  {
   "cell_type": "code",
   "execution_count": 23,
   "id": "5ddae1c3",
   "metadata": {
    "execution": {
     "iopub.execute_input": "2023-05-14T03:52:20.429259Z",
     "iopub.status.busy": "2023-05-14T03:52:20.428191Z",
     "iopub.status.idle": "2023-05-14T03:52:20.436598Z",
     "shell.execute_reply": "2023-05-14T03:52:20.435416Z"
    },
    "papermill": {
     "duration": 0.041149,
     "end_time": "2023-05-14T03:52:20.439016",
     "exception": false,
     "start_time": "2023-05-14T03:52:20.397867",
     "status": "completed"
    },
    "tags": []
   },
   "outputs": [
    {
     "data": {
      "text/plain": [
       "array([nan, 'On', 'Off'], dtype=object)"
      ]
     },
     "execution_count": 23,
     "metadata": {},
     "output_type": "execute_result"
    }
   ],
   "source": [
    "train_clinical['upd23b_clinical_state_on_medication'].unique()"
   ]
  },
  {
   "cell_type": "markdown",
   "id": "1147416e",
   "metadata": {
    "papermill": {
     "duration": 0.029317,
     "end_time": "2023-05-14T03:52:20.497209",
     "exception": false,
     "start_time": "2023-05-14T03:52:20.467892",
     "status": "completed"
    },
    "tags": []
   },
   "source": [
    "# Prepare the dataset\n",
    "\n",
    "We have to predict the ratings for the the first 4 segments of UPDRS `updrs_1`, `updrs_2`, `updrs_3` and `updrs_4` that is likely to be recorded by the clinic during a patient visit. Hence these are our labels."
   ]
  },
  {
   "cell_type": "markdown",
   "id": "de5dcfe3",
   "metadata": {
    "papermill": {
     "duration": 0.028025,
     "end_time": "2023-05-14T03:52:20.553861",
     "exception": false,
     "start_time": "2023-05-14T03:52:20.525836",
     "status": "completed"
    },
    "tags": []
   },
   "source": [
    "We will now prepare the dataset for training models to predict the 4 labels."
   ]
  },
  {
   "cell_type": "markdown",
   "id": "d88f3169",
   "metadata": {
    "papermill": {
     "duration": 0.028163,
     "end_time": "2023-05-14T03:52:20.610415",
     "exception": false,
     "start_time": "2023-05-14T03:52:20.582252",
     "status": "completed"
    },
    "tags": []
   },
   "source": [
    "To predict the target labels(`updrs_1`, `updrs_2`, `updrs_3`, `updrs_4`) for a given visit, we will use the recorded protein and peptide data of the patient during that visit.\n",
    "\n",
    "First we will group the rows in `train_proteins` data by visit ids (`visit id`) and protein ids (`UniProt`). Then we will replace the`NPX` values of each row in a group with the mean of the `NPX` values of all rows in that group.\n",
    "\n",
    "Similarly we will group the rows in `train_peptides` data by their visit ids(`visit_id`) and peptide ids(`Peptide`). Then we will replace the `PeptideAbundance` values of each row in a group with the mean of the `PeptideAbundance` values of all rows in that group. "
   ]
  },
  {
   "cell_type": "markdown",
   "id": "a8c1828d",
   "metadata": {
    "papermill": {
     "duration": 0.027953,
     "end_time": "2023-05-14T03:52:20.666916",
     "exception": false,
     "start_time": "2023-05-14T03:52:20.638963",
     "status": "completed"
    },
    "tags": []
   },
   "source": [
    "Now we will spread the rows of the grouped datasets into columns. For this we will use the Pandas pivot function."
   ]
  },
  {
   "cell_type": "markdown",
   "id": "f8c79cf0",
   "metadata": {
    "papermill": {
     "duration": 0.028052,
     "end_time": "2023-05-14T03:52:20.723287",
     "exception": false,
     "start_time": "2023-05-14T03:52:20.695235",
     "status": "completed"
    },
    "tags": []
   },
   "source": [
    "The Protein dataset is pivoted such that unique values of `visit_id` become the indices and the values of `UniProt1` in the dataset become columns. For each visit(row), the `NPX` values corresponding to the different`UniProt1` values recorded for that visit are captured in the columns.\n",
    "\n",
    "The Peptipe dataset is pivoted such that unique values of `visit_id` become the indices and the values of `Peptide` in the dataset become columns. For each visit(row), the `PeptideAbundance` values corresponding to the different`Peptide` values recorded for that visit are captured in the columns."
   ]
  },
  {
   "cell_type": "markdown",
   "id": "b0824896",
   "metadata": {
    "papermill": {
     "duration": 0.028811,
     "end_time": "2023-05-14T03:52:20.780636",
     "exception": false,
     "start_time": "2023-05-14T03:52:20.751825",
     "status": "completed"
    },
    "tags": []
   },
   "source": [
    "We will now merge the pivoted peptide dataset with the pivoted protein dataset on `visit_id`.\n",
    "\n",
    "The figure shown below illustrates the logic behind Pandas merge function."
   ]
  },
  {
   "cell_type": "markdown",
   "id": "ccc979eb",
   "metadata": {
    "papermill": {
     "duration": 0.028634,
     "end_time": "2023-05-14T03:52:20.837815",
     "exception": false,
     "start_time": "2023-05-14T03:52:20.809181",
     "status": "completed"
    },
    "tags": []
   },
   "source": [
    "In this notebook, we will let TensorFlow Decision Forests handle the missing values in the numerical columns."
   ]
  },
  {
   "cell_type": "code",
   "execution_count": 24,
   "id": "966e34aa",
   "metadata": {
    "execution": {
     "iopub.execute_input": "2023-05-14T03:52:20.897780Z",
     "iopub.status.busy": "2023-05-14T03:52:20.897114Z",
     "iopub.status.idle": "2023-05-14T03:52:20.904396Z",
     "shell.execute_reply": "2023-05-14T03:52:20.903586Z"
    },
    "papermill": {
     "duration": 0.040342,
     "end_time": "2023-05-14T03:52:20.906824",
     "exception": false,
     "start_time": "2023-05-14T03:52:20.866482",
     "status": "completed"
    },
    "tags": []
   },
   "outputs": [],
   "source": [
    "# Function to prepare dataset with all the steps mentioned above:\n",
    "def prepare_dataset(train_proteins, train_peptides):\n",
    "    # Step 1: Grouping \n",
    "    df_protein_grouped = train_proteins.groupby(['visit_id','UniProt'])['NPX'].mean().reset_index()\n",
    "    df_peptide_grouped = train_peptides.groupby(['visit_id','Peptide'])['PeptideAbundance'].mean().reset_index()\n",
    "    \n",
    "    # Step 2: Pivoting\n",
    "    df_protein = df_protein_grouped.pivot(index='visit_id',columns = 'UniProt', values = 'NPX').rename_axis(columns=None).reset_index()\n",
    "    df_peptide = df_peptide_grouped.pivot(index='visit_id',columns = 'Peptide', values = 'PeptideAbundance').rename_axis(columns=None).reset_index()\n",
    "    \n",
    "    # Step 3: Merging\n",
    "    pro_pep_df = df_protein.merge(df_peptide, on = ['visit_id'], how = 'left')\n",
    "    \n",
    "    return pro_pep_df\n",
    "    "
   ]
  },
  {
   "cell_type": "code",
   "execution_count": 25,
   "id": "a388e8eb",
   "metadata": {
    "execution": {
     "iopub.execute_input": "2023-05-14T03:52:20.965723Z",
     "iopub.status.busy": "2023-05-14T03:52:20.965305Z",
     "iopub.status.idle": "2023-05-14T03:52:22.439652Z",
     "shell.execute_reply": "2023-05-14T03:52:22.438305Z"
    },
    "papermill": {
     "duration": 1.507567,
     "end_time": "2023-05-14T03:52:22.442957",
     "exception": false,
     "start_time": "2023-05-14T03:52:20.935390",
     "status": "completed"
    },
    "tags": []
   },
   "outputs": [],
   "source": [
    "pro_pep_df = prepare_dataset(train_proteins, train_peptides)"
   ]
  },
  {
   "cell_type": "markdown",
   "id": "33866e32",
   "metadata": {
    "papermill": {
     "duration": 0.02813,
     "end_time": "2023-05-14T03:52:22.499696",
     "exception": false,
     "start_time": "2023-05-14T03:52:22.471566",
     "status": "completed"
    },
    "tags": []
   },
   "source": [
    "# Basic exploration of the prepared dataset"
   ]
  },
  {
   "cell_type": "code",
   "execution_count": 26,
   "id": "2d03521d",
   "metadata": {
    "execution": {
     "iopub.execute_input": "2023-05-14T03:52:22.559909Z",
     "iopub.status.busy": "2023-05-14T03:52:22.559461Z",
     "iopub.status.idle": "2023-05-14T03:52:22.567654Z",
     "shell.execute_reply": "2023-05-14T03:52:22.566469Z"
    },
    "papermill": {
     "duration": 0.041541,
     "end_time": "2023-05-14T03:52:22.569962",
     "exception": false,
     "start_time": "2023-05-14T03:52:22.528421",
     "status": "completed"
    },
    "tags": []
   },
   "outputs": [
    {
     "data": {
      "text/plain": [
       "(1113, 1196)"
      ]
     },
     "execution_count": 26,
     "metadata": {},
     "output_type": "execute_result"
    }
   ],
   "source": [
    "pro_pep_df.shape"
   ]
  },
  {
   "cell_type": "markdown",
   "id": "01d55f2c",
   "metadata": {
    "papermill": {
     "duration": 0.028317,
     "end_time": "2023-05-14T03:52:22.626782",
     "exception": false,
     "start_time": "2023-05-14T03:52:22.598465",
     "status": "completed"
    },
    "tags": []
   },
   "source": [
    "Our feature engineered dataset is composed of 1196 columns and 1113 entries.\n",
    "\n",
    "Let us print out the first 5 entries using the following code:"
   ]
  },
  {
   "cell_type": "code",
   "execution_count": 27,
   "id": "5781eb23",
   "metadata": {
    "execution": {
     "iopub.execute_input": "2023-05-14T03:52:22.686393Z",
     "iopub.status.busy": "2023-05-14T03:52:22.685874Z",
     "iopub.status.idle": "2023-05-14T03:52:22.722764Z",
     "shell.execute_reply": "2023-05-14T03:52:22.721516Z"
    },
    "papermill": {
     "duration": 0.070149,
     "end_time": "2023-05-14T03:52:22.725524",
     "exception": false,
     "start_time": "2023-05-14T03:52:22.655375",
     "status": "completed"
    },
    "tags": []
   },
   "outputs": [
    {
     "data": {
      "text/html": [
       "<div>\n",
       "<style scoped>\n",
       "    .dataframe tbody tr th:only-of-type {\n",
       "        vertical-align: middle;\n",
       "    }\n",
       "\n",
       "    .dataframe tbody tr th {\n",
       "        vertical-align: top;\n",
       "    }\n",
       "\n",
       "    .dataframe thead th {\n",
       "        text-align: right;\n",
       "    }\n",
       "</style>\n",
       "<table border=\"1\" class=\"dataframe\">\n",
       "  <thead>\n",
       "    <tr style=\"text-align: right;\">\n",
       "      <th></th>\n",
       "      <th>visit_id</th>\n",
       "      <th>O00391</th>\n",
       "      <th>O00533</th>\n",
       "      <th>O00584</th>\n",
       "      <th>O14498</th>\n",
       "      <th>O14773</th>\n",
       "      <th>O14791</th>\n",
       "      <th>O15240</th>\n",
       "      <th>O15394</th>\n",
       "      <th>O43505</th>\n",
       "      <th>...</th>\n",
       "      <th>YSLTYIYTGLSK</th>\n",
       "      <th>YTTEIIK</th>\n",
       "      <th>YVGGQEHFAHLLILR</th>\n",
       "      <th>YVM(UniMod_35)LPVADQDQC(UniMod_4)IR</th>\n",
       "      <th>YVMLPVADQDQC(UniMod_4)IR</th>\n",
       "      <th>YVNKEIQNAVNGVK</th>\n",
       "      <th>YWGVASFLQK</th>\n",
       "      <th>YYC(UniMod_4)FQGNQFLR</th>\n",
       "      <th>YYTYLIMNK</th>\n",
       "      <th>YYWGGQYTWDMAK</th>\n",
       "    </tr>\n",
       "  </thead>\n",
       "  <tbody>\n",
       "    <tr>\n",
       "      <th>0</th>\n",
       "      <td>10053_0</td>\n",
       "      <td>9104.27</td>\n",
       "      <td>402321.0</td>\n",
       "      <td>NaN</td>\n",
       "      <td>NaN</td>\n",
       "      <td>7150.57</td>\n",
       "      <td>2497.84</td>\n",
       "      <td>83002.9</td>\n",
       "      <td>15113.6</td>\n",
       "      <td>167327.0</td>\n",
       "      <td>...</td>\n",
       "      <td>202274.0</td>\n",
       "      <td>NaN</td>\n",
       "      <td>4401830.0</td>\n",
       "      <td>77482.6</td>\n",
       "      <td>583075.0</td>\n",
       "      <td>76705.7</td>\n",
       "      <td>104260.0</td>\n",
       "      <td>530223.0</td>\n",
       "      <td>NaN</td>\n",
       "      <td>7207.30</td>\n",
       "    </tr>\n",
       "    <tr>\n",
       "      <th>1</th>\n",
       "      <td>10053_12</td>\n",
       "      <td>10464.20</td>\n",
       "      <td>435586.0</td>\n",
       "      <td>NaN</td>\n",
       "      <td>NaN</td>\n",
       "      <td>NaN</td>\n",
       "      <td>NaN</td>\n",
       "      <td>197117.0</td>\n",
       "      <td>15099.1</td>\n",
       "      <td>164268.0</td>\n",
       "      <td>...</td>\n",
       "      <td>201009.0</td>\n",
       "      <td>NaN</td>\n",
       "      <td>5001750.0</td>\n",
       "      <td>36745.3</td>\n",
       "      <td>355643.0</td>\n",
       "      <td>92078.1</td>\n",
       "      <td>123254.0</td>\n",
       "      <td>453883.0</td>\n",
       "      <td>49281.9</td>\n",
       "      <td>25332.80</td>\n",
       "    </tr>\n",
       "    <tr>\n",
       "      <th>2</th>\n",
       "      <td>10053_18</td>\n",
       "      <td>13235.70</td>\n",
       "      <td>507386.0</td>\n",
       "      <td>7126.96</td>\n",
       "      <td>24525.7</td>\n",
       "      <td>NaN</td>\n",
       "      <td>2372.71</td>\n",
       "      <td>126506.0</td>\n",
       "      <td>16289.6</td>\n",
       "      <td>168107.0</td>\n",
       "      <td>...</td>\n",
       "      <td>220728.0</td>\n",
       "      <td>NaN</td>\n",
       "      <td>5424380.0</td>\n",
       "      <td>39016.0</td>\n",
       "      <td>496021.0</td>\n",
       "      <td>63203.6</td>\n",
       "      <td>128336.0</td>\n",
       "      <td>447505.0</td>\n",
       "      <td>52389.1</td>\n",
       "      <td>21235.70</td>\n",
       "    </tr>\n",
       "    <tr>\n",
       "      <th>3</th>\n",
       "      <td>10138_12</td>\n",
       "      <td>12600.20</td>\n",
       "      <td>494581.0</td>\n",
       "      <td>9165.06</td>\n",
       "      <td>27193.5</td>\n",
       "      <td>22506.10</td>\n",
       "      <td>6015.90</td>\n",
       "      <td>156313.0</td>\n",
       "      <td>54546.4</td>\n",
       "      <td>204013.0</td>\n",
       "      <td>...</td>\n",
       "      <td>188362.0</td>\n",
       "      <td>9433.71</td>\n",
       "      <td>3900280.0</td>\n",
       "      <td>48210.3</td>\n",
       "      <td>328482.0</td>\n",
       "      <td>89822.1</td>\n",
       "      <td>129964.0</td>\n",
       "      <td>552232.0</td>\n",
       "      <td>65657.8</td>\n",
       "      <td>9876.98</td>\n",
       "    </tr>\n",
       "    <tr>\n",
       "      <th>4</th>\n",
       "      <td>10138_24</td>\n",
       "      <td>12003.20</td>\n",
       "      <td>522138.0</td>\n",
       "      <td>4498.51</td>\n",
       "      <td>17189.8</td>\n",
       "      <td>29112.40</td>\n",
       "      <td>2665.15</td>\n",
       "      <td>151169.0</td>\n",
       "      <td>52338.1</td>\n",
       "      <td>240892.0</td>\n",
       "      <td>...</td>\n",
       "      <td>206187.0</td>\n",
       "      <td>6365.15</td>\n",
       "      <td>3521800.0</td>\n",
       "      <td>69984.6</td>\n",
       "      <td>496737.0</td>\n",
       "      <td>80919.3</td>\n",
       "      <td>111799.0</td>\n",
       "      <td>NaN</td>\n",
       "      <td>56977.6</td>\n",
       "      <td>4903.09</td>\n",
       "    </tr>\n",
       "  </tbody>\n",
       "</table>\n",
       "<p>5 rows × 1196 columns</p>\n",
       "</div>"
      ],
      "text/plain": [
       "   visit_id    O00391    O00533   O00584   O14498    O14773   O14791  \\\n",
       "0   10053_0   9104.27  402321.0      NaN      NaN   7150.57  2497.84   \n",
       "1  10053_12  10464.20  435586.0      NaN      NaN       NaN      NaN   \n",
       "2  10053_18  13235.70  507386.0  7126.96  24525.7       NaN  2372.71   \n",
       "3  10138_12  12600.20  494581.0  9165.06  27193.5  22506.10  6015.90   \n",
       "4  10138_24  12003.20  522138.0  4498.51  17189.8  29112.40  2665.15   \n",
       "\n",
       "     O15240   O15394    O43505  ...  YSLTYIYTGLSK  YTTEIIK  YVGGQEHFAHLLILR  \\\n",
       "0   83002.9  15113.6  167327.0  ...      202274.0      NaN        4401830.0   \n",
       "1  197117.0  15099.1  164268.0  ...      201009.0      NaN        5001750.0   \n",
       "2  126506.0  16289.6  168107.0  ...      220728.0      NaN        5424380.0   \n",
       "3  156313.0  54546.4  204013.0  ...      188362.0  9433.71        3900280.0   \n",
       "4  151169.0  52338.1  240892.0  ...      206187.0  6365.15        3521800.0   \n",
       "\n",
       "   YVM(UniMod_35)LPVADQDQC(UniMod_4)IR  YVMLPVADQDQC(UniMod_4)IR  \\\n",
       "0                              77482.6                  583075.0   \n",
       "1                              36745.3                  355643.0   \n",
       "2                              39016.0                  496021.0   \n",
       "3                              48210.3                  328482.0   \n",
       "4                              69984.6                  496737.0   \n",
       "\n",
       "   YVNKEIQNAVNGVK  YWGVASFLQK  YYC(UniMod_4)FQGNQFLR  YYTYLIMNK  YYWGGQYTWDMAK  \n",
       "0         76705.7    104260.0               530223.0        NaN        7207.30  \n",
       "1         92078.1    123254.0               453883.0    49281.9       25332.80  \n",
       "2         63203.6    128336.0               447505.0    52389.1       21235.70  \n",
       "3         89822.1    129964.0               552232.0    65657.8        9876.98  \n",
       "4         80919.3    111799.0                    NaN    56977.6        4903.09  \n",
       "\n",
       "[5 rows x 1196 columns]"
      ]
     },
     "execution_count": 27,
     "metadata": {},
     "output_type": "execute_result"
    }
   ],
   "source": [
    "# Display the first 5 examples\n",
    "pro_pep_df.head(5)"
   ]
  },
  {
   "cell_type": "code",
   "execution_count": 28,
   "id": "70cf68de",
   "metadata": {
    "execution": {
     "iopub.execute_input": "2023-05-14T03:52:22.785749Z",
     "iopub.status.busy": "2023-05-14T03:52:22.785325Z",
     "iopub.status.idle": "2023-05-14T03:52:25.793585Z",
     "shell.execute_reply": "2023-05-14T03:52:25.792419Z"
    },
    "papermill": {
     "duration": 3.041997,
     "end_time": "2023-05-14T03:52:25.796568",
     "exception": false,
     "start_time": "2023-05-14T03:52:22.754571",
     "status": "completed"
    },
    "tags": []
   },
   "outputs": [
    {
     "data": {
      "text/html": [
       "<div>\n",
       "<style scoped>\n",
       "    .dataframe tbody tr th:only-of-type {\n",
       "        vertical-align: middle;\n",
       "    }\n",
       "\n",
       "    .dataframe tbody tr th {\n",
       "        vertical-align: top;\n",
       "    }\n",
       "\n",
       "    .dataframe thead th {\n",
       "        text-align: right;\n",
       "    }\n",
       "</style>\n",
       "<table border=\"1\" class=\"dataframe\">\n",
       "  <thead>\n",
       "    <tr style=\"text-align: right;\">\n",
       "      <th></th>\n",
       "      <th>O00391</th>\n",
       "      <th>O00533</th>\n",
       "      <th>O00584</th>\n",
       "      <th>O14498</th>\n",
       "      <th>O14773</th>\n",
       "      <th>O14791</th>\n",
       "      <th>O15240</th>\n",
       "      <th>O15394</th>\n",
       "      <th>O43505</th>\n",
       "      <th>O60888</th>\n",
       "      <th>...</th>\n",
       "      <th>YSLTYIYTGLSK</th>\n",
       "      <th>YTTEIIK</th>\n",
       "      <th>YVGGQEHFAHLLILR</th>\n",
       "      <th>YVM(UniMod_35)LPVADQDQC(UniMod_4)IR</th>\n",
       "      <th>YVMLPVADQDQC(UniMod_4)IR</th>\n",
       "      <th>YVNKEIQNAVNGVK</th>\n",
       "      <th>YWGVASFLQK</th>\n",
       "      <th>YYC(UniMod_4)FQGNQFLR</th>\n",
       "      <th>YYTYLIMNK</th>\n",
       "      <th>YYWGGQYTWDMAK</th>\n",
       "    </tr>\n",
       "  </thead>\n",
       "  <tbody>\n",
       "    <tr>\n",
       "      <th>count</th>\n",
       "      <td>764.000000</td>\n",
       "      <td>1.112000e+03</td>\n",
       "      <td>1100.000000</td>\n",
       "      <td>1032.000000</td>\n",
       "      <td>1047.000000</td>\n",
       "      <td>942.000000</td>\n",
       "      <td>1113.000000</td>\n",
       "      <td>1050.000000</td>\n",
       "      <td>1110.000000</td>\n",
       "      <td>1079.000000</td>\n",
       "      <td>...</td>\n",
       "      <td>1100.000000</td>\n",
       "      <td>994.000000</td>\n",
       "      <td>1.022000e+03</td>\n",
       "      <td>977.000000</td>\n",
       "      <td>1.091000e+03</td>\n",
       "      <td>1111.000000</td>\n",
       "      <td>1089.000000</td>\n",
       "      <td>1105.000000</td>\n",
       "      <td>1030.000000</td>\n",
       "      <td>865.00000</td>\n",
       "    </tr>\n",
       "    <tr>\n",
       "      <th>mean</th>\n",
       "      <td>11641.264435</td>\n",
       "      <td>5.111649e+05</td>\n",
       "      <td>26505.529157</td>\n",
       "      <td>27305.934884</td>\n",
       "      <td>17688.295406</td>\n",
       "      <td>3004.990691</td>\n",
       "      <td>126151.780054</td>\n",
       "      <td>50773.474638</td>\n",
       "      <td>195599.363694</td>\n",
       "      <td>145382.047368</td>\n",
       "      <td>...</td>\n",
       "      <td>215246.833636</td>\n",
       "      <td>9015.134433</td>\n",
       "      <td>3.937256e+06</td>\n",
       "      <td>67866.452927</td>\n",
       "      <td>6.110779e+05</td>\n",
       "      <td>92581.223041</td>\n",
       "      <td>125937.993436</td>\n",
       "      <td>471554.596652</td>\n",
       "      <td>47068.709311</td>\n",
       "      <td>21072.04823</td>\n",
       "    </tr>\n",
       "    <tr>\n",
       "      <th>std</th>\n",
       "      <td>2817.003530</td>\n",
       "      <td>2.357357e+05</td>\n",
       "      <td>10705.152540</td>\n",
       "      <td>8446.187506</td>\n",
       "      <td>7166.325369</td>\n",
       "      <td>1142.159575</td>\n",
       "      <td>72748.393517</td>\n",
       "      <td>21382.028764</td>\n",
       "      <td>79739.704279</td>\n",
       "      <td>58028.089713</td>\n",
       "      <td>...</td>\n",
       "      <td>50727.227704</td>\n",
       "      <td>3127.061637</td>\n",
       "      <td>1.677710e+06</td>\n",
       "      <td>61176.002825</td>\n",
       "      <td>5.047422e+05</td>\n",
       "      <td>30138.957433</td>\n",
       "      <td>38696.448657</td>\n",
       "      <td>131150.715245</td>\n",
       "      <td>13689.667117</td>\n",
       "      <td>10360.59380</td>\n",
       "    </tr>\n",
       "    <tr>\n",
       "      <th>min</th>\n",
       "      <td>873.778000</td>\n",
       "      <td>5.971820e+04</td>\n",
       "      <td>591.103000</td>\n",
       "      <td>8945.340000</td>\n",
       "      <td>2811.120000</td>\n",
       "      <td>336.517000</td>\n",
       "      <td>10717.400000</td>\n",
       "      <td>5806.840000</td>\n",
       "      <td>29740.900000</td>\n",
       "      <td>8358.080000</td>\n",
       "      <td>...</td>\n",
       "      <td>12164.300000</td>\n",
       "      <td>258.249000</td>\n",
       "      <td>1.624640e+05</td>\n",
       "      <td>884.260000</td>\n",
       "      <td>7.494660e+03</td>\n",
       "      <td>869.898000</td>\n",
       "      <td>991.452000</td>\n",
       "      <td>11371.200000</td>\n",
       "      <td>6362.490000</td>\n",
       "      <td>868.90300</td>\n",
       "    </tr>\n",
       "    <tr>\n",
       "      <th>25%</th>\n",
       "      <td>9736.857500</td>\n",
       "      <td>3.490590e+05</td>\n",
       "      <td>19941.075000</td>\n",
       "      <td>21123.650000</td>\n",
       "      <td>12920.050000</td>\n",
       "      <td>2189.087500</td>\n",
       "      <td>70560.600000</td>\n",
       "      <td>37008.975000</td>\n",
       "      <td>142054.500000</td>\n",
       "      <td>103983.000000</td>\n",
       "      <td>...</td>\n",
       "      <td>186658.250000</td>\n",
       "      <td>6899.805000</td>\n",
       "      <td>2.895622e+06</td>\n",
       "      <td>30997.900000</td>\n",
       "      <td>2.929505e+05</td>\n",
       "      <td>70508.150000</td>\n",
       "      <td>100691.000000</td>\n",
       "      <td>384902.000000</td>\n",
       "      <td>37752.375000</td>\n",
       "      <td>14249.90000</td>\n",
       "    </tr>\n",
       "    <tr>\n",
       "      <th>50%</th>\n",
       "      <td>11546.400000</td>\n",
       "      <td>4.834425e+05</td>\n",
       "      <td>26529.700000</td>\n",
       "      <td>26624.000000</td>\n",
       "      <td>17399.600000</td>\n",
       "      <td>2865.460000</td>\n",
       "      <td>116900.000000</td>\n",
       "      <td>50375.800000</td>\n",
       "      <td>185616.000000</td>\n",
       "      <td>136452.000000</td>\n",
       "      <td>...</td>\n",
       "      <td>217430.500000</td>\n",
       "      <td>8604.345000</td>\n",
       "      <td>3.671010e+06</td>\n",
       "      <td>52576.900000</td>\n",
       "      <td>4.702450e+05</td>\n",
       "      <td>88918.600000</td>\n",
       "      <td>123588.000000</td>\n",
       "      <td>463382.000000</td>\n",
       "      <td>45503.150000</td>\n",
       "      <td>20390.90000</td>\n",
       "    </tr>\n",
       "    <tr>\n",
       "      <th>75%</th>\n",
       "      <td>13383.025000</td>\n",
       "      <td>6.485572e+05</td>\n",
       "      <td>33222.800000</td>\n",
       "      <td>32459.275000</td>\n",
       "      <td>22077.050000</td>\n",
       "      <td>3593.147500</td>\n",
       "      <td>164947.000000</td>\n",
       "      <td>63446.700000</td>\n",
       "      <td>239731.500000</td>\n",
       "      <td>177451.000000</td>\n",
       "      <td>...</td>\n",
       "      <td>246423.500000</td>\n",
       "      <td>10612.775000</td>\n",
       "      <td>4.710635e+06</td>\n",
       "      <td>85369.600000</td>\n",
       "      <td>7.592380e+05</td>\n",
       "      <td>110140.000000</td>\n",
       "      <td>149597.000000</td>\n",
       "      <td>549455.000000</td>\n",
       "      <td>54748.350000</td>\n",
       "      <td>27031.90000</td>\n",
       "    </tr>\n",
       "    <tr>\n",
       "      <th>max</th>\n",
       "      <td>21361.800000</td>\n",
       "      <td>1.806980e+06</td>\n",
       "      <td>66252.400000</td>\n",
       "      <td>65347.900000</td>\n",
       "      <td>49695.600000</td>\n",
       "      <td>9352.640000</td>\n",
       "      <td>538862.000000</td>\n",
       "      <td>137369.000000</td>\n",
       "      <td>766591.000000</td>\n",
       "      <td>427084.000000</td>\n",
       "      <td>...</td>\n",
       "      <td>409939.000000</td>\n",
       "      <td>27670.500000</td>\n",
       "      <td>1.385550e+07</td>\n",
       "      <td>712856.000000</td>\n",
       "      <td>3.984710e+06</td>\n",
       "      <td>251526.000000</td>\n",
       "      <td>264224.000000</td>\n",
       "      <td>948416.000000</td>\n",
       "      <td>107220.000000</td>\n",
       "      <td>70020.80000</td>\n",
       "    </tr>\n",
       "  </tbody>\n",
       "</table>\n",
       "<p>8 rows × 1195 columns</p>\n",
       "</div>"
      ],
      "text/plain": [
       "             O00391        O00533        O00584        O14498        O14773  \\\n",
       "count    764.000000  1.112000e+03   1100.000000   1032.000000   1047.000000   \n",
       "mean   11641.264435  5.111649e+05  26505.529157  27305.934884  17688.295406   \n",
       "std     2817.003530  2.357357e+05  10705.152540   8446.187506   7166.325369   \n",
       "min      873.778000  5.971820e+04    591.103000   8945.340000   2811.120000   \n",
       "25%     9736.857500  3.490590e+05  19941.075000  21123.650000  12920.050000   \n",
       "50%    11546.400000  4.834425e+05  26529.700000  26624.000000  17399.600000   \n",
       "75%    13383.025000  6.485572e+05  33222.800000  32459.275000  22077.050000   \n",
       "max    21361.800000  1.806980e+06  66252.400000  65347.900000  49695.600000   \n",
       "\n",
       "            O14791         O15240         O15394         O43505  \\\n",
       "count   942.000000    1113.000000    1050.000000    1110.000000   \n",
       "mean   3004.990691  126151.780054   50773.474638  195599.363694   \n",
       "std    1142.159575   72748.393517   21382.028764   79739.704279   \n",
       "min     336.517000   10717.400000    5806.840000   29740.900000   \n",
       "25%    2189.087500   70560.600000   37008.975000  142054.500000   \n",
       "50%    2865.460000  116900.000000   50375.800000  185616.000000   \n",
       "75%    3593.147500  164947.000000   63446.700000  239731.500000   \n",
       "max    9352.640000  538862.000000  137369.000000  766591.000000   \n",
       "\n",
       "              O60888  ...   YSLTYIYTGLSK       YTTEIIK  YVGGQEHFAHLLILR  \\\n",
       "count    1079.000000  ...    1100.000000    994.000000     1.022000e+03   \n",
       "mean   145382.047368  ...  215246.833636   9015.134433     3.937256e+06   \n",
       "std     58028.089713  ...   50727.227704   3127.061637     1.677710e+06   \n",
       "min      8358.080000  ...   12164.300000    258.249000     1.624640e+05   \n",
       "25%    103983.000000  ...  186658.250000   6899.805000     2.895622e+06   \n",
       "50%    136452.000000  ...  217430.500000   8604.345000     3.671010e+06   \n",
       "75%    177451.000000  ...  246423.500000  10612.775000     4.710635e+06   \n",
       "max    427084.000000  ...  409939.000000  27670.500000     1.385550e+07   \n",
       "\n",
       "       YVM(UniMod_35)LPVADQDQC(UniMod_4)IR  YVMLPVADQDQC(UniMod_4)IR  \\\n",
       "count                           977.000000              1.091000e+03   \n",
       "mean                          67866.452927              6.110779e+05   \n",
       "std                           61176.002825              5.047422e+05   \n",
       "min                             884.260000              7.494660e+03   \n",
       "25%                           30997.900000              2.929505e+05   \n",
       "50%                           52576.900000              4.702450e+05   \n",
       "75%                           85369.600000              7.592380e+05   \n",
       "max                          712856.000000              3.984710e+06   \n",
       "\n",
       "       YVNKEIQNAVNGVK     YWGVASFLQK  YYC(UniMod_4)FQGNQFLR      YYTYLIMNK  \\\n",
       "count     1111.000000    1089.000000            1105.000000    1030.000000   \n",
       "mean     92581.223041  125937.993436          471554.596652   47068.709311   \n",
       "std      30138.957433   38696.448657          131150.715245   13689.667117   \n",
       "min        869.898000     991.452000           11371.200000    6362.490000   \n",
       "25%      70508.150000  100691.000000          384902.000000   37752.375000   \n",
       "50%      88918.600000  123588.000000          463382.000000   45503.150000   \n",
       "75%     110140.000000  149597.000000          549455.000000   54748.350000   \n",
       "max     251526.000000  264224.000000          948416.000000  107220.000000   \n",
       "\n",
       "       YYWGGQYTWDMAK  \n",
       "count      865.00000  \n",
       "mean     21072.04823  \n",
       "std      10360.59380  \n",
       "min        868.90300  \n",
       "25%      14249.90000  \n",
       "50%      20390.90000  \n",
       "75%      27031.90000  \n",
       "max      70020.80000  \n",
       "\n",
       "[8 rows x 1195 columns]"
      ]
     },
     "execution_count": 28,
     "metadata": {},
     "output_type": "execute_result"
    }
   ],
   "source": [
    "pro_pep_df.describe()"
   ]
  },
  {
   "cell_type": "markdown",
   "id": "956e828e",
   "metadata": {
    "papermill": {
     "duration": 0.030124,
     "end_time": "2023-05-14T03:52:25.860807",
     "exception": false,
     "start_time": "2023-05-14T03:52:25.830683",
     "status": "completed"
    },
    "tags": []
   },
   "source": [
    "Now let us write a function to split the dataset into train and test datasets. This will be used in the training loop."
   ]
  },
  {
   "cell_type": "code",
   "execution_count": 29,
   "id": "07c684c8",
   "metadata": {
    "execution": {
     "iopub.execute_input": "2023-05-14T03:52:25.924169Z",
     "iopub.status.busy": "2023-05-14T03:52:25.923677Z",
     "iopub.status.idle": "2023-05-14T03:52:25.929080Z",
     "shell.execute_reply": "2023-05-14T03:52:25.928177Z"
    },
    "papermill": {
     "duration": 0.039102,
     "end_time": "2023-05-14T03:52:25.931264",
     "exception": false,
     "start_time": "2023-05-14T03:52:25.892162",
     "status": "completed"
    },
    "tags": []
   },
   "outputs": [],
   "source": [
    "def split_dataset(dataset, test_ratio=0.20):\n",
    "  test_indices = np.random.rand(len(dataset)) < test_ratio\n",
    "  return dataset[~test_indices], dataset[test_indices]"
   ]
  },
  {
   "cell_type": "markdown",
   "id": "8d0444d8",
   "metadata": {
    "papermill": {
     "duration": 0.029392,
     "end_time": "2023-05-14T03:52:25.991069",
     "exception": false,
     "start_time": "2023-05-14T03:52:25.961677",
     "status": "completed"
    },
    "tags": []
   },
   "source": [
    "# Select a Model\n",
    "There are several tree-based models for you to choose from.\n",
    "\n",
    "- RandomForestModel\n",
    "- GradientBoostedTreesModel\n",
    "- CartModel\n",
    "- DistributedGradientBoostedTreesModel\n",
    "\n",
    "We can list all the available models in TensorFlow Decision Forests using the following code:"
   ]
  },
  {
   "cell_type": "code",
   "execution_count": 30,
   "id": "5360c364",
   "metadata": {
    "execution": {
     "iopub.execute_input": "2023-05-14T03:52:26.056293Z",
     "iopub.status.busy": "2023-05-14T03:52:26.055551Z",
     "iopub.status.idle": "2023-05-14T03:52:26.062042Z",
     "shell.execute_reply": "2023-05-14T03:52:26.060823Z"
    },
    "papermill": {
     "duration": 0.040459,
     "end_time": "2023-05-14T03:52:26.064502",
     "exception": false,
     "start_time": "2023-05-14T03:52:26.024043",
     "status": "completed"
    },
    "tags": []
   },
   "outputs": [
    {
     "data": {
      "text/plain": [
       "[tensorflow_decision_forests.keras.RandomForestModel,\n",
       " tensorflow_decision_forests.keras.GradientBoostedTreesModel,\n",
       " tensorflow_decision_forests.keras.CartModel,\n",
       " tensorflow_decision_forests.keras.DistributedGradientBoostedTreesModel]"
      ]
     },
     "execution_count": 30,
     "metadata": {},
     "output_type": "execute_result"
    }
   ],
   "source": [
    "tfdf.keras.get_all_models()"
   ]
  },
  {
   "cell_type": "markdown",
   "id": "51ba2753",
   "metadata": {
    "papermill": {
     "duration": 0.029565,
     "end_time": "2023-05-14T03:52:26.124011",
     "exception": false,
     "start_time": "2023-05-14T03:52:26.094446",
     "status": "completed"
    },
    "tags": []
   },
   "source": [
    "To get started, we'll work with a Random Forest. This is the most well-known of the Decision Forest training algorithms.\n",
    "\n",
    "A Random Forest is a collection of decision trees, each trained independently on a random subset of the training dataset (sampled with replacement). The algorithm is unique in that it is robust to overfitting, and easy to use."
   ]
  },
  {
   "cell_type": "markdown",
   "id": "ae400ce8",
   "metadata": {
    "papermill": {
     "duration": 0.030305,
     "end_time": "2023-05-14T03:52:26.184886",
     "exception": false,
     "start_time": "2023-05-14T03:52:26.154581",
     "status": "completed"
    },
    "tags": []
   },
   "source": [
    "# How can I configure a tree-based model?\n",
    "\n",
    "TensorFlow Decision Forests provides good defaults for you (e.g., the top ranking hyperparameters on our benchmarks, slightly modified to run in reasonable time). If you would like to configure the learning algorithm, you will find many options you can explore to get the highest possible accuracy.\n",
    "\n",
    "You can select a template and/or set parameters as follows:\n",
    "\n",
    "```rf = tfdf.keras.RandomForestModel(hyperparameter_template=\"benchmark_rank1\", task=tfdf.keras.Task.REGRESSION)```\n",
    "\n",
    "Read more [here](https://www.tensorflow.org/decision_forests/api_docs/python/tfdf/keras/RandomForestModel)."
   ]
  },
  {
   "cell_type": "markdown",
   "id": "3cd37329",
   "metadata": {
    "papermill": {
     "duration": 0.030004,
     "end_time": "2023-05-14T03:52:26.245730",
     "exception": false,
     "start_time": "2023-05-14T03:52:26.215726",
     "status": "completed"
    },
    "tags": []
   },
   "source": [
    "Before training the model, let us write a function to calculate the scoring metric of the competition."
   ]
  },
  {
   "cell_type": "markdown",
   "id": "a7e49587",
   "metadata": {
    "papermill": {
     "duration": 0.030581,
     "end_time": "2023-05-14T03:52:26.307034",
     "exception": false,
     "start_time": "2023-05-14T03:52:26.276453",
     "status": "completed"
    },
    "tags": []
   },
   "source": [
    "# sMAPE\n",
    "\n",
    "The scoring metric for this competition is sMAPE(symmetric Mean Absolute Percentage Error). In MAPE(Mean Absolute Percentage Error) we calculate the sum of absolute value of the forecast errors, divided by the actual values for each period([source](https://en.wikipedia.org/wiki/Mean_absolute_percentage_error)). \n",
    "\n",
    "Difference between MAPE and sMAPE is that sMAPE has both a lower bound and an upper bound. \n",
    "\n",
    "\n",
    "You can read more about sMAPE [here](https://en.wikipedia.org/wiki/Symmetric_mean_absolute_percentage_error).\n",
    "\n",
    "Since TensorFlow Datasets doesn't have a bultin function to calculate sMAPE metric yet, we will write a custom function to calculate sMAPE."
   ]
  },
  {
   "cell_type": "code",
   "execution_count": 31,
   "id": "7bf29363",
   "metadata": {
    "execution": {
     "iopub.execute_input": "2023-05-14T03:52:26.369712Z",
     "iopub.status.busy": "2023-05-14T03:52:26.369276Z",
     "iopub.status.idle": "2023-05-14T03:52:26.375339Z",
     "shell.execute_reply": "2023-05-14T03:52:26.373896Z"
    },
    "papermill": {
     "duration": 0.040791,
     "end_time": "2023-05-14T03:52:26.377718",
     "exception": false,
     "start_time": "2023-05-14T03:52:26.336927",
     "status": "completed"
    },
    "tags": []
   },
   "outputs": [],
   "source": [
    "def smape(A, F):\n",
    "    return 100/len(A) * np.sum(2 * np.abs(F - A) / (np.abs(A) + np.abs(F)))"
   ]
  },
  {
   "cell_type": "markdown",
   "id": "325ca0e8",
   "metadata": {
    "papermill": {
     "duration": 0.029481,
     "end_time": "2023-05-14T03:52:26.437167",
     "exception": false,
     "start_time": "2023-05-14T03:52:26.407686",
     "status": "completed"
    },
    "tags": []
   },
   "source": [
    "# Training\n",
    "\n",
    "We will train a model each to predict the first 4 segments of the UPDRS, `updrs_1`, `updrs_2`, `updrs_3` and `updrs_4`. Thus we we will be training 4 models, one for each label.\n",
    "\n",
    "We need to provide a few data structures to our training loop to store the trained models, sMAPE scores and mse scores for the trained models.\n",
    "\n",
    "We will create these using the following code:"
   ]
  },
  {
   "cell_type": "code",
   "execution_count": 32,
   "id": "a2c6dfc0",
   "metadata": {
    "execution": {
     "iopub.execute_input": "2023-05-14T03:52:26.499178Z",
     "iopub.status.busy": "2023-05-14T03:52:26.498369Z",
     "iopub.status.idle": "2023-05-14T03:52:26.503152Z",
     "shell.execute_reply": "2023-05-14T03:52:26.502258Z"
    },
    "papermill": {
     "duration": 0.038418,
     "end_time": "2023-05-14T03:52:26.505496",
     "exception": false,
     "start_time": "2023-05-14T03:52:26.467078",
     "status": "completed"
    },
    "tags": []
   },
   "outputs": [],
   "source": [
    "# Create an empty dictionary to store the models trained for each label.\n",
    "model_dict = {}\n",
    "\n",
    "# Create an empty dictionary to store the mse score of the models trained for each label.\n",
    "mse_dict = {}\n",
    "\n",
    "# Create an empty dictionary to store the sMAPE scores of the models trained for each label.\n",
    "smape_dict = {}"
   ]
  },
  {
   "cell_type": "markdown",
   "id": "b3efb6b8",
   "metadata": {
    "papermill": {
     "duration": 0.029337,
     "end_time": "2023-05-14T03:52:26.565031",
     "exception": false,
     "start_time": "2023-05-14T03:52:26.535694",
     "status": "completed"
    },
    "tags": []
   },
   "source": [
    "Next, we will create a feature list with names of the columns we will use for training the model. We will avoid the column `visit_id` and add column the `visit_month`"
   ]
  },
  {
   "cell_type": "code",
   "execution_count": 33,
   "id": "31ddf000",
   "metadata": {
    "execution": {
     "iopub.execute_input": "2023-05-14T03:52:26.626812Z",
     "iopub.status.busy": "2023-05-14T03:52:26.626096Z",
     "iopub.status.idle": "2023-05-14T03:52:26.631023Z",
     "shell.execute_reply": "2023-05-14T03:52:26.630230Z"
    },
    "papermill": {
     "duration": 0.038741,
     "end_time": "2023-05-14T03:52:26.633389",
     "exception": false,
     "start_time": "2023-05-14T03:52:26.594648",
     "status": "completed"
    },
    "tags": []
   },
   "outputs": [],
   "source": [
    "FEATURES = [i for i in pro_pep_df.columns if i not in [\"visit_id\"]]\n",
    "FEATURES.append(\"visit_month\")"
   ]
  },
  {
   "cell_type": "code",
   "execution_count": 34,
   "id": "b1407923",
   "metadata": {
    "execution": {
     "iopub.execute_input": "2023-05-14T03:52:26.695610Z",
     "iopub.status.busy": "2023-05-14T03:52:26.694685Z",
     "iopub.status.idle": "2023-05-14T03:52:26.698878Z",
     "shell.execute_reply": "2023-05-14T03:52:26.698135Z"
    },
    "papermill": {
     "duration": 0.037524,
     "end_time": "2023-05-14T03:52:26.701249",
     "exception": false,
     "start_time": "2023-05-14T03:52:26.663725",
     "status": "completed"
    },
    "tags": []
   },
   "outputs": [],
   "source": [
    "# FEATURES"
   ]
  },
  {
   "cell_type": "markdown",
   "id": "a2936d6b",
   "metadata": {
    "papermill": {
     "duration": 0.02949,
     "end_time": "2023-05-14T03:52:26.760958",
     "exception": false,
     "start_time": "2023-05-14T03:52:26.731468",
     "status": "completed"
    },
    "tags": []
   },
   "source": [
    "Now let us train the models."
   ]
  },
  {
   "cell_type": "code",
   "execution_count": 35,
   "id": "fd9c84fd",
   "metadata": {
    "execution": {
     "iopub.execute_input": "2023-05-14T03:52:26.824317Z",
     "iopub.status.busy": "2023-05-14T03:52:26.823895Z",
     "iopub.status.idle": "2023-05-14T03:58:01.327562Z",
     "shell.execute_reply": "2023-05-14T03:58:01.326114Z"
    },
    "papermill": {
     "duration": 334.539454,
     "end_time": "2023-05-14T03:58:01.330870",
     "exception": false,
     "start_time": "2023-05-14T03:52:26.791416",
     "status": "completed"
    },
    "tags": []
   },
   "outputs": [
    {
     "name": "stdout",
     "output_type": "stream",
     "text": [
      "871 examples in training, 197 examples in testing.\n"
     ]
    },
    {
     "name": "stderr",
     "output_type": "stream",
     "text": [
      "[INFO 2023-05-14T03:53:26.178406083+00:00 kernel.cc:1214] Loading model from path /tmp/tmp8ym61xlw/model/ with prefix e3c4b746fffa4caa\n",
      "[INFO 2023-05-14T03:53:26.527023113+00:00 decision_forest.cc:661] Model loaded with 300 root(s), 71956 node(s), and 1196 input feature(s).\n",
      "[INFO 2023-05-14T03:53:26.527315848+00:00 abstract_model.cc:1311] Engine \"RandomForestOptPred\" built\n",
      "[INFO 2023-05-14T03:53:26.528112734+00:00 kernel.cc:1046] Use fast generic engine\n"
     ]
    },
    {
     "name": "stdout",
     "output_type": "stream",
     "text": [
      "WARNING: AutoGraph could not transform <function simple_ml_inference_op_with_handle at 0x7aa9d38c8550> and will run it as-is.\n",
      "Please report this to the TensorFlow team. When filing the bug, set the verbosity to 10 (on Linux, `export AUTOGRAPH_VERBOSITY=10`) and attach the full output.\n",
      "Cause: could not get source code\n",
      "To silence this warning, decorate the function with @tf.autograph.experimental.do_not_convert\n",
      "1/1 [==============================] - 5s 5s/step - loss: 0.0000e+00 - mse: 20.0926\n",
      "1/1 [==============================] - 3s 3s/step\n",
      "865 examples in training, 203 examples in testing.\n"
     ]
    },
    {
     "name": "stderr",
     "output_type": "stream",
     "text": [
      "[INFO 2023-05-14T03:55:18.101435377+00:00 kernel.cc:1214] Loading model from path /tmp/tmp8qhzdeu7/model/ with prefix f815da987a5b4b00\n",
      "[INFO 2023-05-14T03:55:18.400281118+00:00 decision_forest.cc:661] Model loaded with 300 root(s), 67660 node(s), and 1196 input feature(s).\n",
      "[INFO 2023-05-14T03:55:18.400568371+00:00 abstract_model.cc:1311] Engine \"RandomForestOptPred\" built\n",
      "[INFO 2023-05-14T03:55:18.401428535+00:00 kernel.cc:1046] Use fast generic engine\n"
     ]
    },
    {
     "name": "stdout",
     "output_type": "stream",
     "text": [
      "1/1 [==============================] - 5s 5s/step - loss: 0.0000e+00 - mse: 26.7219\n",
      "1/1 [==============================] - 3s 3s/step\n",
      "851 examples in training, 217 examples in testing.\n"
     ]
    },
    {
     "name": "stderr",
     "output_type": "stream",
     "text": [
      "[INFO 2023-05-14T03:56:29.689374535+00:00 kernel.cc:1214] Loading model from path /tmp/tmppj3gdhml/model/ with prefix 96f9df094bd8435b\n",
      "[INFO 2023-05-14T03:56:30.056176688+00:00 decision_forest.cc:661] Model loaded with 300 root(s), 73400 node(s), and 1196 input feature(s).\n",
      "[INFO 2023-05-14T03:56:30.056501441+00:00 abstract_model.cc:1311] Engine \"RandomForestOptPred\" built\n",
      "[INFO 2023-05-14T03:56:30.057272936+00:00 kernel.cc:1046] Use fast generic engine\n"
     ]
    },
    {
     "name": "stdout",
     "output_type": "stream",
     "text": [
      "1/1 [==============================] - 5s 5s/step - loss: 0.0000e+00 - mse: 155.0487\n",
      "1/1 [==============================] - 3s 3s/step\n",
      "869 examples in training, 199 examples in testing.\n"
     ]
    },
    {
     "name": "stderr",
     "output_type": "stream",
     "text": [
      "[INFO 2023-05-14T03:57:42.203208966+00:00 kernel.cc:1214] Loading model from path /tmp/tmpp7bj9udk/model/ with prefix 2a11da2dfc564fe2\n",
      "[INFO 2023-05-14T03:57:42.374989653+00:00 decision_forest.cc:661] Model loaded with 300 root(s), 38100 node(s), and 1196 input feature(s).\n",
      "[INFO 2023-05-14T03:57:42.375279019+00:00 abstract_model.cc:1311] Engine \"RandomForestOptPred\" built\n",
      "[INFO 2023-05-14T03:57:42.37623324+00:00 kernel.cc:1046] Use fast generic engine\n"
     ]
    },
    {
     "name": "stdout",
     "output_type": "stream",
     "text": [
      "1/1 [==============================] - 5s 5s/step - loss: 0.0000e+00 - mse: 6.1724\n",
      "1/1 [==============================] - 3s 3s/step\n"
     ]
    }
   ],
   "source": [
    "# List of target labels to loop through and train models\n",
    "target = [\"updrs_1\", \"updrs_2\", \"updrs_3\", \"updrs_4\"]\n",
    "\n",
    "# Loop through each label   \n",
    "for label in target:\n",
    "    \n",
    "    # Merge the label 'visit_id', 'patient_id', 'visit_month' and label columns from `train_clinical` \n",
    "    # data frame to `pro_prep_df` data frame on the `visit_id` column.\n",
    "    dataset_df = pro_pep_df.merge(train_clinical[['visit_id', 'patient_id', 'visit_month', label]], on = ['visit_id'], how = 'left')\n",
    "    \n",
    "    # Drop null value label rows\n",
    "    dataset_df = dataset_df.dropna(subset=[label])\n",
    "    \n",
    "    # Make a new copy of the FEATURES list we created previously. Add `label` to it.\n",
    "    feature_list = FEATURES.copy() \n",
    "    feature_list.append(label)\n",
    "    \n",
    "    # Split the dataset into train and validation datasets.\n",
    "    train_df, valid_df = split_dataset(dataset_df[feature_list])\n",
    "    print(\"{} examples in training, {} examples in testing.\".format(len(train_df), len(valid_df)))\n",
    "    \n",
    "    # There's one more step required before we can train the model. \n",
    "    # We need to convert the datatset from Pandas format (pd.DataFrame)\n",
    "    # into TensorFlow Datasets format (tf.data.Dataset).\n",
    "    # TensorFlow Datasets is a high performance data loading library \n",
    "    # which is helpful when training neural networks with accelerators like GPUs and TPUs.\n",
    "    train_ds = tfdf.keras.pd_dataframe_to_tf_dataset(train_df, label=label, task = tfdf.keras.Task.REGRESSION)\n",
    "    valid_ds = tfdf.keras.pd_dataframe_to_tf_dataset(valid_df, label=label, task = tfdf.keras.Task.REGRESSION)\n",
    "    \n",
    "    # We will now create the Random Forest Tree Model with default settings. \n",
    "    # By default the model is set to train for a classification task. Since this is a regression problem,\n",
    "    # we will specify the type of the task (tfdf.keras.Task.REGRESSION) as a parameter here.\n",
    "    rf = tfdf.keras.RandomForestModel(task = tfdf.keras.Task.REGRESSION, verbose=0)\n",
    "    rf.compile(metrics=[\"mse\"])\n",
    "    \n",
    "    # Train the model.\n",
    "    rf.fit(x=train_ds)\n",
    "    \n",
    "    # Store the model\n",
    "    model_dict[label] = rf\n",
    "\n",
    "    # Evaluate the trained model on the validation dataset and store the \n",
    "    # mse value in the `mse_dict`.\n",
    "    inspector = rf.make_inspector()\n",
    "    inspector.evaluation()\n",
    "    evaluation = rf.evaluate(x=valid_ds,return_dict=True)\n",
    "    mse_dict[label] = evaluation[\"mse\"]  \n",
    "    \n",
    "    # Use the trained model to make predictions on the validation dataset.\n",
    "    # Using these predictions, calculate and store the sMAPE value for this model.\n",
    "    preds = rf.predict(valid_ds)\n",
    "    smape_dict[label] = smape(valid_df[label].values.tolist(), preds.flatten())"
   ]
  },
  {
   "cell_type": "markdown",
   "id": "ed480d2a",
   "metadata": {
    "papermill": {
     "duration": 0.03153,
     "end_time": "2023-05-14T03:58:01.394461",
     "exception": false,
     "start_time": "2023-05-14T03:58:01.362931",
     "status": "completed"
    },
    "tags": []
   },
   "source": [
    "# Inspect the Mean Squared Error(MSE) scores of the models."
   ]
  },
  {
   "cell_type": "code",
   "execution_count": 36,
   "id": "5507e0b6",
   "metadata": {
    "execution": {
     "iopub.execute_input": "2023-05-14T03:58:01.461266Z",
     "iopub.status.busy": "2023-05-14T03:58:01.460544Z",
     "iopub.status.idle": "2023-05-14T03:58:01.467505Z",
     "shell.execute_reply": "2023-05-14T03:58:01.466321Z"
    },
    "papermill": {
     "duration": 0.04381,
     "end_time": "2023-05-14T03:58:01.469899",
     "exception": false,
     "start_time": "2023-05-14T03:58:01.426089",
     "status": "completed"
    },
    "tags": []
   },
   "outputs": [
    {
     "name": "stdout",
     "output_type": "stream",
     "text": [
      "label updrs_1: mse 20.0926\n",
      "label updrs_2: mse 26.7219\n",
      "label updrs_3: mse 155.0487\n",
      "label updrs_4: mse 6.1724\n",
      "\n",
      "Average mse 52.008898973464966\n"
     ]
    }
   ],
   "source": [
    "for name, value in mse_dict.items():\n",
    "  print(f\"label {name}: mse {value:.4f}\")\n",
    "\n",
    "print(\"\\nAverage mse\", sum(mse_dict.values())/4)"
   ]
  },
  {
   "cell_type": "markdown",
   "id": "78d2764c",
   "metadata": {
    "papermill": {
     "duration": 0.032671,
     "end_time": "2023-05-14T03:58:01.534571",
     "exception": false,
     "start_time": "2023-05-14T03:58:01.501900",
     "status": "completed"
    },
    "tags": []
   },
   "source": [
    "# Inspect the sMAPE scores of the models"
   ]
  },
  {
   "cell_type": "code",
   "execution_count": 37,
   "id": "7e08abf9",
   "metadata": {
    "execution": {
     "iopub.execute_input": "2023-05-14T03:58:01.603186Z",
     "iopub.status.busy": "2023-05-14T03:58:01.602469Z",
     "iopub.status.idle": "2023-05-14T03:58:01.609578Z",
     "shell.execute_reply": "2023-05-14T03:58:01.607985Z"
    },
    "papermill": {
     "duration": 0.044512,
     "end_time": "2023-05-14T03:58:01.612359",
     "exception": false,
     "start_time": "2023-05-14T03:58:01.567847",
     "status": "completed"
    },
    "tags": []
   },
   "outputs": [
    {
     "name": "stdout",
     "output_type": "stream",
     "text": [
      "label updrs_1: sMAPE 58.3640\n",
      "label updrs_2: sMAPE 95.1878\n",
      "label updrs_3: sMAPE 83.1771\n",
      "label updrs_4: sMAPE 129.4915\n",
      "\n",
      "Average sMAPE 91.55512077243449\n"
     ]
    }
   ],
   "source": [
    "for name, value in smape_dict.items():\n",
    "  print(f\"label {name}: sMAPE {value:.4f}\")\n",
    "\n",
    "print(\"\\nAverage sMAPE\", sum(smape_dict.values())/4)"
   ]
  },
  {
   "cell_type": "markdown",
   "id": "8102c502",
   "metadata": {
    "papermill": {
     "duration": 0.032015,
     "end_time": "2023-05-14T03:58:01.676318",
     "exception": false,
     "start_time": "2023-05-14T03:58:01.644303",
     "status": "completed"
    },
    "tags": []
   },
   "source": [
    "# Visualize the model\n",
    "\n",
    "One benefit of tree-based models is that we can easily visualize them. The default number of trees used in the Random Forests is 300. \n",
    "\n",
    "Let us pick one model from `model_dict` and select a tree to display below."
   ]
  },
  {
   "cell_type": "code",
   "execution_count": 38,
   "id": "e3185eec",
   "metadata": {
    "execution": {
     "iopub.execute_input": "2023-05-14T03:58:01.742426Z",
     "iopub.status.busy": "2023-05-14T03:58:01.741967Z",
     "iopub.status.idle": "2023-05-14T03:58:01.767321Z",
     "shell.execute_reply": "2023-05-14T03:58:01.766338Z"
    },
    "papermill": {
     "duration": 0.061057,
     "end_time": "2023-05-14T03:58:01.769659",
     "exception": false,
     "start_time": "2023-05-14T03:58:01.708602",
     "status": "completed"
    },
    "tags": []
   },
   "outputs": [
    {
     "data": {
      "text/html": [
       "\n",
       "<script src=\"https://d3js.org/d3.v6.min.js\"></script>\n",
       "<div id=\"tree_plot_5b890f92345741cbbc1e977eec366328\"></div>\n",
       "<script>\n",
       "/*\n",
       " * Copyright 2021 Google LLC.\n",
       " * Licensed under the Apache License, Version 2.0 (the \"License\");\n",
       " * you may not use this file except in compliance with the License.\n",
       " * You may obtain a copy of the License at\n",
       " *\n",
       " *     https://www.apache.org/licenses/LICENSE-2.0\n",
       " *\n",
       " * Unless required by applicable law or agreed to in writing, software\n",
       " * distributed under the License is distributed on an \"AS IS\" BASIS,\n",
       " * WITHOUT WARRANTIES OR CONDITIONS OF ANY KIND, either express or implied.\n",
       " * See the License for the specific language governing permissions and\n",
       " * limitations under the License.\n",
       " */\n",
       "\n",
       "/**\n",
       " *  Plotting of decision trees generated by TF-DF.\n",
       " *\n",
       " *  A tree is a recursive structure of node objects.\n",
       " *  A node contains one or more of the following components:\n",
       " *\n",
       " *    - A value: Representing the output of the node. If the node is not a leaf,\n",
       " *      the value is only present for analysis i.e. it is not used for\n",
       " *      predictions.\n",
       " *\n",
       " *    - A condition : For non-leaf nodes, the condition (also known as split)\n",
       " *      defines a binary test to branch to the positive or negative child.\n",
       " *\n",
       " *    - An explanation: Generally a plot showing the relation between the label\n",
       " *      and the condition to give insights about the effect of the condition.\n",
       " *\n",
       " *    - Two children : For non-leaf nodes, the children nodes. The first\n",
       " *      children (i.e. \"node.children[0]\") is the negative children (drawn in\n",
       " *      red). The second children is the positive one (drawn in green).\n",
       " *\n",
       " */\n",
       "\n",
       "/**\n",
       " * Plots a single decision tree into a DOM element.\n",
       " * @param {!options} options Dictionary of configurations.\n",
       " * @param {!tree} raw_tree Recursive tree structure.\n",
       " * @param {string} canvas_id Id of the output dom element.\n",
       " */\n",
       "function display_tree(options, raw_tree, canvas_id) {\n",
       "  console.log(options);\n",
       "\n",
       "  // Determine the node placement.\n",
       "  const tree_struct = d3.tree().nodeSize(\n",
       "      [options.node_y_offset, options.node_x_offset])(d3.hierarchy(raw_tree));\n",
       "\n",
       "  // Boundaries of the node placement.\n",
       "  let x_min = Infinity;\n",
       "  let x_max = -x_min;\n",
       "  let y_min = Infinity;\n",
       "  let y_max = -x_min;\n",
       "\n",
       "  tree_struct.each(d => {\n",
       "    if (d.x > x_max) x_max = d.x;\n",
       "    if (d.x < x_min) x_min = d.x;\n",
       "    if (d.y > y_max) y_max = d.y;\n",
       "    if (d.y < y_min) y_min = d.y;\n",
       "  });\n",
       "\n",
       "  // Size of the plot.\n",
       "  const width = y_max - y_min + options.node_x_size + options.margin * 2;\n",
       "  const height = x_max - x_min + options.node_y_size + options.margin * 2 +\n",
       "      options.node_y_offset - options.node_y_size;\n",
       "\n",
       "  const plot = d3.select(canvas_id);\n",
       "\n",
       "  // Tool tip\n",
       "  options.tooltip = plot.append('div')\n",
       "                        .attr('width', 100)\n",
       "                        .attr('height', 100)\n",
       "                        .style('padding', '4px')\n",
       "                        .style('background', '#fff')\n",
       "                        .style('box-shadow', '4px 4px 0px rgba(0,0,0,0.1)')\n",
       "                        .style('border', '1px solid black')\n",
       "                        .style('font-family', 'sans-serif')\n",
       "                        .style('font-size', options.font_size)\n",
       "                        .style('position', 'absolute')\n",
       "                        .style('z-index', '10')\n",
       "                        .attr('pointer-events', 'none')\n",
       "                        .style('display', 'none');\n",
       "\n",
       "  // Create canvas\n",
       "  const svg = plot.append('svg').attr('width', width).attr('height', height);\n",
       "  const graph =\n",
       "      svg.style('overflow', 'visible')\n",
       "          .append('g')\n",
       "          .attr('font-family', 'sans-serif')\n",
       "          .attr('font-size', options.font_size)\n",
       "          .attr(\n",
       "              'transform',\n",
       "              () => `translate(${options.margin},${\n",
       "                  - x_min + options.node_y_offset / 2 + options.margin})`);\n",
       "\n",
       "  // Plot bounding box.\n",
       "  if (options.show_plot_bounding_box) {\n",
       "    svg.append('rect')\n",
       "        .attr('width', width)\n",
       "        .attr('height', height)\n",
       "        .attr('fill', 'none')\n",
       "        .attr('stroke-width', 1.0)\n",
       "        .attr('stroke', 'black');\n",
       "  }\n",
       "\n",
       "  // Draw the edges.\n",
       "  display_edges(options, graph, tree_struct);\n",
       "\n",
       "  // Draw the nodes.\n",
       "  display_nodes(options, graph, tree_struct);\n",
       "}\n",
       "\n",
       "/**\n",
       " * Draw the nodes of the tree.\n",
       " * @param {!options} options Dictionary of configurations.\n",
       " * @param {!graph} graph D3 search handle containing the graph.\n",
       " * @param {!tree_struct} tree_struct Structure of the tree (node placement,\n",
       " *     data, etc.).\n",
       " */\n",
       "function display_nodes(options, graph, tree_struct) {\n",
       "  const nodes = graph.append('g')\n",
       "                    .selectAll('g')\n",
       "                    .data(tree_struct.descendants())\n",
       "                    .join('g')\n",
       "                    .attr('transform', d => `translate(${d.y},${d.x})`);\n",
       "\n",
       "  nodes.append('rect')\n",
       "      .attr('x', 0.5)\n",
       "      .attr('y', 0.5)\n",
       "      .attr('width', options.node_x_size)\n",
       "      .attr('height', options.node_y_size)\n",
       "      .attr('stroke', 'lightgrey')\n",
       "      .attr('stroke-width', 1)\n",
       "      .attr('fill', 'white')\n",
       "      .attr('y', -options.node_y_size / 2);\n",
       "\n",
       "  // Brackets on the right of condition nodes without children.\n",
       "  non_leaf_node_without_children =\n",
       "      nodes.filter(node => node.data.condition != null && node.children == null)\n",
       "          .append('g')\n",
       "          .attr('transform', `translate(${options.node_x_size},0)`);\n",
       "\n",
       "  non_leaf_node_without_children.append('path')\n",
       "      .attr('d', 'M0,0 C 10,0 0,10 10,10')\n",
       "      .attr('fill', 'none')\n",
       "      .attr('stroke-width', 1.0)\n",
       "      .attr('stroke', '#F00');\n",
       "\n",
       "  non_leaf_node_without_children.append('path')\n",
       "      .attr('d', 'M0,0 C 10,0 0,-10 10,-10')\n",
       "      .attr('fill', 'none')\n",
       "      .attr('stroke-width', 1.0)\n",
       "      .attr('stroke', '#0F0');\n",
       "\n",
       "  const node_content = nodes.append('g').attr(\n",
       "      'transform',\n",
       "      `translate(0,${options.node_padding - options.node_y_size / 2})`);\n",
       "\n",
       "  node_content.append(node => create_node_element(options, node));\n",
       "}\n",
       "\n",
       "/**\n",
       " * Creates the D3 content for a single node.\n",
       " * @param {!options} options Dictionary of configurations.\n",
       " * @param {!node} node Node to draw.\n",
       " * @return {!d3} D3 content.\n",
       " */\n",
       "function create_node_element(options, node) {\n",
       "  // Output accumulator.\n",
       "  let output = {\n",
       "    // Content to draw.\n",
       "    content: d3.create('svg:g'),\n",
       "    // Vertical offset to the next element to draw.\n",
       "    vertical_offset: 0\n",
       "  };\n",
       "\n",
       "  // Conditions.\n",
       "  if (node.data.condition != null) {\n",
       "    display_condition(options, node.data.condition, output);\n",
       "  }\n",
       "\n",
       "  // Values.\n",
       "  if (node.data.value != null) {\n",
       "    display_value(options, node.data.value, output);\n",
       "  }\n",
       "\n",
       "  // Explanations.\n",
       "  if (node.data.explanation != null) {\n",
       "    display_explanation(options, node.data.explanation, output);\n",
       "  }\n",
       "\n",
       "  return output.content.node();\n",
       "}\n",
       "\n",
       "\n",
       "/**\n",
       " * Adds a single line of text inside of a node.\n",
       " * @param {!options} options Dictionary of configurations.\n",
       " * @param {string} text Text to display.\n",
       " * @param {!output} output Output display accumulator.\n",
       " */\n",
       "function display_node_text(options, text, output) {\n",
       "  output.content.append('text')\n",
       "      .attr('x', options.node_padding)\n",
       "      .attr('y', output.vertical_offset)\n",
       "      .attr('alignment-baseline', 'hanging')\n",
       "      .text(text);\n",
       "  output.vertical_offset += 10;\n",
       "}\n",
       "\n",
       "/**\n",
       " * Adds a single line of text inside of a node with a tooltip.\n",
       " * @param {!options} options Dictionary of configurations.\n",
       " * @param {string} text Text to display.\n",
       " * @param {string} tooltip Text in the Tooltip.\n",
       " * @param {!output} output Output display accumulator.\n",
       " */\n",
       "function display_node_text_with_tooltip(options, text, tooltip, output) {\n",
       "  const item = output.content.append('text')\n",
       "                   .attr('x', options.node_padding)\n",
       "                   .attr('alignment-baseline', 'hanging')\n",
       "                   .text(text);\n",
       "\n",
       "  add_tooltip(options, item, () => tooltip);\n",
       "  output.vertical_offset += 10;\n",
       "}\n",
       "\n",
       "/**\n",
       " * Adds a tooltip to a dom element.\n",
       " * @param {!options} options Dictionary of configurations.\n",
       " * @param {!dom} target Dom element to equip with a tooltip.\n",
       " * @param {!func} get_content Generates the html content of the tooltip.\n",
       " */\n",
       "function add_tooltip(options, target, get_content) {\n",
       "  function show(d) {\n",
       "    options.tooltip.style('display', 'block');\n",
       "    options.tooltip.html(get_content());\n",
       "  }\n",
       "\n",
       "  function hide(d) {\n",
       "    options.tooltip.style('display', 'none');\n",
       "  }\n",
       "\n",
       "  function move(d) {\n",
       "    options.tooltip.style('display', 'block');\n",
       "    options.tooltip.style('left', (d.pageX + 5) + 'px');\n",
       "    options.tooltip.style('top', d.pageY + 'px');\n",
       "  }\n",
       "\n",
       "  target.on('mouseover', show);\n",
       "  target.on('mouseout', hide);\n",
       "  target.on('mousemove', move);\n",
       "}\n",
       "\n",
       "/**\n",
       " * Adds a condition inside of a node.\n",
       " * @param {!options} options Dictionary of configurations.\n",
       " * @param {!condition} condition Condition to display.\n",
       " * @param {!output} output Output display accumulator.\n",
       " */\n",
       "function display_condition(options, condition, output) {\n",
       "  threshold_format = d3.format('r');\n",
       "\n",
       "  if (condition.type === 'IS_MISSING') {\n",
       "    display_node_text(options, `${condition.attribute} is missing`, output);\n",
       "    return;\n",
       "  }\n",
       "\n",
       "  if (condition.type === 'IS_TRUE') {\n",
       "    display_node_text(options, `${condition.attribute} is true`, output);\n",
       "    return;\n",
       "  }\n",
       "\n",
       "  if (condition.type === 'NUMERICAL_IS_HIGHER_THAN') {\n",
       "    format = d3.format('r');\n",
       "    display_node_text(\n",
       "        options,\n",
       "        `${condition.attribute} >= ${threshold_format(condition.threshold)}`,\n",
       "        output);\n",
       "    return;\n",
       "  }\n",
       "\n",
       "  if (condition.type === 'CATEGORICAL_IS_IN') {\n",
       "    display_node_text_with_tooltip(\n",
       "        options, `${condition.attribute} in [...]`,\n",
       "        `${condition.attribute} in [${condition.mask}]`, output);\n",
       "    return;\n",
       "  }\n",
       "\n",
       "  if (condition.type === 'CATEGORICAL_SET_CONTAINS') {\n",
       "    display_node_text_with_tooltip(\n",
       "        options, `${condition.attribute} intersect [...]`,\n",
       "        `${condition.attribute} intersect [${condition.mask}]`, output);\n",
       "    return;\n",
       "  }\n",
       "\n",
       "  if (condition.type === 'NUMERICAL_SPARSE_OBLIQUE') {\n",
       "    display_node_text_with_tooltip(\n",
       "        options, `Sparse oblique split...`,\n",
       "        `[${condition.attributes}]*[${condition.weights}]>=${\n",
       "            threshold_format(condition.threshold)}`,\n",
       "        output);\n",
       "    return;\n",
       "  }\n",
       "\n",
       "  display_node_text(\n",
       "      options, `Non supported condition ${condition.type}`, output);\n",
       "}\n",
       "\n",
       "/**\n",
       " * Adds a value inside of a node.\n",
       " * @param {!options} options Dictionary of configurations.\n",
       " * @param {!value} value Value to display.\n",
       " * @param {!output} output Output display accumulator.\n",
       " */\n",
       "function display_value(options, value, output) {\n",
       "  if (value.type === 'PROBABILITY') {\n",
       "    const left_margin = 0;\n",
       "    const right_margin = 50;\n",
       "    const plot_width = options.node_x_size - options.node_padding * 2 -\n",
       "        left_margin - right_margin;\n",
       "\n",
       "    let cusum = Array.from(d3.cumsum(value.distribution));\n",
       "    cusum.unshift(0);\n",
       "    const distribution_plot = output.content.append('g').attr(\n",
       "        'transform', `translate(0,${output.vertical_offset + 0.5})`);\n",
       "\n",
       "    distribution_plot.selectAll('rect')\n",
       "        .data(value.distribution)\n",
       "        .join('rect')\n",
       "        .attr('height', 10)\n",
       "        .attr(\n",
       "            'x',\n",
       "            (d, i) =>\n",
       "                (cusum[i] * plot_width + left_margin + options.node_padding))\n",
       "        .attr('width', (d, i) => d * plot_width)\n",
       "        .style('fill', (d, i) => d3.schemeSet1[i]);\n",
       "\n",
       "    const num_examples =\n",
       "        output.content.append('g')\n",
       "            .attr('transform', `translate(0,${output.vertical_offset})`)\n",
       "            .append('text')\n",
       "            .attr('x', options.node_x_size - options.node_padding)\n",
       "            .attr('alignment-baseline', 'hanging')\n",
       "            .attr('text-anchor', 'end')\n",
       "            .text(`(${value.num_examples})`);\n",
       "\n",
       "    const distribution_details = d3.create('ul');\n",
       "    distribution_details.selectAll('li')\n",
       "        .data(value.distribution)\n",
       "        .join('li')\n",
       "        .append('span')\n",
       "        .text(\n",
       "            (d, i) =>\n",
       "                'class ' + i + ': ' + d3.format('.3%')(value.distribution[i]));\n",
       "\n",
       "    add_tooltip(options, distribution_plot, () => distribution_details.html());\n",
       "    add_tooltip(options, num_examples, () => 'Number of examples');\n",
       "\n",
       "    output.vertical_offset += 10;\n",
       "    return;\n",
       "  }\n",
       "\n",
       "  if (value.type === 'REGRESSION') {\n",
       "    display_node_text(\n",
       "        options,\n",
       "        'value: ' + d3.format('r')(value.value) + ` (` +\n",
       "            d3.format('.6')(value.num_examples) + `)`,\n",
       "        output);\n",
       "    return;\n",
       "  }\n",
       "\n",
       "  display_node_text(options, `Non supported value ${value.type}`, output);\n",
       "}\n",
       "\n",
       "/**\n",
       " * Adds an explanation inside of a node.\n",
       " * @param {!options} options Dictionary of configurations.\n",
       " * @param {!explanation} explanation Explanation to display.\n",
       " * @param {!output} output Output display accumulator.\n",
       " */\n",
       "function display_explanation(options, explanation, output) {\n",
       "  // Margin before the explanation.\n",
       "  output.vertical_offset += 10;\n",
       "\n",
       "  display_node_text(\n",
       "      options, `Non supported explanation ${explanation.type}`, output);\n",
       "}\n",
       "\n",
       "\n",
       "/**\n",
       " * Draw the edges of the tree.\n",
       " * @param {!options} options Dictionary of configurations.\n",
       " * @param {!graph} graph D3 search handle containing the graph.\n",
       " * @param {!tree_struct} tree_struct Structure of the tree (node placement,\n",
       " *     data, etc.).\n",
       " */\n",
       "function display_edges(options, graph, tree_struct) {\n",
       "  // Draw an edge between a parent and a child node with a bezier.\n",
       "  function draw_single_edge(d) {\n",
       "    return 'M' + (d.source.y + options.node_x_size) + ',' + d.source.x + ' C' +\n",
       "        (d.source.y + options.node_x_size + options.edge_rounding) + ',' +\n",
       "        d.source.x + ' ' + (d.target.y - options.edge_rounding) + ',' +\n",
       "        d.target.x + ' ' + d.target.y + ',' + d.target.x;\n",
       "  }\n",
       "\n",
       "  graph.append('g')\n",
       "      .attr('fill', 'none')\n",
       "      .attr('stroke-width', 1.2)\n",
       "      .selectAll('path')\n",
       "      .data(tree_struct.links())\n",
       "      .join('path')\n",
       "      .attr('d', draw_single_edge)\n",
       "      .attr(\n",
       "          'stroke', d => (d.target === d.source.children[0]) ? '#0F0' : '#F00');\n",
       "}\n",
       "\n",
       "display_tree({\"margin\": 10, \"node_x_size\": 160, \"node_y_size\": 28, \"node_x_offset\": 180, \"node_y_offset\": 33, \"font_size\": 10, \"edge_rounding\": 20, \"node_padding\": 2, \"show_plot_bounding_box\": false}, {\"value\": {\"type\": \"REGRESSION\", \"value\": 6.732491493225098, \"num_examples\": 871.0, \"standard_deviation\": 5.70944697172549}, \"condition\": {\"type\": \"NUMERICAL_IS_HIGHER_THAN\", \"attribute\": \"P05060\", \"threshold\": 112480.5}, \"children\": [{\"value\": {\"type\": \"REGRESSION\", \"value\": 6.338308334350586, \"num_examples\": 804.0, \"standard_deviation\": 5.466995056667782}, \"condition\": {\"type\": \"NUMERICAL_IS_HIGHER_THAN\", \"attribute\": \"O14773\", \"threshold\": 43589.796875}, \"children\": [{\"value\": {\"type\": \"REGRESSION\", \"value\": 21.16666603088379, \"num_examples\": 6.0, \"standard_deviation\": 2.7335365778094554}}, {\"value\": {\"type\": \"REGRESSION\", \"value\": 6.2268171310424805, \"num_examples\": 798.0, \"standard_deviation\": 5.328312107873144}, \"condition\": {\"type\": \"NUMERICAL_IS_HIGHER_THAN\", \"attribute\": \"DYVSQFEGSALGK\", \"threshold\": 574486.0}, \"children\": [{\"value\": {\"type\": \"REGRESSION\", \"value\": 13.05555534362793, \"num_examples\": 18.0, \"standard_deviation\": 5.461707325880823}, \"condition\": {\"type\": \"NUMERICAL_IS_HIGHER_THAN\", \"attribute\": \"Q99832\", \"threshold\": 45124.125}}, {\"value\": {\"type\": \"REGRESSION\", \"value\": 6.069230556488037, \"num_examples\": 780.0, \"standard_deviation\": 5.220799322146963}, \"condition\": {\"type\": \"NUMERICAL_IS_HIGHER_THAN\", \"attribute\": \"NVVYTC(UniMod_4)NEGYSLIGNPVAR\", \"threshold\": 1621.375}}]}]}, {\"value\": {\"type\": \"REGRESSION\", \"value\": 11.462686538696289, \"num_examples\": 67.0, \"standard_deviation\": 6.393392947361503}, \"condition\": {\"type\": \"NUMERICAL_IS_HIGHER_THAN\", \"attribute\": \"AYQGVAAPFPK\", \"threshold\": 33776.3515625}, \"children\": [{\"value\": {\"type\": \"REGRESSION\", \"value\": 9.208333015441895, \"num_examples\": 48.0, \"standard_deviation\": 4.890289414293959}, \"condition\": {\"type\": \"NUMERICAL_IS_HIGHER_THAN\", \"attribute\": \"NILTSNNIDVK\", \"threshold\": 188831.0}, \"children\": [{\"value\": {\"type\": \"REGRESSION\", \"value\": 8.255813598632812, \"num_examples\": 43.0, \"standard_deviation\": 3.8464300770298316}, \"condition\": {\"type\": \"NUMERICAL_IS_HIGHER_THAN\", \"attribute\": \"P04275\", \"threshold\": 418890.5}}, {\"value\": {\"type\": \"REGRESSION\", \"value\": 17.399999618530273, \"num_examples\": 5.0, \"standard_deviation\": 5.238320341483518}}]}, {\"value\": {\"type\": \"REGRESSION\", \"value\": 17.157894134521484, \"num_examples\": 19.0, \"standard_deviation\": 6.200705884220273}, \"condition\": {\"type\": \"NUMERICAL_IS_HIGHER_THAN\", \"attribute\": \"NKFDPSLTQR\", \"threshold\": 34923.3984375}, \"children\": [{\"value\": {\"type\": \"REGRESSION\", \"value\": 20.83333396911621, \"num_examples\": 12.0, \"standard_deviation\": 3.387066905483597}, \"condition\": {\"type\": \"NUMERICAL_IS_HIGHER_THAN\", \"attribute\": \"TVAAPSVFIFPPSDEQLK\", \"threshold\": 1056872.5}}, {\"value\": {\"type\": \"REGRESSION\", \"value\": 10.857142448425293, \"num_examples\": 7.0, \"standard_deviation\": 4.672979209656037}}]}]}]}, \"#tree_plot_5b890f92345741cbbc1e977eec366328\")\n",
       "</script>\n"
      ],
      "text/plain": [
       "<IPython.core.display.HTML object>"
      ]
     },
     "execution_count": 38,
     "metadata": {},
     "output_type": "execute_result"
    }
   ],
   "source": [
    "# Let us use the model for the label `updrs_1` for this purpose\n",
    "tfdf.model_plotter.plot_model_in_colab(model_dict['updrs_1'], tree_idx=0, max_depth=3)"
   ]
  },
  {
   "cell_type": "code",
   "execution_count": null,
   "id": "8d5d3eda",
   "metadata": {
    "papermill": {
     "duration": 0.033087,
     "end_time": "2023-05-14T03:58:01.836023",
     "exception": false,
     "start_time": "2023-05-14T03:58:01.802936",
     "status": "completed"
    },
    "tags": []
   },
   "outputs": [],
   "source": []
  },
  {
   "cell_type": "markdown",
   "id": "aa7a70a7",
   "metadata": {
    "papermill": {
     "duration": 0.033027,
     "end_time": "2023-05-14T03:58:01.902489",
     "exception": false,
     "start_time": "2023-05-14T03:58:01.869462",
     "status": "completed"
    },
    "tags": []
   },
   "source": [
    "# Evaluate the model on the Out of bag (OOB) data and the validation dataset\n",
    "\n",
    "Before training the dataset we have manually seperated 20% of the dataset for validation named as `valid_ds`.\n",
    "\n",
    "We can also use Out of bag (OOB) score to validate our RandomForestModel.\n",
    "To train a Random Forest Model, a set of random samples from training set are choosen by the algorithm and the rest of the samples are used to finetune the model.The subset of data that is not chosen is known as Out of bag data (OOB).\n",
    "OOB score is computed on the OOB data.\n",
    "\n",
    "Read more about OOB data [here](https://developers.google.com/machine-learning/decision-forests/out-of-bag).\n",
    "\n",
    "The training logs show the Root Mean Squared Error (RMSE) evaluated on the out-of-bag dataset according to the number of trees in the model. Let us plot this.\n",
    "\n",
    "Note: Smaller values are better for this hyperparameter.\n",
    "\n",
    "Let us pick one model from `model_dict` dict and plot the OOB evaluation accuracies."
   ]
  },
  {
   "cell_type": "code",
   "execution_count": 39,
   "id": "9ce34022",
   "metadata": {
    "execution": {
     "iopub.execute_input": "2023-05-14T03:58:01.973237Z",
     "iopub.status.busy": "2023-05-14T03:58:01.972381Z",
     "iopub.status.idle": "2023-05-14T03:58:02.241365Z",
     "shell.execute_reply": "2023-05-14T03:58:02.240127Z"
    },
    "papermill": {
     "duration": 0.306832,
     "end_time": "2023-05-14T03:58:02.244016",
     "exception": false,
     "start_time": "2023-05-14T03:58:01.937184",
     "status": "completed"
    },
    "tags": []
   },
   "outputs": [
    {
     "data": {
      "image/png": "[encoded data removed]",
      "text/plain": [
       "<Figure size 640x480 with 1 Axes>"
      ]
     },
     "metadata": {},
     "output_type": "display_data"
    }
   ],
   "source": [
    "import matplotlib.pyplot as plt\n",
    "\n",
    "# Let us use the model for the label `updrs_1` for this purpose\n",
    "logs = model_dict['updrs_1'].make_inspector().training_logs()\n",
    "plt.plot([log.num_trees for log in logs], [log.evaluation.rmse for log in logs])\n",
    "plt.xlabel(\"Number of trees\")\n",
    "plt.ylabel(\"MSE (out-of-bag)\")\n",
    "plt.show()"
   ]
  },
  {
   "cell_type": "markdown",
   "id": "9a00eb17",
   "metadata": {
    "papermill": {
     "duration": 0.033469,
     "end_time": "2023-05-14T03:58:02.311878",
     "exception": false,
     "start_time": "2023-05-14T03:58:02.278409",
     "status": "completed"
    },
    "tags": []
   },
   "source": [
    "# Variable importances\n",
    "\n",
    "Variable importances generally indicate how much a feature contributes to the model predictions or quality. There are several ways to identify important features using TensorFlow Decision Forests. Let us pick one model from models dict and inspect it.\n",
    "\n",
    "Let us list the available Variable Importances for Decision Trees:"
   ]
  },
  {
   "cell_type": "code",
   "execution_count": 40,
   "id": "938c545c",
   "metadata": {
    "execution": {
     "iopub.execute_input": "2023-05-14T03:58:02.383818Z",
     "iopub.status.busy": "2023-05-14T03:58:02.383359Z",
     "iopub.status.idle": "2023-05-14T03:58:02.416408Z",
     "shell.execute_reply": "2023-05-14T03:58:02.415501Z"
    },
    "papermill": {
     "duration": 0.072522,
     "end_time": "2023-05-14T03:58:02.419021",
     "exception": false,
     "start_time": "2023-05-14T03:58:02.346499",
     "status": "completed"
    },
    "tags": []
   },
   "outputs": [
    {
     "name": "stdout",
     "output_type": "stream",
     "text": [
      "Available variable importances:\n",
      "\t SUM_SCORE\n",
      "\t INV_MEAN_MIN_DEPTH\n",
      "\t NUM_NODES\n",
      "\t NUM_AS_ROOT\n"
     ]
    }
   ],
   "source": [
    "# Let us use the model for the label `updrs_1` for this purpose\n",
    "inspector = model_dict['updrs_1'].make_inspector()\n",
    "\n",
    "print(f\"Available variable importances:\")\n",
    "for importance in inspector.variable_importances().keys():\n",
    "  print(\"\\t\", importance)"
   ]
  },
  {
   "cell_type": "markdown",
   "id": "3a4a7a13",
   "metadata": {
    "papermill": {
     "duration": 0.034453,
     "end_time": "2023-05-14T03:58:02.489169",
     "exception": false,
     "start_time": "2023-05-14T03:58:02.454716",
     "status": "completed"
    },
    "tags": []
   },
   "source": [
    "As an example, let us display the important features for the Variable Importance NUM_AS_ROOT.\n",
    "\n",
    "The larger the importance score for NUM_AS_ROOT, the more impact it has on the outcome of the model for Question 1(i.e., model\\[\"0-4_1\"\\]).\n",
    "\n",
    "By default, the list is sorted from the most important to the least. From the output you can infer that the feature at the top of the list is used as the root node in most number of trees in the gradient boosted trees  than any other feature."
   ]
  },
  {
   "cell_type": "code",
   "execution_count": 41,
   "id": "0ff3e0d6",
   "metadata": {
    "execution": {
     "iopub.execute_input": "2023-05-14T03:58:02.561018Z",
     "iopub.status.busy": "2023-05-14T03:58:02.560289Z",
     "iopub.status.idle": "2023-05-14T03:58:02.589550Z",
     "shell.execute_reply": "2023-05-14T03:58:02.588396Z"
    },
    "papermill": {
     "duration": 0.068523,
     "end_time": "2023-05-14T03:58:02.592556",
     "exception": false,
     "start_time": "2023-05-14T03:58:02.524033",
     "status": "completed"
    },
    "tags": []
   },
   "outputs": [
    {
     "data": {
      "text/plain": [
       "[(\"P04180\" (1; #703), 29.0),\n",
       " (\"P61916\" (1; #801), 25.0),\n",
       " (\"P05060\" (1; #712), 24.0),\n",
       " (\"NLREGTC(UniMod_4)PEAPTDEC(UniMod_4)KPVK\" (1; #609), 18.0),\n",
       " (\"QQTHMLDVMQDHFSR\" (1; #888), 12.0),\n",
       " (\"P07602\" (1; #729), 11.0),\n",
       " (\"Q06481\" (1; #810), 11.0),\n",
       " (\"FFLC(UniMod_4)QVAGDAK\" (1; #230), 9.0),\n",
       " (\"NVVYTC(UniMod_4)NEGYSLIGNPVAR\" (1; #627), 9.0),\n",
       " (\"P09486\" (1; #743), 9.0),\n",
       " (\"P14618\" (1; #760), 8.0),\n",
       " (\"NTGIIC(UniMod_4)TIGPASR\" (1; #625), 6.0),\n",
       " (\"O14773\" (1; #633), 6.0),\n",
       " (\"P09871\" (1; #744), 5.0),\n",
       " (\"RPGGEPSPEGTTGQSYNQYSQR\" (1; #912), 5.0),\n",
       " (\"EVNVSPC(UniMod_4)PTQPC(UniMod_4)QLSK\" (1; #217), 4.0),\n",
       " (\"P05067\" (1; #713), 4.0),\n",
       " (\"P13591\" (1; #754), 4.0),\n",
       " (\"Q6UXB8\" (1; #829), 4.0),\n",
       " (\"SELEEQLTPVAEETR\" (1; #938), 4.0),\n",
       " (\"SSGLVSNAPGVQIR\" (1; #988), 4.0),\n",
       " (\"C(UniMod_4)REILSVDC(UniMod_4)STNNPSQAK\" (1; #119), 3.0),\n",
       " (\"GEAGAPGEEDIQGPTK\" (1; #280), 3.0),\n",
       " (\"LFGGNFAHQASVAR\" (1; #483), 3.0),\n",
       " (\"O00533\" (1; #630), 3.0),\n",
       " (\"P08571\" (1; #738), 3.0),\n",
       " (\"P23142\" (1; #775), 3.0),\n",
       " (\"AVLPTGDVIGDSAK\" (1; #84), 2.0),\n",
       " (\"DSGEGDFLAEGGGVR\" (1; #162), 2.0),\n",
       " (\"EPQVYTLPPSRDELTK\" (1; #205), 2.0),\n",
       " (\"ISYGNDALMPSLTETK\" (1; #395), 2.0),\n",
       " (\"LEEQAQQIR\" (1; #475), 2.0),\n",
       " (\"LMVELHNLYR\" (1; #518), 2.0),\n",
       " (\"M(UniMod_35)C(UniMod_4)PQLQQYEMHGPEGLR\" (1; #566), 2.0),\n",
       " (\"NILTSNNIDVK\" (1; #601), 2.0),\n",
       " (\"P17174\" (1; #765), 2.0),\n",
       " (\"TTPEPC(UniMod_4)ELDDEDFR\" (1; #1068), 2.0),\n",
       " (\"VLSIAQAHSPAFSC(UniMod_4)EQVR\" (1; #1115), 2.0),\n",
       " (\"AATVGSLAGQPLQER\" (1; #5), 1.0),\n",
       " (\"ADDKETC(UniMod_4)FAEEGK\" (1; #7), 1.0),\n",
       " (\"AKLEEQAQQIR\" (1; #32), 1.0),\n",
       " (\"ATEDEGSEQKIPEATNR\" (1; #71), 1.0),\n",
       " (\"C(UniMod_4)APFFYGGC(UniMod_4)GGNR\" (1; #93), 1.0),\n",
       " (\"C(UniMod_4)STSSLLEAC(UniMod_4)TFR\" (1; #120), 1.0),\n",
       " (\"DTINLLDQR\" (1; #168), 1.0),\n",
       " (\"DTVIKPLLVEPEGLEK\" (1; #170), 1.0),\n",
       " (\"EFQLFSSPHGK\" (1; #184), 1.0),\n",
       " (\"EGDMLTLFDGDGPSAR\" (1; #186), 1.0),\n",
       " (\"EGTC(UniMod_4)PEAPTDEC(UniMod_4)KPVK\" (1; #188), 1.0),\n",
       " (\"EILSVDC(UniMod_4)STNNPSQAK\" (1; #193), 1.0),\n",
       " (\"ELDESLQVAER\" (1; #198), 1.0),\n",
       " (\"ESAYLYAR\" (1; #211), 1.0),\n",
       " (\"FSC(UniMod_4)MC(UniMod_4)PQGYQVVR\" (1; #251), 1.0),\n",
       " (\"FVEGLPINDFSR\" (1; #264), 1.0),\n",
       " (\"GEAAGAVQELAR\" (1; #279), 1.0),\n",
       " (\"GRTC(UniMod_4)PKPDDLPFSTVVPLK\" (1; #308), 1.0),\n",
       " (\"GSPAINVAVHVFRK\" (1; #314), 1.0),\n",
       " (\"IALVITDGR\" (1; #353), 1.0),\n",
       " (\"KATEDEGSEQKIPEATNR\" (1; #410), 1.0),\n",
       " (\"KVEQAVETEPEPELR\" (1; #447), 1.0),\n",
       " (\"LGC(UniMod_4)SLNQNSVPDIHGVEAPAR\" (1; #486), 1.0),\n",
       " (\"LPPTSAHGNVAEGETKPDPDVTER\" (1; #520), 1.0),\n",
       " (\"LQAEAFQAR\" (1; #522), 1.0),\n",
       " (\"LQDLYSIVR\" (1; #523), 1.0),\n",
       " (\"LVYPSC(UniMod_4)EEK\" (1; #558), 1.0),\n",
       " (\"NFPPSQDASGDLYTTSSQLTLPATQC(UniMod_4)PDGK\" (1; #595), 1.0),\n",
       " (\"NIGEFC(UniMod_4)GK\" (1; #598), 1.0),\n",
       " (\"O14498\" (1; #632), 1.0),\n",
       " (\"P01857\" (1; #670), 1.0),\n",
       " (\"P01877\" (1; #675), 1.0),\n",
       " (\"P02787\" (1; #697), 1.0),\n",
       " (\"P08123\" (1; #733), 1.0),\n",
       " (\"P14314\" (1; #759), 1.0),\n",
       " (\"P16870\" (1; #764), 1.0),\n",
       " (\"Q14118\" (1; #820), 1.0),\n",
       " (\"Q6UXD5\" (1; #830), 1.0),\n",
       " (\"Q8IWV7\" (1; #833), 1.0),\n",
       " (\"QWAGLVEK\" (1; #897), 1.0),\n",
       " (\"SLGNVIMVC(UniMod_4)R\" (1; #966), 1.0),\n",
       " (\"SLNNQIETLLTPEGSR\" (1; #969), 1.0),\n",
       " (\"SPFEQHIK\" (1; #979), 1.0),\n",
       " (\"TGYYFDGISR\" (1; #1027), 1.0),\n",
       " (\"TQSSLVPALTDFVR\" (1; #1060), 1.0),\n",
       " (\"VLDLSC(UniMod_4)NR\" (1; #1110), 1.0),\n",
       " (\"VLNQELR\" (1; #1114), 1.0),\n",
       " (\"WC(UniMod_4)AVSEHEATK\" (1; #1152), 1.0),\n",
       " (\"WELALGR\" (1; #1154), 1.0)]"
      ]
     },
     "execution_count": 41,
     "metadata": {},
     "output_type": "execute_result"
    }
   ],
   "source": [
    "# Each line is: (feature name, (index of the feature), importance score)\n",
    "inspector.variable_importances()[\"NUM_AS_ROOT\"]"
   ]
  },
  {
   "cell_type": "markdown",
   "id": "260877f4",
   "metadata": {
    "papermill": {
     "duration": 0.034754,
     "end_time": "2023-05-14T03:58:02.662234",
     "exception": false,
     "start_time": "2023-05-14T03:58:02.627480",
     "status": "completed"
    },
    "tags": []
   },
   "source": [
    "# Submission"
   ]
  },
  {
   "cell_type": "code",
   "execution_count": 42,
   "id": "23c5debd",
   "metadata": {
    "execution": {
     "iopub.execute_input": "2023-05-14T03:58:02.736441Z",
     "iopub.status.busy": "2023-05-14T03:58:02.735993Z",
     "iopub.status.idle": "2023-05-14T03:58:02.771639Z",
     "shell.execute_reply": "2023-05-14T03:58:02.770750Z"
    },
    "papermill": {
     "duration": 0.075264,
     "end_time": "2023-05-14T03:58:02.774644",
     "exception": false,
     "start_time": "2023-05-14T03:58:02.699380",
     "status": "completed"
    },
    "tags": []
   },
   "outputs": [],
   "source": [
    "import amp_pd_peptide_310\n",
    "env = amp_pd_peptide_310.make_env()   # initialize the environment\n",
    "iter_test = env.iter_test()  "
   ]
  },
  {
   "cell_type": "code",
   "execution_count": 43,
   "id": "8128e381",
   "metadata": {
    "execution": {
     "iopub.execute_input": "2023-05-14T03:58:02.848715Z",
     "iopub.status.busy": "2023-05-14T03:58:02.848010Z",
     "iopub.status.idle": "2023-05-14T03:58:02.858438Z",
     "shell.execute_reply": "2023-05-14T03:58:02.857560Z"
    },
    "papermill": {
     "duration": 0.051502,
     "end_time": "2023-05-14T03:58:02.861252",
     "exception": false,
     "start_time": "2023-05-14T03:58:02.809750",
     "status": "completed"
    },
    "tags": []
   },
   "outputs": [],
   "source": [
    "def get_predictions(test_df, test_ds, model_dict):\n",
    "\n",
    "    # Target labels\n",
    "    target = [\"updrs_1\", \"updrs_2\", \"updrs_3\", \"updrs_4\"]\n",
    "    temp = test_df[FEATURES].copy()\n",
    "    \n",
    "    # Filter out all the 0 value columns before predicting\n",
    "    mask = test_df[FEATURES].sum(axis=1) != 0\n",
    "    new_test_df = temp.loc[mask]\n",
    "    test_ds = tfdf.keras.pd_dataframe_to_tf_dataset(new_test_df, task = tfdf.keras.Task.REGRESSION)\n",
    "    for u in target:\n",
    "        test_df['result_' + str(u)] = 0\n",
    "        if u != 'updrs_4':\n",
    "            print(model_dict[u])\n",
    "            test_df.loc[mask, 'result_' + str(u)] = model_dict[u].predict(test_ds)\n",
    "    \n",
    "    # Format for final submission\n",
    "    result = pd.DataFrame()\n",
    "\n",
    "    for m in [0, 6, 12, 24]:\n",
    "        for u in [1, 2, 3, 4]:\n",
    "\n",
    "            temp = test_df[[\"visit_id\", \"result_updrs_\" + str(u)]].copy()\n",
    "            temp[\"prediction_id\"] = temp[\"visit_id\"] + \"_updrs_\" + str(u) + \"_plus_\" + str(m) + \"_months\"\n",
    "            temp[\"rating\"] = temp[\"result_updrs_\" + str(u)]\n",
    "            temp = temp [['prediction_id', 'rating']]\n",
    "\n",
    "            result = result.append(temp)            \n",
    "    result = result.drop_duplicates(subset=['prediction_id', 'rating'])\n",
    "\n",
    "    return result"
   ]
  },
  {
   "cell_type": "code",
   "execution_count": 44,
   "id": "ec33a3d9",
   "metadata": {
    "execution": {
     "iopub.execute_input": "2023-05-14T03:58:02.934267Z",
     "iopub.status.busy": "2023-05-14T03:58:02.933557Z",
     "iopub.status.idle": "2023-05-14T03:59:13.340167Z",
     "shell.execute_reply": "2023-05-14T03:59:13.338825Z"
    },
    "papermill": {
     "duration": 70.447165,
     "end_time": "2023-05-14T03:59:13.343663",
     "exception": false,
     "start_time": "2023-05-14T03:58:02.896498",
     "status": "completed"
    },
    "tags": []
   },
   "outputs": [
    {
     "name": "stdout",
     "output_type": "stream",
     "text": [
      "This version of the API is not optimized and should not be used to estimate the runtime of your code on the hidden test set.\n",
      "<tensorflow_decision_forests.keras.RandomForestModel object at 0x7aa9ccba0850>\n",
      "1/1 [==============================] - 12s 12s/step\n",
      "<tensorflow_decision_forests.keras.RandomForestModel object at 0x7aa9cc9c5390>\n",
      "1/1 [==============================] - 10s 10s/step\n",
      "<tensorflow_decision_forests.keras.RandomForestModel object at 0x7aa9ae73de40>\n",
      "1/1 [==============================] - 10s 10s/step\n",
      "                    prediction_id     rating\n",
      "0    3342_0_updrs_1_plus_0_months   0.000000\n",
      "4   50423_0_updrs_1_plus_0_months   8.912311\n",
      "0    3342_0_updrs_2_plus_0_months   0.000000\n",
      "4   50423_0_updrs_2_plus_0_months   9.345358\n",
      "0    3342_0_updrs_3_plus_0_months   0.000000\n",
      "4   50423_0_updrs_3_plus_0_months  24.598812\n",
      "0    3342_0_updrs_4_plus_0_months   0.000000\n",
      "4   50423_0_updrs_4_plus_0_months   0.000000\n",
      "0    3342_0_updrs_1_plus_6_months   0.000000\n",
      "4   50423_0_updrs_1_plus_6_months   8.912311\n",
      "0    3342_0_updrs_2_plus_6_months   0.000000\n",
      "4   50423_0_updrs_2_plus_6_months   9.345358\n",
      "0    3342_0_updrs_3_plus_6_months   0.000000\n",
      "4   50423_0_updrs_3_plus_6_months  24.598812\n",
      "0    3342_0_updrs_4_plus_6_months   0.000000\n",
      "4   50423_0_updrs_4_plus_6_months   0.000000\n",
      "0   3342_0_updrs_1_plus_12_months   0.000000\n",
      "4  50423_0_updrs_1_plus_12_months   8.912311\n",
      "0   3342_0_updrs_2_plus_12_months   0.000000\n",
      "4  50423_0_updrs_2_plus_12_months   9.345358\n",
      "0   3342_0_updrs_3_plus_12_months   0.000000\n",
      "4  50423_0_updrs_3_plus_12_months  24.598812\n",
      "0   3342_0_updrs_4_plus_12_months   0.000000\n",
      "4  50423_0_updrs_4_plus_12_months   0.000000\n",
      "0   3342_0_updrs_1_plus_24_months   0.000000\n",
      "4  50423_0_updrs_1_plus_24_months   8.912311\n",
      "0   3342_0_updrs_2_plus_24_months   0.000000\n",
      "4  50423_0_updrs_2_plus_24_months   9.345358\n",
      "0   3342_0_updrs_3_plus_24_months   0.000000\n",
      "4  50423_0_updrs_3_plus_24_months  24.598812\n",
      "0   3342_0_updrs_4_plus_24_months   0.000000\n",
      "4  50423_0_updrs_4_plus_24_months   0.000000\n"
     ]
    },
    {
     "name": "stderr",
     "output_type": "stream",
     "text": [
      "/tmp/ipykernel_21/2111800362.py:28: FutureWarning: The frame.append method is deprecated and will be removed from pandas in a future version. Use pandas.concat instead.\n",
      "  result = result.append(temp)\n",
      "/tmp/ipykernel_21/2111800362.py:28: FutureWarning: The frame.append method is deprecated and will be removed from pandas in a future version. Use pandas.concat instead.\n",
      "  result = result.append(temp)\n",
      "/tmp/ipykernel_21/2111800362.py:28: FutureWarning: The frame.append method is deprecated and will be removed from pandas in a future version. Use pandas.concat instead.\n",
      "  result = result.append(temp)\n",
      "/tmp/ipykernel_21/2111800362.py:28: FutureWarning: The frame.append method is deprecated and will be removed from pandas in a future version. Use pandas.concat instead.\n",
      "  result = result.append(temp)\n",
      "/tmp/ipykernel_21/2111800362.py:28: FutureWarning: The frame.append method is deprecated and will be removed from pandas in a future version. Use pandas.concat instead.\n",
      "  result = result.append(temp)\n",
      "/tmp/ipykernel_21/2111800362.py:28: FutureWarning: The frame.append method is deprecated and will be removed from pandas in a future version. Use pandas.concat instead.\n",
      "  result = result.append(temp)\n",
      "/tmp/ipykernel_21/2111800362.py:28: FutureWarning: The frame.append method is deprecated and will be removed from pandas in a future version. Use pandas.concat instead.\n",
      "  result = result.append(temp)\n",
      "/tmp/ipykernel_21/2111800362.py:28: FutureWarning: The frame.append method is deprecated and will be removed from pandas in a future version. Use pandas.concat instead.\n",
      "  result = result.append(temp)\n",
      "/tmp/ipykernel_21/2111800362.py:28: FutureWarning: The frame.append method is deprecated and will be removed from pandas in a future version. Use pandas.concat instead.\n",
      "  result = result.append(temp)\n",
      "/tmp/ipykernel_21/2111800362.py:28: FutureWarning: The frame.append method is deprecated and will be removed from pandas in a future version. Use pandas.concat instead.\n",
      "  result = result.append(temp)\n",
      "/tmp/ipykernel_21/2111800362.py:28: FutureWarning: The frame.append method is deprecated and will be removed from pandas in a future version. Use pandas.concat instead.\n",
      "  result = result.append(temp)\n",
      "/tmp/ipykernel_21/2111800362.py:28: FutureWarning: The frame.append method is deprecated and will be removed from pandas in a future version. Use pandas.concat instead.\n",
      "  result = result.append(temp)\n",
      "/tmp/ipykernel_21/2111800362.py:28: FutureWarning: The frame.append method is deprecated and will be removed from pandas in a future version. Use pandas.concat instead.\n",
      "  result = result.append(temp)\n",
      "/tmp/ipykernel_21/2111800362.py:28: FutureWarning: The frame.append method is deprecated and will be removed from pandas in a future version. Use pandas.concat instead.\n",
      "  result = result.append(temp)\n",
      "/tmp/ipykernel_21/2111800362.py:28: FutureWarning: The frame.append method is deprecated and will be removed from pandas in a future version. Use pandas.concat instead.\n",
      "  result = result.append(temp)\n",
      "/tmp/ipykernel_21/2111800362.py:28: FutureWarning: The frame.append method is deprecated and will be removed from pandas in a future version. Use pandas.concat instead.\n",
      "  result = result.append(temp)\n"
     ]
    },
    {
     "name": "stdout",
     "output_type": "stream",
     "text": [
      "<tensorflow_decision_forests.keras.RandomForestModel object at 0x7aa9ccba0850>\n",
      "1/1 [==============================] - 11s 11s/step\n",
      "<tensorflow_decision_forests.keras.RandomForestModel object at 0x7aa9cc9c5390>\n",
      "1/1 [==============================] - 12s 12s/step\n",
      "<tensorflow_decision_forests.keras.RandomForestModel object at 0x7aa9ae73de40>\n",
      "1/1 [==============================] - 10s 10s/step\n",
      "                    prediction_id     rating\n",
      "0    3342_6_updrs_1_plus_0_months   5.673144\n",
      "4   50423_6_updrs_1_plus_0_months   5.684000\n",
      "0    3342_6_updrs_2_plus_0_months   5.003007\n",
      "4   50423_6_updrs_2_plus_0_months   2.835526\n",
      "0    3342_6_updrs_3_plus_0_months  18.648224\n",
      "4   50423_6_updrs_3_plus_0_months  13.588080\n",
      "0    3342_6_updrs_4_plus_0_months   0.000000\n",
      "4   50423_6_updrs_4_plus_0_months   0.000000\n",
      "0    3342_6_updrs_1_plus_6_months   5.673144\n",
      "4   50423_6_updrs_1_plus_6_months   5.684000\n",
      "0    3342_6_updrs_2_plus_6_months   5.003007\n",
      "4   50423_6_updrs_2_plus_6_months   2.835526\n",
      "0    3342_6_updrs_3_plus_6_months  18.648224\n",
      "4   50423_6_updrs_3_plus_6_months  13.588080\n",
      "0    3342_6_updrs_4_plus_6_months   0.000000\n",
      "4   50423_6_updrs_4_plus_6_months   0.000000\n",
      "0   3342_6_updrs_1_plus_12_months   5.673144\n",
      "4  50423_6_updrs_1_plus_12_months   5.684000\n",
      "0   3342_6_updrs_2_plus_12_months   5.003007\n",
      "4  50423_6_updrs_2_plus_12_months   2.835526\n",
      "0   3342_6_updrs_3_plus_12_months  18.648224\n",
      "4  50423_6_updrs_3_plus_12_months  13.588080\n",
      "0   3342_6_updrs_4_plus_12_months   0.000000\n",
      "4  50423_6_updrs_4_plus_12_months   0.000000\n",
      "0   3342_6_updrs_1_plus_24_months   5.673144\n",
      "4  50423_6_updrs_1_plus_24_months   5.684000\n",
      "0   3342_6_updrs_2_plus_24_months   5.003007\n",
      "4  50423_6_updrs_2_plus_24_months   2.835526\n",
      "0   3342_6_updrs_3_plus_24_months  18.648224\n",
      "4  50423_6_updrs_3_plus_24_months  13.588080\n",
      "0   3342_6_updrs_4_plus_24_months   0.000000\n",
      "4  50423_6_updrs_4_plus_24_months   0.000000\n"
     ]
    },
    {
     "name": "stderr",
     "output_type": "stream",
     "text": [
      "/tmp/ipykernel_21/2111800362.py:28: FutureWarning: The frame.append method is deprecated and will be removed from pandas in a future version. Use pandas.concat instead.\n",
      "  result = result.append(temp)\n",
      "/tmp/ipykernel_21/2111800362.py:28: FutureWarning: The frame.append method is deprecated and will be removed from pandas in a future version. Use pandas.concat instead.\n",
      "  result = result.append(temp)\n",
      "/tmp/ipykernel_21/2111800362.py:28: FutureWarning: The frame.append method is deprecated and will be removed from pandas in a future version. Use pandas.concat instead.\n",
      "  result = result.append(temp)\n",
      "/tmp/ipykernel_21/2111800362.py:28: FutureWarning: The frame.append method is deprecated and will be removed from pandas in a future version. Use pandas.concat instead.\n",
      "  result = result.append(temp)\n",
      "/tmp/ipykernel_21/2111800362.py:28: FutureWarning: The frame.append method is deprecated and will be removed from pandas in a future version. Use pandas.concat instead.\n",
      "  result = result.append(temp)\n",
      "/tmp/ipykernel_21/2111800362.py:28: FutureWarning: The frame.append method is deprecated and will be removed from pandas in a future version. Use pandas.concat instead.\n",
      "  result = result.append(temp)\n",
      "/tmp/ipykernel_21/2111800362.py:28: FutureWarning: The frame.append method is deprecated and will be removed from pandas in a future version. Use pandas.concat instead.\n",
      "  result = result.append(temp)\n",
      "/tmp/ipykernel_21/2111800362.py:28: FutureWarning: The frame.append method is deprecated and will be removed from pandas in a future version. Use pandas.concat instead.\n",
      "  result = result.append(temp)\n",
      "/tmp/ipykernel_21/2111800362.py:28: FutureWarning: The frame.append method is deprecated and will be removed from pandas in a future version. Use pandas.concat instead.\n",
      "  result = result.append(temp)\n",
      "/tmp/ipykernel_21/2111800362.py:28: FutureWarning: The frame.append method is deprecated and will be removed from pandas in a future version. Use pandas.concat instead.\n",
      "  result = result.append(temp)\n",
      "/tmp/ipykernel_21/2111800362.py:28: FutureWarning: The frame.append method is deprecated and will be removed from pandas in a future version. Use pandas.concat instead.\n",
      "  result = result.append(temp)\n",
      "/tmp/ipykernel_21/2111800362.py:28: FutureWarning: The frame.append method is deprecated and will be removed from pandas in a future version. Use pandas.concat instead.\n",
      "  result = result.append(temp)\n",
      "/tmp/ipykernel_21/2111800362.py:28: FutureWarning: The frame.append method is deprecated and will be removed from pandas in a future version. Use pandas.concat instead.\n",
      "  result = result.append(temp)\n",
      "/tmp/ipykernel_21/2111800362.py:28: FutureWarning: The frame.append method is deprecated and will be removed from pandas in a future version. Use pandas.concat instead.\n",
      "  result = result.append(temp)\n",
      "/tmp/ipykernel_21/2111800362.py:28: FutureWarning: The frame.append method is deprecated and will be removed from pandas in a future version. Use pandas.concat instead.\n",
      "  result = result.append(temp)\n",
      "/tmp/ipykernel_21/2111800362.py:28: FutureWarning: The frame.append method is deprecated and will be removed from pandas in a future version. Use pandas.concat instead.\n",
      "  result = result.append(temp)\n"
     ]
    }
   ],
   "source": [
    "# Reference: https://www.kaggle.com/code/xarispanagiotopoulos/linearregression-xgb/notebook\n",
    "\n",
    "for (test, test_peptides, test_proteins, sample_submission) in iter_test:\n",
    "    pro_pep_df = prepare_dataset(test_proteins, test_peptides)\n",
    "#     df_protein_grouped = train_proteins.groupby(['visit_id','UniProt'])['NPX'].mean().reset_index()\n",
    "#     df_peptide_grouped = train_peptides.groupby(['visit_id','Peptide'])['PeptideAbundance'].mean().reset_index()\n",
    "#     df_protein = df_protein_grouped.pivot(index='visit_id',columns = 'UniProt', values = 'NPX').rename_axis(columns=None).reset_index()\n",
    "#     df_peptide = df_peptide_grouped.pivot(index='visit_id',columns = 'Peptide', values = 'PeptideAbundance').rename_axis(columns=None).reset_index()\n",
    "#     pro_pep_df = df_protein.merge(df_peptide, on = ['visit_id'], how = 'left')\n",
    "\n",
    "\n",
    "    test_proteins = test_proteins.pivot(index=['visit_id', 'visit_month', 'patient_id'], \n",
    "              columns='UniProt', values='NPX').reset_index().rename_axis(None, axis=1).drop(columns=['visit_month', 'patient_id'])\n",
    "    merged_df = test.merge(test_proteins, how='left', on='visit_id')\n",
    "\n",
    "    test_df = test.merge(pro_pep_df, how='left', on='visit_id')\n",
    "    \n",
    "    # Add all the missing columns from FEATURES list and set the values as 0\n",
    "    for col in FEATURES:\n",
    "        if col not in test_df.columns:\n",
    "            test_df[col] = 0\n",
    "    test_df = test_df[['visit_id', 'patient_id'] + FEATURES]\n",
    "\n",
    "    test_ds = tfdf.keras.pd_dataframe_to_tf_dataset(test_df, task = tfdf.keras.Task.REGRESSION)\n",
    "    result = get_predictions(test_df, valid_ds, model_dict)\n",
    "    print(result)\n",
    "\n",
    "    env.predict(result)"
   ]
  },
  {
   "cell_type": "code",
   "execution_count": null,
   "id": "d1a4ecae",
   "metadata": {
    "papermill": {
     "duration": 0.036547,
     "end_time": "2023-05-14T03:59:13.416995",
     "exception": false,
     "start_time": "2023-05-14T03:59:13.380448",
     "status": "completed"
    },
    "tags": []
   },
   "outputs": [],
   "source": []
  }
 ],
 "metadata": {
  "kernelspec": {
   "display_name": "Python 3",
   "language": "python",
   "name": "python3"
  },
  "language_info": {
   "codemirror_mode": {
    "name": "ipython",
    "version": 3
   },
   "file_extension": ".py",
   "mimetype": "text/x-python",
   "name": "python",
   "nbconvert_exporter": "python",
   "pygments_lexer": "ipython3",
   "version": "3.10.10"
  },
  "papermill": {
   "default_parameters": {},
   "duration": 449.28388,
   "end_time": "2023-05-14T03:59:16.624756",
   "environment_variables": {},
   "exception": null,
   "input_path": "__notebook__.ipynb",
   "output_path": "__notebook__.ipynb",
   "parameters": {},
   "start_time": "2023-05-14T03:51:47.340876",
   "version": "2.4.0"
  }
 },
 "nbformat": 4,
 "nbformat_minor": 5
}
